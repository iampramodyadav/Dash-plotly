{
 "cells": [
  {
   "cell_type": "markdown",
   "id": "24073ba7",
   "metadata": {},
   "source": [
    "# cordinate transformation"
   ]
  },
  {
   "cell_type": "code",
   "execution_count": 1,
   "id": "bc24a58e",
   "metadata": {
    "ExecuteTime": {
     "end_time": "2023-04-15T16:06:51.288044Z",
     "start_time": "2023-04-15T16:06:50.979647Z"
    }
   },
   "outputs": [],
   "source": [
    "import numpy as np"
   ]
  },
  {
   "cell_type": "code",
   "execution_count": null,
   "id": "2c07d72f",
   "metadata": {},
   "outputs": [],
   "source": []
  },
  {
   "cell_type": "code",
   "execution_count": 2,
   "id": "105ffad9",
   "metadata": {
    "ExecuteTime": {
     "end_time": "2023-04-15T16:06:51.303482Z",
     "start_time": "2023-04-15T16:06:51.289301Z"
    }
   },
   "outputs": [
    {
     "data": {
      "text/plain": [
       "matrix([[1, 2, 3],\n",
       "        [3, 4, 5],\n",
       "        [3, 4, 5]])"
      ]
     },
     "execution_count": 2,
     "metadata": {},
     "output_type": "execute_result"
    }
   ],
   "source": [
    "Rx=np.matrix([[1, 2, 3], [3, 4, 5], [3, 4, 5]])\n",
    "Rx"
   ]
  },
  {
   "cell_type": "markdown",
   "id": "f1e31c74",
   "metadata": {
    "ExecuteTime": {
     "end_time": "2023-04-14T15:04:51.771186Z",
     "start_time": "2023-04-14T15:04:51.707838Z"
    }
   },
   "source": [
    "![matrix.png](matrix.png)"
   ]
  },
  {
   "cell_type": "code",
   "execution_count": 8,
   "id": "46830162",
   "metadata": {
    "ExecuteTime": {
     "end_time": "2023-04-16T10:57:31.369502Z",
     "start_time": "2023-04-16T10:57:31.347824Z"
    }
   },
   "outputs": [],
   "source": [
    "Xc=np.matrix([[1], [0], [0] ,[0]])\n",
    "theta_x=np.deg2rad(30)\n",
    "theta_y=np.deg2rad(30)\n",
    "theta_z=np.deg2rad(30)\n",
    "tx=3\n",
    "ty=4\n",
    "tz=5"
   ]
  },
  {
   "cell_type": "code",
   "execution_count": 9,
   "id": "76d12f58",
   "metadata": {
    "ExecuteTime": {
     "end_time": "2023-04-16T10:57:31.754925Z",
     "start_time": "2023-04-16T10:57:31.724850Z"
    }
   },
   "outputs": [
    {
     "name": "stdout",
     "output_type": "stream",
     "text": [
      "[[1 0 0 3]\n",
      " [0 1 0 4]\n",
      " [0 0 1 5]\n",
      " [0 0 0 1]]\n"
     ]
    }
   ],
   "source": [
    "t=np.matrix([[1, 0, 0 ,tx], [0, 1,0, ty], [0, 0, 1 ,tz],[0, 0, 0 ,1]])\n",
    "print(t)"
   ]
  },
  {
   "cell_type": "code",
   "execution_count": 10,
   "id": "51552870",
   "metadata": {
    "ExecuteTime": {
     "end_time": "2023-04-16T10:57:32.171869Z",
     "start_time": "2023-04-16T10:57:32.153730Z"
    }
   },
   "outputs": [
    {
     "name": "stdout",
     "output_type": "stream",
     "text": [
      "[[ 1.         0.         0.         0.       ]\n",
      " [ 0.         0.8660254 -0.5        0.       ]\n",
      " [ 0.         0.5        0.8660254  0.       ]\n",
      " [ 0.         0.         0.         1.       ]]\n"
     ]
    }
   ],
   "source": [
    "Rx=np.matrix([[1, 0, 0 ,0], [0, np.cos(theta_x), -np.sin(theta_x), 0], [0, np.sin(theta_x), np.cos(theta_x), 0],[0, 0, 0 ,1]])\n",
    "print(Rx)"
   ]
  },
  {
   "cell_type": "code",
   "execution_count": 11,
   "id": "afaa2f24",
   "metadata": {
    "ExecuteTime": {
     "end_time": "2023-04-16T10:57:32.637844Z",
     "start_time": "2023-04-16T10:57:32.625922Z"
    }
   },
   "outputs": [
    {
     "name": "stdout",
     "output_type": "stream",
     "text": [
      "[[ 0.8660254  0.         0.5        0.       ]\n",
      " [ 0.         1.         0.         0.       ]\n",
      " [-0.5        0.         0.8660254  0.       ]\n",
      " [ 0.         0.         0.         1.       ]]\n"
     ]
    }
   ],
   "source": [
    "Ry=np.matrix([[np.cos(theta_y), 0, np.sin(theta_y) ,0], [0, 1,0, 0], [-np.sin(theta_y), 0, np.cos(theta_y), 0],[0, 0, 0 ,1]])\n",
    "print(Ry)"
   ]
  },
  {
   "cell_type": "code",
   "execution_count": 14,
   "id": "f886a221",
   "metadata": {
    "ExecuteTime": {
     "end_time": "2023-04-16T10:58:07.771497Z",
     "start_time": "2023-04-16T10:58:07.755746Z"
    }
   },
   "outputs": [
    {
     "name": "stdout",
     "output_type": "stream",
     "text": [
      "[[ 0.8660254 -0.5        0.         0.       ]\n",
      " [ 0.5        0.8660254  0.         0.       ]\n",
      " [ 0.         0.         1.         0.       ]\n",
      " [ 0.         0.         0.         1.       ]]\n"
     ]
    }
   ],
   "source": [
    "Rz=np.matrix([[np.cos(theta_z), -np.sin(theta_z), 0 ,0], [np.sin(theta_z), np.cos(theta_z), 0, 0], [0, 0, 1 ,0],[0, 0, 0 ,1]])\n",
    "print(Rz)"
   ]
  },
  {
   "cell_type": "code",
   "execution_count": 17,
   "id": "b793a48f",
   "metadata": {
    "ExecuteTime": {
     "end_time": "2023-04-16T10:58:32.804080Z",
     "start_time": "2023-04-16T10:58:32.793015Z"
    }
   },
   "outputs": [
    {
     "data": {
      "text/plain": [
       "matrix([[ 0.75     ],\n",
       "        [ 0.4330127],\n",
       "        [-0.5      ],\n",
       "        [ 0.       ]])"
      ]
     },
     "execution_count": 17,
     "metadata": {},
     "output_type": "execute_result"
    }
   ],
   "source": [
    " np.matmul(np.matmul(Rz, Ry), np.matmul(Rx, Xc))"
   ]
  },
  {
   "cell_type": "code",
   "execution_count": 15,
   "id": "031163f2",
   "metadata": {
    "ExecuteTime": {
     "end_time": "2023-04-16T10:58:18.968550Z",
     "start_time": "2023-04-16T10:58:18.947759Z"
    }
   },
   "outputs": [
    {
     "data": {
      "text/plain": [
       "matrix([[ 0.75     ],\n",
       "        [ 0.4330127],\n",
       "        [-0.5      ],\n",
       "        [ 0.       ]])"
      ]
     },
     "execution_count": 15,
     "metadata": {},
     "output_type": "execute_result"
    }
   ],
   "source": [
    "Rz @ Ry @ Rx @ Xc"
   ]
  },
  {
   "cell_type": "code",
   "execution_count": 9,
   "id": "b7fa3a69",
   "metadata": {
    "ExecuteTime": {
     "end_time": "2023-04-15T16:06:51.410786Z",
     "start_time": "2023-04-15T16:06:51.401580Z"
    }
   },
   "outputs": [
    {
     "data": {
      "text/plain": [
       "matrix([[ 0.75      , -0.21650635,  0.625     ,  0.        ],\n",
       "        [ 0.4330127 ,  0.875     , -0.21650635,  0.        ],\n",
       "        [-0.5       ,  0.4330127 ,  0.75      ,  0.        ],\n",
       "        [ 0.        ,  0.        ,  0.        ,  1.        ]])"
      ]
     },
     "execution_count": 9,
     "metadata": {},
     "output_type": "execute_result"
    }
   ],
   "source": [
    "mm=np.matmul(Rz,Ry)\n",
    "np.matmul(mm,Rx)"
   ]
  },
  {
   "cell_type": "code",
   "execution_count": null,
   "id": "a74c846f",
   "metadata": {},
   "outputs": [],
   "source": []
  },
  {
   "cell_type": "markdown",
   "id": "dc22a6a2",
   "metadata": {},
   "source": [
    "---"
   ]
  },
  {
   "cell_type": "code",
   "execution_count": null,
   "id": "ec11d721",
   "metadata": {
    "ExecuteTime": {
     "end_time": "2023-04-15T06:05:12.037369Z",
     "start_time": "2023-04-15T06:05:11.981593Z"
    }
   },
   "outputs": [],
   "source": []
  },
  {
   "cell_type": "code",
   "execution_count": null,
   "id": "42b06d00",
   "metadata": {
    "ExecuteTime": {
     "end_time": "2023-04-15T11:03:45.872545Z",
     "start_time": "2023-04-15T11:03:45.808155Z"
    }
   },
   "outputs": [],
   "source": []
  },
  {
   "cell_type": "code",
   "execution_count": null,
   "id": "ed3149dd",
   "metadata": {},
   "outputs": [],
   "source": []
  },
  {
   "cell_type": "code",
   "execution_count": null,
   "id": "2caba6b2",
   "metadata": {
    "ExecuteTime": {
     "end_time": "2023-04-15T07:32:19.888329Z",
     "start_time": "2023-04-15T07:32:19.795135Z"
    }
   },
   "outputs": [],
   "source": []
  },
  {
   "cell_type": "markdown",
   "id": "c216b08b",
   "metadata": {},
   "source": [
    "---"
   ]
  },
  {
   "cell_type": "code",
   "execution_count": 10,
   "id": "c4fdfcf8",
   "metadata": {
    "ExecuteTime": {
     "end_time": "2023-04-15T16:06:51.441548Z",
     "start_time": "2023-04-15T16:06:51.414154Z"
    }
   },
   "outputs": [
    {
     "name": "stdout",
     "output_type": "stream",
     "text": [
      "[[1 0 0 0]\n",
      " [0 1 0 0]\n",
      " [0 0 1 0]\n",
      " [3 4 5 1]]\n",
      "[[ 1.         0.         0.         0.       ]\n",
      " [ 0.         0.8660254 -0.5        0.       ]\n",
      " [ 0.         0.5        0.8660254  0.       ]\n",
      " [ 0.         0.         0.         1.       ]]\n",
      "[[ 0.8660254  0.         0.5        0.       ]\n",
      " [ 0.         1.         0.         0.       ]\n",
      " [-0.5        0.         0.8660254  0.       ]\n",
      " [ 0.         0.         0.         1.       ]]\n",
      "[[ 0.8660254 -0.5        0.         0.       ]\n",
      " [ 0.5        0.8660254  0.         0.       ]\n",
      " [ 0.         0.         1.         0.       ]\n",
      " [ 0.         0.         0.         1.       ]]\n"
     ]
    },
    {
     "data": {
      "text/plain": [
       "matrix([[ 0.75     ],\n",
       "        [ 0.4330127],\n",
       "        [-0.5      ],\n",
       "        [ 3.       ]])"
      ]
     },
     "execution_count": 10,
     "metadata": {},
     "output_type": "execute_result"
    }
   ],
   "source": [
    "import numpy as np\n",
    "\n",
    "Xc=np.matrix([[1], [0], [0] ,[0]])\n",
    "theta_x=np.deg2rad(30)\n",
    "theta_y=np.deg2rad(30)\n",
    "theta_z=np.deg2rad(30)\n",
    "\n",
    "tx=3\n",
    "ty=4\n",
    "tz=5\n",
    "\n",
    "Tr=np.matrix([[1, 0, 0 ,0], [0, 1,0, 0], [0, 0, 1 ,0],[tx, ty, tz ,1]])\n",
    "print(Tr)\n",
    "\n",
    "Rx=np.matrix([[1, 0, 0 ,0], [0, np.cos(theta_x), -np.sin(theta_x), 0], [0, np.sin(theta_x), np.cos(theta_x), 0],[0, 0, 0 ,1]])\n",
    "print(Rx)\n",
    "\n",
    "Ry=np.matrix([[np.cos(theta_y), 0, np.sin(theta_y) ,0], [0, 1,0, 0], [-np.sin(theta_y), 0, np.cos(theta_y), 0],[0, 0, 0 ,1]])\n",
    "print(Ry)\n",
    "\n",
    "Rz=np.matrix([[np.cos(theta_z), -np.sin(theta_z), 0 ,0], [np.sin(theta_z), np.cos(theta_z), 0, 0], [0, 0, 1 ,0],[0, 0, 0 ,1]])\n",
    "print(Rz)\n",
    "\n",
    "Rz @ Ry @ Rx @ Tr @ Xc"
   ]
  },
  {
   "cell_type": "code",
   "execution_count": 11,
   "id": "d473bc34",
   "metadata": {
    "ExecuteTime": {
     "end_time": "2023-04-15T16:06:51.628262Z",
     "start_time": "2023-04-15T16:06:51.444472Z"
    }
   },
   "outputs": [
    {
     "ename": "NameError",
     "evalue": "name 'coordinateTransform' is not defined",
     "output_type": "error",
     "traceback": [
      "\u001b[1;31m---------------------------------------------------------------------------\u001b[0m",
      "\u001b[1;31mNameError\u001b[0m                                 Traceback (most recent call last)",
      "Cell \u001b[1;32mIn[11], line 1\u001b[0m\n\u001b[1;32m----> 1\u001b[0m Xf\u001b[38;5;241m=\u001b[39m\u001b[43mcoordinateTransform\u001b[49m(order\u001b[38;5;241m=\u001b[39m\u001b[38;5;124m'\u001b[39m\u001b[38;5;124mTXYZ\u001b[39m\u001b[38;5;124m'\u001b[39m, Tr\u001b[38;5;241m=\u001b[39m[\u001b[38;5;241m5\u001b[39m,\u001b[38;5;241m6\u001b[39m,\u001b[38;5;241m2\u001b[39m], a_x\u001b[38;5;241m=\u001b[39m\u001b[38;5;241m30\u001b[39m, a_y\u001b[38;5;241m=\u001b[39m\u001b[38;5;241m30\u001b[39m, a_z\u001b[38;5;241m=\u001b[39m\u001b[38;5;241m30\u001b[39m, point\u001b[38;5;241m=\u001b[39m[\u001b[38;5;241m1\u001b[39m,\u001b[38;5;241m0\u001b[39m,\u001b[38;5;241m0\u001b[39m])\n",
      "\u001b[1;31mNameError\u001b[0m: name 'coordinateTransform' is not defined"
     ]
    }
   ],
   "source": [
    "Xf=coordinateTransform(order='TXYZ', Tr=[5,6,2], a_x=30, a_y=30, a_z=30, point=[1,0,0])"
   ]
  },
  {
   "cell_type": "code",
   "execution_count": null,
   "id": "3ec659da",
   "metadata": {
    "ExecuteTime": {
     "end_time": "2023-04-15T16:06:51.640279Z",
     "start_time": "2023-04-15T16:06:51.640279Z"
    }
   },
   "outputs": [],
   "source": [
    "Xf"
   ]
  },
  {
   "cell_type": "code",
   "execution_count": null,
   "id": "99f07308",
   "metadata": {
    "ExecuteTime": {
     "end_time": "2023-04-15T16:06:51.642084Z",
     "start_time": "2023-04-15T16:06:51.642084Z"
    }
   },
   "outputs": [],
   "source": [
    "def orderMult(order):\n",
    "    MatDict={char: ord(char) for char in order}\n",
    "    MatDict={char: ord(char) for char in order}\n",
    "    print(MatDict)\n",
    "    MatDict['T'] = Tr\n",
    "    MatDict['X'] = Rx\n",
    "    MatDict['Y'] = Ry\n",
    "    MatDict['Z'] = Rz\n",
    "    keys = list(MatDict.keys())\n",
    "    print(keys)\n",
    "    val1=MatDict[keys[0]]\n",
    "    print(val1)\n",
    "    val2=MatDict[keys[1]]\n",
    "    val3=MatDict[keys[2]]\n",
    "    val4=MatDict[keys[3]]\n",
    "    #print(MatDict)\n",
    "    RotMat=val1 @ val2 @ val3 @ val4\n",
    "    return RotMat"
   ]
  },
  {
   "cell_type": "markdown",
   "id": "95e3d383",
   "metadata": {},
   "source": [
    "## Final code"
   ]
  },
  {
   "cell_type": "code",
   "execution_count": 86,
   "id": "58e112e0",
   "metadata": {
    "ExecuteTime": {
     "end_time": "2023-04-15T17:32:56.928393Z",
     "start_time": "2023-04-15T17:32:56.914357Z"
    }
   },
   "outputs": [],
   "source": [
    "def orderMult(order,Tr,Rx,Ry,Rz):\n",
    "    \n",
    "    MatDict = {char: ord(char) for char in order}\n",
    "    MatDict = {char: ord(char) for char in order}\n",
    "#     print(MatDict)\n",
    "    MatDict['T'] = Tr\n",
    "    MatDict['X'] = Rx\n",
    "    MatDict['Y'] = Ry\n",
    "    MatDict['Z'] = Rz\n",
    "    keys = list(MatDict.keys())\n",
    "#     print(keys)\n",
    "    val1 = MatDict[keys[0]]\n",
    "#     print(val1)\n",
    "    val2 = MatDict[keys[1]]\n",
    "#     print(val2)\n",
    "    val3 = MatDict[keys[2]]\n",
    "#     print(val3)\n",
    "    val4 = MatDict[keys[3]]\n",
    "#     print(MatDict)\n",
    "    RotMat = val4 @ val3 @ val2 @ val1\n",
    "#     print(RotMat)\n",
    "    return RotMat\n",
    "\n",
    "def coordinateTransform(order='TXYZ', Tra=[0,0,0], a_x=0, a_y=0, a_z=0, point=[0,0,0], type=1):\n",
    "    '''\n",
    "    Order = order of transformation and rotation \"TXYZ\"\n",
    "    Tra = Translation of a coordinate or point\n",
    "    a_x = anti-clockwise rotation along the x-axis\n",
    "    a_y = anti-clockwise rotation along the y-axis\n",
    "    a_z = anti-clockwise rotation along the z-axis\n",
    "    point = point coordinate\n",
    "    type = 1 & 2 (1: for coordinate transformation, 2: for point transformation)\n",
    "\n",
    "    '''\n",
    "    import numpy as np \n",
    "    Xc=np.matrix([[point[0]], [point[1]], [point[2]] ,[1]])\n",
    "    theta_x=np.deg2rad(a_x)\n",
    "    theta_y=np.deg2rad(a_y)\n",
    "    theta_z=np.deg2rad(a_z)\n",
    "    \n",
    "    if type==2:\n",
    "        tx= Tra[0]\n",
    "        ty= Tra[1]\n",
    "        tz= Tra[2]\n",
    "    elif type==1:\n",
    "        tx= Tra[0]*-1\n",
    "        ty= Tra[1]*-1\n",
    "        tz= Tra[2]*-1\n",
    "        theta_x=np.deg2rad(a_x)*-1\n",
    "        theta_y=np.deg2rad(a_y)*-1\n",
    "        theta_z=np.deg2rad(a_z)*-1\n",
    "    else:\n",
    "        print(\"Enter type=1: for coordinate tranformation & type=2: for point tranformation\")\n",
    "    \n",
    "    Tr = np.matrix([[1, 0, 0 ,tx], [0, 1,0, ty], [0, 0, 1 ,tz],[0, 0, 0 ,1]])\n",
    "#     print(Tr)  \n",
    "    Rx = np.matrix([[1, 0, 0 ,0], [0, np.cos(theta_x), -np.sin(theta_x), 0], [0, np.sin(theta_x), np.cos(theta_x), 0],[0, 0, 0 ,1]])\n",
    "#     print(Rx)\n",
    "    Ry = np.matrix([[np.cos(theta_y), 0, np.sin(theta_y) ,0], [0, 1,0, 0], [-np.sin(theta_y), 0, np.cos(theta_y), 0],[0, 0, 0 ,1]])\n",
    "#     print(Ry)\n",
    "    Rz = np.matrix([[np.cos(theta_z), -np.sin(theta_z), 0 ,0], [np.sin(theta_z), np.cos(theta_z), 0, 0], [0, 0, 1 ,0],[0, 0, 0 ,1]])\n",
    "#     print(Rz)\n",
    "    RotMat = orderMult(order,Tr,Rx,Ry,Rz)\n",
    "    \n",
    "    Xf = RotMat @ Xc\n",
    "    Xf=Xf[0:3].tolist()\n",
    "    return [Xf[0][0],Xf[1][0],Xf[2][0]]"
   ]
  },
  {
   "cell_type": "code",
   "execution_count": 82,
   "id": "7c213f87",
   "metadata": {
    "ExecuteTime": {
     "end_time": "2023-04-15T17:12:17.642599Z",
     "start_time": "2023-04-15T17:12:17.619576Z"
    }
   },
   "outputs": [
    {
     "data": {
      "text/plain": [
       "[-5.0, -6.0, -2.0]"
      ]
     },
     "execution_count": 82,
     "metadata": {},
     "output_type": "execute_result"
    }
   ],
   "source": [
    "Xf=coordinateTransform(order='TYZX', Tra=[5,6,2], a_x=0, a_y=0, a_z=0, point=[0,0,0],type=1)\n",
    "Xf"
   ]
  },
  {
   "cell_type": "code",
   "execution_count": 83,
   "id": "2b9a2e77",
   "metadata": {
    "ExecuteTime": {
     "end_time": "2023-04-15T17:12:20.066104Z",
     "start_time": "2023-04-15T17:12:20.055891Z"
    }
   },
   "outputs": [
    {
     "data": {
      "text/plain": [
       "[5.0, 6.0, 2.0]"
      ]
     },
     "execution_count": 83,
     "metadata": {},
     "output_type": "execute_result"
    }
   ],
   "source": [
    "Xf=coordinateTransform(order='TYZX', Tra=[5,6,2], a_x=0, a_y=0, a_z=0, point=[0,0,0],type=2)\n",
    "Xf"
   ]
  },
  {
   "cell_type": "code",
   "execution_count": 85,
   "id": "7301ba58",
   "metadata": {
    "ExecuteTime": {
     "end_time": "2023-04-15T17:17:00.313725Z",
     "start_time": "2023-04-15T17:17:00.302576Z"
    }
   },
   "outputs": [
    {
     "data": {
      "text/plain": [
       "[1.4142135623730951, 0.0, 1.0]"
      ]
     },
     "execution_count": 85,
     "metadata": {},
     "output_type": "execute_result"
    }
   ],
   "source": [
    "Xf=coordinateTransform(order='TYZX', Tra=[0,0,0], a_x=0, a_y=0, a_z=45, point=[1,1,1])\n",
    "Xf"
   ]
  },
  {
   "cell_type": "markdown",
   "id": "3b1ececd",
   "metadata": {},
   "source": [
    "## Show triad"
   ]
  },
  {
   "cell_type": "code",
   "execution_count": 14,
   "id": "eb5ba701",
   "metadata": {
    "ExecuteTime": {
     "end_time": "2023-04-15T16:07:12.043220Z",
     "start_time": "2023-04-15T16:07:11.140511Z"
    }
   },
   "outputs": [
    {
     "data": {
      "image/png": "[encoded data removed]",
      "text/plain": [
       "<Figure size 640x480 with 1 Axes>"
      ]
     },
     "metadata": {},
     "output_type": "display_data"
    }
   ],
   "source": [
    "import numpy as np\n",
    "import matplotlib.pyplot as plt\n",
    "from mpl_toolkits.mplot3d import Axes3D\n",
    "from ipywidgets import interact, FloatSlider, Layout\n",
    "from matplotlib.patches import FancyArrowPatch\n",
    "# create a 3D plot\n",
    "fig = plt.figure()\n",
    "ax = fig.add_subplot(111, projection='3d')\n",
    "\n",
    "# plot the X-axis\n",
    "ax.plot([0, 1], [0, 0], [0, 0], c='r')\n",
    "ax.text(1.1, 0, 0, '$X_0$', color='r')\n",
    "# plot the Y-axis\n",
    "ax.plot([0, 0], [0, 1], [0, 0], c='g')\n",
    "ax.text(0, 1.1, 0, '$Y_0$', color='g')\n",
    "# plot the Z-axis\n",
    "ax.plot([0, 0], [0, 0], [0, 1], c='b')\n",
    "ax.text(0, 0, 1.1, '$Z_0$', color='b')\n",
    "\n",
    "#####################\n",
    "# plot the X-axis\n",
    "ax.plot([10, 2], [1, 0], [1, 0], c='r')\n",
    "# ax.text(1.1, 0, 0, 'X', color='r')\n",
    "\n",
    "# plot the Y-axis\n",
    "ax.plot([10, 0], [1, 2], [1, 0], c='g')\n",
    "# ax.text(0, 1.1, 0, 'Y', color='g')\n",
    "\n",
    "# plot the Z-axis\n",
    "ax.plot([10, 0], [1, 0], [1, 2], c='b')\n",
    "# ax.text(0, 0, 1.1, 'Zngfn', color='b')\n",
    "#####################\n",
    "# set the labels for the axes\n",
    "# ax.set_xlabel('X')\n",
    "# ax.set_ylabel('Y')\n",
    "# ax.set_zlabel('Z')\n",
    "# ax.set_axis_off()\n",
    "# show the plot\n",
    "# ax.view_init(azim=20, elev=10)\n",
    "plt.show()\n"
   ]
  },
  {
   "cell_type": "markdown",
   "id": "a7397050",
   "metadata": {},
   "source": [
    "## Final Triad Printing"
   ]
  },
  {
   "cell_type": "code",
   "execution_count": 15,
   "id": "98846c94",
   "metadata": {
    "ExecuteTime": {
     "end_time": "2023-04-15T16:07:13.578553Z",
     "start_time": "2023-04-15T16:07:13.563697Z"
    }
   },
   "outputs": [],
   "source": [
    "order='TXYZ'\n",
    "Tra=[-5,-6,-2]\n",
    "a_x=0\n",
    "a_y=0\n",
    "a_z=0\n",
    "\n",
    "\n"
   ]
  },
  {
   "cell_type": "code",
   "execution_count": 31,
   "id": "ffaa8069",
   "metadata": {
    "ExecuteTime": {
     "end_time": "2023-04-15T16:33:25.695672Z",
     "start_time": "2023-04-15T16:33:25.606954Z"
    },
    "scrolled": false
   },
   "outputs": [
    {
     "data": {
      "text/html": [
       "<div>\n",
       "<style scoped>\n",
       "    .dataframe tbody tr th:only-of-type {\n",
       "        vertical-align: middle;\n",
       "    }\n",
       "\n",
       "    .dataframe tbody tr th {\n",
       "        vertical-align: top;\n",
       "    }\n",
       "\n",
       "    .dataframe thead th {\n",
       "        text-align: right;\n",
       "    }\n",
       "</style>\n",
       "<table border=\"1\" class=\"dataframe\">\n",
       "  <thead>\n",
       "    <tr style=\"text-align: right;\">\n",
       "      <th></th>\n",
       "      <th>Line</th>\n",
       "      <th>x</th>\n",
       "      <th>y</th>\n",
       "      <th>z</th>\n",
       "    </tr>\n",
       "  </thead>\n",
       "  <tbody>\n",
       "    <tr>\n",
       "      <th>0</th>\n",
       "      <td>$X_0$</td>\n",
       "      <td>0.0</td>\n",
       "      <td>0.0</td>\n",
       "      <td>0.0</td>\n",
       "    </tr>\n",
       "    <tr>\n",
       "      <th>1</th>\n",
       "      <td>$X_0$</td>\n",
       "      <td>1.0</td>\n",
       "      <td>0.0</td>\n",
       "      <td>0.0</td>\n",
       "    </tr>\n",
       "    <tr>\n",
       "      <th>2</th>\n",
       "      <td>$Y_0$</td>\n",
       "      <td>0.0</td>\n",
       "      <td>0.0</td>\n",
       "      <td>0.0</td>\n",
       "    </tr>\n",
       "    <tr>\n",
       "      <th>3</th>\n",
       "      <td>$Y_0$</td>\n",
       "      <td>0.0</td>\n",
       "      <td>1.0</td>\n",
       "      <td>0.0</td>\n",
       "    </tr>\n",
       "    <tr>\n",
       "      <th>4</th>\n",
       "      <td>$Z_0$</td>\n",
       "      <td>0.0</td>\n",
       "      <td>0.0</td>\n",
       "      <td>0.0</td>\n",
       "    </tr>\n",
       "    <tr>\n",
       "      <th>5</th>\n",
       "      <td>$Z_0$</td>\n",
       "      <td>0.0</td>\n",
       "      <td>0.0</td>\n",
       "      <td>1.0</td>\n",
       "    </tr>\n",
       "    <tr>\n",
       "      <th>6</th>\n",
       "      <td>$X_1$</td>\n",
       "      <td>1.0</td>\n",
       "      <td>1.0</td>\n",
       "      <td>1.0</td>\n",
       "    </tr>\n",
       "    <tr>\n",
       "      <th>7</th>\n",
       "      <td>$X_1$</td>\n",
       "      <td>2.0</td>\n",
       "      <td>1.0</td>\n",
       "      <td>1.0</td>\n",
       "    </tr>\n",
       "    <tr>\n",
       "      <th>8</th>\n",
       "      <td>$Y_1$</td>\n",
       "      <td>1.0</td>\n",
       "      <td>1.0</td>\n",
       "      <td>1.0</td>\n",
       "    </tr>\n",
       "    <tr>\n",
       "      <th>9</th>\n",
       "      <td>$Y_1$</td>\n",
       "      <td>1.0</td>\n",
       "      <td>2.0</td>\n",
       "      <td>1.0</td>\n",
       "    </tr>\n",
       "    <tr>\n",
       "      <th>10</th>\n",
       "      <td>$Z_1$</td>\n",
       "      <td>1.0</td>\n",
       "      <td>1.0</td>\n",
       "      <td>1.0</td>\n",
       "    </tr>\n",
       "    <tr>\n",
       "      <th>11</th>\n",
       "      <td>$Z_1$</td>\n",
       "      <td>1.0</td>\n",
       "      <td>1.0</td>\n",
       "      <td>2.0</td>\n",
       "    </tr>\n",
       "  </tbody>\n",
       "</table>\n",
       "</div>"
      ],
      "text/plain": [
       "     Line    x    y    z\n",
       "0   $X_0$  0.0  0.0  0.0\n",
       "1   $X_0$  1.0  0.0  0.0\n",
       "2   $Y_0$  0.0  0.0  0.0\n",
       "3   $Y_0$  0.0  1.0  0.0\n",
       "4   $Z_0$  0.0  0.0  0.0\n",
       "5   $Z_0$  0.0  0.0  1.0\n",
       "6   $X_1$  1.0  1.0  1.0\n",
       "7   $X_1$  2.0  1.0  1.0\n",
       "8   $Y_1$  1.0  1.0  1.0\n",
       "9   $Y_1$  1.0  2.0  1.0\n",
       "10  $Z_1$  1.0  1.0  1.0\n",
       "11  $Z_1$  1.0  1.0  2.0"
      ]
     },
     "metadata": {},
     "output_type": "display_data"
    },
    {
     "data": {
      "application/vnd.plotly.v1+json": {
       "config": {
        "plotlyServerURL": "https://plot.ly"
       },
       "data": [
        {
         "hovertemplate": "Line=$X_0$<br>x=%{x}<br>y=%{y}<br>z=%{z}<extra></extra>",
         "legendgroup": "$X_0$",
         "line": {
          "color": "#636efa",
          "dash": "solid",
          "width": 6
         },
         "marker": {
          "size": 5,
          "symbol": "circle"
         },
         "mode": "lines+markers",
         "name": "$X_0$",
         "scene": "scene",
         "showlegend": true,
         "type": "scatter3d",
         "x": [
          0,
          1
         ],
         "y": [
          0,
          0
         ],
         "z": [
          0,
          0
         ]
        },
        {
         "hovertemplate": "Line=$Y_0$<br>x=%{x}<br>y=%{y}<br>z=%{z}<extra></extra>",
         "legendgroup": "$Y_0$",
         "line": {
          "color": "#EF553B",
          "dash": "solid",
          "width": 6
         },
         "marker": {
          "size": 5,
          "symbol": "circle"
         },
         "mode": "lines+markers",
         "name": "$Y_0$",
         "scene": "scene",
         "showlegend": true,
         "type": "scatter3d",
         "x": [
          0,
          0
         ],
         "y": [
          0,
          1
         ],
         "z": [
          0,
          0
         ]
        },
        {
         "hovertemplate": "Line=$Z_0$<br>x=%{x}<br>y=%{y}<br>z=%{z}<extra></extra>",
         "legendgroup": "$Z_0$",
         "line": {
          "color": "#00cc96",
          "dash": "solid",
          "width": 6
         },
         "marker": {
          "size": 5,
          "symbol": "circle"
         },
         "mode": "lines+markers",
         "name": "$Z_0$",
         "scene": "scene",
         "showlegend": true,
         "type": "scatter3d",
         "x": [
          0,
          0
         ],
         "y": [
          0,
          0
         ],
         "z": [
          0,
          1
         ]
        },
        {
         "hovertemplate": "Line=$X_1$<br>x=%{x}<br>y=%{y}<br>z=%{z}<extra></extra>",
         "legendgroup": "$X_1$",
         "line": {
          "color": "#ab63fa",
          "dash": "solid",
          "width": 6
         },
         "marker": {
          "size": 5,
          "symbol": "circle"
         },
         "mode": "lines+markers",
         "name": "$X_1$",
         "scene": "scene",
         "showlegend": true,
         "type": "scatter3d",
         "x": [
          1,
          2
         ],
         "y": [
          1,
          1
         ],
         "z": [
          1,
          1
         ]
        },
        {
         "hovertemplate": "Line=$Y_1$<br>x=%{x}<br>y=%{y}<br>z=%{z}<extra></extra>",
         "legendgroup": "$Y_1$",
         "line": {
          "color": "#FFA15A",
          "dash": "solid",
          "width": 6
         },
         "marker": {
          "size": 5,
          "symbol": "circle"
         },
         "mode": "lines+markers",
         "name": "$Y_1$",
         "scene": "scene",
         "showlegend": true,
         "type": "scatter3d",
         "x": [
          1,
          1
         ],
         "y": [
          1,
          2
         ],
         "z": [
          1,
          1
         ]
        },
        {
         "hovertemplate": "Line=$Z_1$<br>x=%{x}<br>y=%{y}<br>z=%{z}<extra></extra>",
         "legendgroup": "$Z_1$",
         "line": {
          "color": "#19d3f3",
          "dash": "solid",
          "width": 6
         },
         "marker": {
          "size": 5,
          "symbol": "circle"
         },
         "mode": "lines+markers",
         "name": "$Z_1$",
         "scene": "scene",
         "showlegend": true,
         "type": "scatter3d",
         "x": [
          1,
          1
         ],
         "y": [
          1,
          1
         ],
         "z": [
          1,
          2
         ]
        }
       ],
       "layout": {
        "legend": {
         "title": {
          "text": "Line"
         },
         "tracegroupgap": 0
        },
        "margin": {
         "t": 60
        },
        "scene": {
         "domain": {
          "x": [
           0,
           1
          ],
          "y": [
           0,
           1
          ]
         },
         "xaxis": {
          "title": {
           "text": "x"
          }
         },
         "yaxis": {
          "title": {
           "text": "y"
          }
         },
         "zaxis": {
          "title": {
           "text": "z"
          }
         }
        },
        "template": {
         "data": {
          "bar": [
           {
            "error_x": {
             "color": "#2a3f5f"
            },
            "error_y": {
             "color": "#2a3f5f"
            },
            "marker": {
             "line": {
              "color": "#E5ECF6",
              "width": 0.5
             },
             "pattern": {
              "fillmode": "overlay",
              "size": 10,
              "solidity": 0.2
             }
            },
            "type": "bar"
           }
          ],
          "barpolar": [
           {
            "marker": {
             "line": {
              "color": "#E5ECF6",
              "width": 0.5
             },
             "pattern": {
              "fillmode": "overlay",
              "size": 10,
              "solidity": 0.2
             }
            },
            "type": "barpolar"
           }
          ],
          "carpet": [
           {
            "aaxis": {
             "endlinecolor": "#2a3f5f",
             "gridcolor": "white",
             "linecolor": "white",
             "minorgridcolor": "white",
             "startlinecolor": "#2a3f5f"
            },
            "baxis": {
             "endlinecolor": "#2a3f5f",
             "gridcolor": "white",
             "linecolor": "white",
             "minorgridcolor": "white",
             "startlinecolor": "#2a3f5f"
            },
            "type": "carpet"
           }
          ],
          "choropleth": [
           {
            "colorbar": {
             "outlinewidth": 0,
             "ticks": ""
            },
            "type": "choropleth"
           }
          ],
          "contour": [
           {
            "colorbar": {
             "outlinewidth": 0,
             "ticks": ""
            },
            "colorscale": [
             [
              0,
              "#0d0887"
             ],
             [
              0.1111111111111111,
              "#46039f"
             ],
             [
              0.2222222222222222,
              "#7201a8"
             ],
             [
              0.3333333333333333,
              "#9c179e"
             ],
             [
              0.4444444444444444,
              "#bd3786"
             ],
             [
              0.5555555555555556,
              "#d8576b"
             ],
             [
              0.6666666666666666,
              "#ed7953"
             ],
             [
              0.7777777777777778,
              "#fb9f3a"
             ],
             [
              0.8888888888888888,
              "#fdca26"
             ],
             [
              1,
              "#f0f921"
             ]
            ],
            "type": "contour"
           }
          ],
          "contourcarpet": [
           {
            "colorbar": {
             "outlinewidth": 0,
             "ticks": ""
            },
            "type": "contourcarpet"
           }
          ],
          "heatmap": [
           {
            "colorbar": {
             "outlinewidth": 0,
             "ticks": ""
            },
            "colorscale": [
             [
              0,
              "#0d0887"
             ],
             [
              0.1111111111111111,
              "#46039f"
             ],
             [
              0.2222222222222222,
              "#7201a8"
             ],
             [
              0.3333333333333333,
              "#9c179e"
             ],
             [
              0.4444444444444444,
              "#bd3786"
             ],
             [
              0.5555555555555556,
              "#d8576b"
             ],
             [
              0.6666666666666666,
              "#ed7953"
             ],
             [
              0.7777777777777778,
              "#fb9f3a"
             ],
             [
              0.8888888888888888,
              "#fdca26"
             ],
             [
              1,
              "#f0f921"
             ]
            ],
            "type": "heatmap"
           }
          ],
          "heatmapgl": [
           {
            "colorbar": {
             "outlinewidth": 0,
             "ticks": ""
            },
            "colorscale": [
             [
              0,
              "#0d0887"
             ],
             [
              0.1111111111111111,
              "#46039f"
             ],
             [
              0.2222222222222222,
              "#7201a8"
             ],
             [
              0.3333333333333333,
              "#9c179e"
             ],
             [
              0.4444444444444444,
              "#bd3786"
             ],
             [
              0.5555555555555556,
              "#d8576b"
             ],
             [
              0.6666666666666666,
              "#ed7953"
             ],
             [
              0.7777777777777778,
              "#fb9f3a"
             ],
             [
              0.8888888888888888,
              "#fdca26"
             ],
             [
              1,
              "#f0f921"
             ]
            ],
            "type": "heatmapgl"
           }
          ],
          "histogram": [
           {
            "marker": {
             "pattern": {
              "fillmode": "overlay",
              "size": 10,
              "solidity": 0.2
             }
            },
            "type": "histogram"
           }
          ],
          "histogram2d": [
           {
            "colorbar": {
             "outlinewidth": 0,
             "ticks": ""
            },
            "colorscale": [
             [
              0,
              "#0d0887"
             ],
             [
              0.1111111111111111,
              "#46039f"
             ],
             [
              0.2222222222222222,
              "#7201a8"
             ],
             [
              0.3333333333333333,
              "#9c179e"
             ],
             [
              0.4444444444444444,
              "#bd3786"
             ],
             [
              0.5555555555555556,
              "#d8576b"
             ],
             [
              0.6666666666666666,
              "#ed7953"
             ],
             [
              0.7777777777777778,
              "#fb9f3a"
             ],
             [
              0.8888888888888888,
              "#fdca26"
             ],
             [
              1,
              "#f0f921"
             ]
            ],
            "type": "histogram2d"
           }
          ],
          "histogram2dcontour": [
           {
            "colorbar": {
             "outlinewidth": 0,
             "ticks": ""
            },
            "colorscale": [
             [
              0,
              "#0d0887"
             ],
             [
              0.1111111111111111,
              "#46039f"
             ],
             [
              0.2222222222222222,
              "#7201a8"
             ],
             [
              0.3333333333333333,
              "#9c179e"
             ],
             [
              0.4444444444444444,
              "#bd3786"
             ],
             [
              0.5555555555555556,
              "#d8576b"
             ],
             [
              0.6666666666666666,
              "#ed7953"
             ],
             [
              0.7777777777777778,
              "#fb9f3a"
             ],
             [
              0.8888888888888888,
              "#fdca26"
             ],
             [
              1,
              "#f0f921"
             ]
            ],
            "type": "histogram2dcontour"
           }
          ],
          "mesh3d": [
           {
            "colorbar": {
             "outlinewidth": 0,
             "ticks": ""
            },
            "type": "mesh3d"
           }
          ],
          "parcoords": [
           {
            "line": {
             "colorbar": {
              "outlinewidth": 0,
              "ticks": ""
             }
            },
            "type": "parcoords"
           }
          ],
          "pie": [
           {
            "automargin": true,
            "type": "pie"
           }
          ],
          "scatter": [
           {
            "fillpattern": {
             "fillmode": "overlay",
             "size": 10,
             "solidity": 0.2
            },
            "type": "scatter"
           }
          ],
          "scatter3d": [
           {
            "line": {
             "colorbar": {
              "outlinewidth": 0,
              "ticks": ""
             }
            },
            "marker": {
             "colorbar": {
              "outlinewidth": 0,
              "ticks": ""
             }
            },
            "type": "scatter3d"
           }
          ],
          "scattercarpet": [
           {
            "marker": {
             "colorbar": {
              "outlinewidth": 0,
              "ticks": ""
             }
            },
            "type": "scattercarpet"
           }
          ],
          "scattergeo": [
           {
            "marker": {
             "colorbar": {
              "outlinewidth": 0,
              "ticks": ""
             }
            },
            "type": "scattergeo"
           }
          ],
          "scattergl": [
           {
            "marker": {
             "colorbar": {
              "outlinewidth": 0,
              "ticks": ""
             }
            },
            "type": "scattergl"
           }
          ],
          "scattermapbox": [
           {
            "marker": {
             "colorbar": {
              "outlinewidth": 0,
              "ticks": ""
             }
            },
            "type": "scattermapbox"
           }
          ],
          "scatterpolar": [
           {
            "marker": {
             "colorbar": {
              "outlinewidth": 0,
              "ticks": ""
             }
            },
            "type": "scatterpolar"
           }
          ],
          "scatterpolargl": [
           {
            "marker": {
             "colorbar": {
              "outlinewidth": 0,
              "ticks": ""
             }
            },
            "type": "scatterpolargl"
           }
          ],
          "scatterternary": [
           {
            "marker": {
             "colorbar": {
              "outlinewidth": 0,
              "ticks": ""
             }
            },
            "type": "scatterternary"
           }
          ],
          "surface": [
           {
            "colorbar": {
             "outlinewidth": 0,
             "ticks": ""
            },
            "colorscale": [
             [
              0,
              "#0d0887"
             ],
             [
              0.1111111111111111,
              "#46039f"
             ],
             [
              0.2222222222222222,
              "#7201a8"
             ],
             [
              0.3333333333333333,
              "#9c179e"
             ],
             [
              0.4444444444444444,
              "#bd3786"
             ],
             [
              0.5555555555555556,
              "#d8576b"
             ],
             [
              0.6666666666666666,
              "#ed7953"
             ],
             [
              0.7777777777777778,
              "#fb9f3a"
             ],
             [
              0.8888888888888888,
              "#fdca26"
             ],
             [
              1,
              "#f0f921"
             ]
            ],
            "type": "surface"
           }
          ],
          "table": [
           {
            "cells": {
             "fill": {
              "color": "#EBF0F8"
             },
             "line": {
              "color": "white"
             }
            },
            "header": {
             "fill": {
              "color": "#C8D4E3"
             },
             "line": {
              "color": "white"
             }
            },
            "type": "table"
           }
          ]
         },
         "layout": {
          "annotationdefaults": {
           "arrowcolor": "#2a3f5f",
           "arrowhead": 0,
           "arrowwidth": 1
          },
          "autotypenumbers": "strict",
          "coloraxis": {
           "colorbar": {
            "outlinewidth": 0,
            "ticks": ""
           }
          },
          "colorscale": {
           "diverging": [
            [
             0,
             "#8e0152"
            ],
            [
             0.1,
             "#c51b7d"
            ],
            [
             0.2,
             "#de77ae"
            ],
            [
             0.3,
             "#f1b6da"
            ],
            [
             0.4,
             "#fde0ef"
            ],
            [
             0.5,
             "#f7f7f7"
            ],
            [
             0.6,
             "#e6f5d0"
            ],
            [
             0.7,
             "#b8e186"
            ],
            [
             0.8,
             "#7fbc41"
            ],
            [
             0.9,
             "#4d9221"
            ],
            [
             1,
             "#276419"
            ]
           ],
           "sequential": [
            [
             0,
             "#0d0887"
            ],
            [
             0.1111111111111111,
             "#46039f"
            ],
            [
             0.2222222222222222,
             "#7201a8"
            ],
            [
             0.3333333333333333,
             "#9c179e"
            ],
            [
             0.4444444444444444,
             "#bd3786"
            ],
            [
             0.5555555555555556,
             "#d8576b"
            ],
            [
             0.6666666666666666,
             "#ed7953"
            ],
            [
             0.7777777777777778,
             "#fb9f3a"
            ],
            [
             0.8888888888888888,
             "#fdca26"
            ],
            [
             1,
             "#f0f921"
            ]
           ],
           "sequentialminus": [
            [
             0,
             "#0d0887"
            ],
            [
             0.1111111111111111,
             "#46039f"
            ],
            [
             0.2222222222222222,
             "#7201a8"
            ],
            [
             0.3333333333333333,
             "#9c179e"
            ],
            [
             0.4444444444444444,
             "#bd3786"
            ],
            [
             0.5555555555555556,
             "#d8576b"
            ],
            [
             0.6666666666666666,
             "#ed7953"
            ],
            [
             0.7777777777777778,
             "#fb9f3a"
            ],
            [
             0.8888888888888888,
             "#fdca26"
            ],
            [
             1,
             "#f0f921"
            ]
           ]
          },
          "colorway": [
           "#636efa",
           "#EF553B",
           "#00cc96",
           "#ab63fa",
           "#FFA15A",
           "#19d3f3",
           "#FF6692",
           "#B6E880",
           "#FF97FF",
           "#FECB52"
          ],
          "font": {
           "color": "#2a3f5f"
          },
          "geo": {
           "bgcolor": "white",
           "lakecolor": "white",
           "landcolor": "#E5ECF6",
           "showlakes": true,
           "showland": true,
           "subunitcolor": "white"
          },
          "hoverlabel": {
           "align": "left"
          },
          "hovermode": "closest",
          "mapbox": {
           "style": "light"
          },
          "paper_bgcolor": "white",
          "plot_bgcolor": "#E5ECF6",
          "polar": {
           "angularaxis": {
            "gridcolor": "white",
            "linecolor": "white",
            "ticks": ""
           },
           "bgcolor": "#E5ECF6",
           "radialaxis": {
            "gridcolor": "white",
            "linecolor": "white",
            "ticks": ""
           }
          },
          "scene": {
           "xaxis": {
            "backgroundcolor": "#E5ECF6",
            "gridcolor": "white",
            "gridwidth": 2,
            "linecolor": "white",
            "showbackground": true,
            "ticks": "",
            "zerolinecolor": "white"
           },
           "yaxis": {
            "backgroundcolor": "#E5ECF6",
            "gridcolor": "white",
            "gridwidth": 2,
            "linecolor": "white",
            "showbackground": true,
            "ticks": "",
            "zerolinecolor": "white"
           },
           "zaxis": {
            "backgroundcolor": "#E5ECF6",
            "gridcolor": "white",
            "gridwidth": 2,
            "linecolor": "white",
            "showbackground": true,
            "ticks": "",
            "zerolinecolor": "white"
           }
          },
          "shapedefaults": {
           "line": {
            "color": "#2a3f5f"
           }
          },
          "ternary": {
           "aaxis": {
            "gridcolor": "white",
            "linecolor": "white",
            "ticks": ""
           },
           "baxis": {
            "gridcolor": "white",
            "linecolor": "white",
            "ticks": ""
           },
           "bgcolor": "#E5ECF6",
           "caxis": {
            "gridcolor": "white",
            "linecolor": "white",
            "ticks": ""
           }
          },
          "title": {
           "x": 0.05
          },
          "xaxis": {
           "automargin": true,
           "gridcolor": "white",
           "linecolor": "white",
           "ticks": "",
           "title": {
            "standoff": 15
           },
           "zerolinecolor": "white",
           "zerolinewidth": 2
          },
          "yaxis": {
           "automargin": true,
           "gridcolor": "white",
           "linecolor": "white",
           "ticks": "",
           "title": {
            "standoff": 15
           },
           "zerolinecolor": "white",
           "zerolinewidth": 2
          }
         }
        }
       }
      },
      "text/html": [
       "<div>                            <div id=\"9af85388-cbe4-43fb-ac0f-ff721e0381bd\" class=\"plotly-graph-div\" style=\"height:525px; width:100%;\"></div>            <script type=\"text/javascript\">                require([\"plotly\"], function(Plotly) {                    window.PLOTLYENV=window.PLOTLYENV || {};                                    if (document.getElementById(\"9af85388-cbe4-43fb-ac0f-ff721e0381bd\")) {                    Plotly.newPlot(                        \"9af85388-cbe4-43fb-ac0f-ff721e0381bd\",                        [{\"hovertemplate\":\"Line=$X_0$<br>x=%{x}<br>y=%{y}<br>z=%{z}<extra></extra>\",\"legendgroup\":\"$X_0$\",\"line\":{\"color\":\"#636efa\",\"dash\":\"solid\",\"width\":6},\"marker\":{\"symbol\":\"circle\",\"size\":5},\"mode\":\"lines+markers\",\"name\":\"$X_0$\",\"scene\":\"scene\",\"showlegend\":true,\"x\":[0.0,1.0],\"y\":[0.0,0.0],\"z\":[0.0,0.0],\"type\":\"scatter3d\"},{\"hovertemplate\":\"Line=$Y_0$<br>x=%{x}<br>y=%{y}<br>z=%{z}<extra></extra>\",\"legendgroup\":\"$Y_0$\",\"line\":{\"color\":\"#EF553B\",\"dash\":\"solid\",\"width\":6},\"marker\":{\"symbol\":\"circle\",\"size\":5},\"mode\":\"lines+markers\",\"name\":\"$Y_0$\",\"scene\":\"scene\",\"showlegend\":true,\"x\":[0.0,0.0],\"y\":[0.0,1.0],\"z\":[0.0,0.0],\"type\":\"scatter3d\"},{\"hovertemplate\":\"Line=$Z_0$<br>x=%{x}<br>y=%{y}<br>z=%{z}<extra></extra>\",\"legendgroup\":\"$Z_0$\",\"line\":{\"color\":\"#00cc96\",\"dash\":\"solid\",\"width\":6},\"marker\":{\"symbol\":\"circle\",\"size\":5},\"mode\":\"lines+markers\",\"name\":\"$Z_0$\",\"scene\":\"scene\",\"showlegend\":true,\"x\":[0.0,0.0],\"y\":[0.0,0.0],\"z\":[0.0,1.0],\"type\":\"scatter3d\"},{\"hovertemplate\":\"Line=$X_1$<br>x=%{x}<br>y=%{y}<br>z=%{z}<extra></extra>\",\"legendgroup\":\"$X_1$\",\"line\":{\"color\":\"#ab63fa\",\"dash\":\"solid\",\"width\":6},\"marker\":{\"symbol\":\"circle\",\"size\":5},\"mode\":\"lines+markers\",\"name\":\"$X_1$\",\"scene\":\"scene\",\"showlegend\":true,\"x\":[1.0,2.0],\"y\":[1.0,1.0],\"z\":[1.0,1.0],\"type\":\"scatter3d\"},{\"hovertemplate\":\"Line=$Y_1$<br>x=%{x}<br>y=%{y}<br>z=%{z}<extra></extra>\",\"legendgroup\":\"$Y_1$\",\"line\":{\"color\":\"#FFA15A\",\"dash\":\"solid\",\"width\":6},\"marker\":{\"symbol\":\"circle\",\"size\":5},\"mode\":\"lines+markers\",\"name\":\"$Y_1$\",\"scene\":\"scene\",\"showlegend\":true,\"x\":[1.0,1.0],\"y\":[1.0,2.0],\"z\":[1.0,1.0],\"type\":\"scatter3d\"},{\"hovertemplate\":\"Line=$Z_1$<br>x=%{x}<br>y=%{y}<br>z=%{z}<extra></extra>\",\"legendgroup\":\"$Z_1$\",\"line\":{\"color\":\"#19d3f3\",\"dash\":\"solid\",\"width\":6},\"marker\":{\"symbol\":\"circle\",\"size\":5},\"mode\":\"lines+markers\",\"name\":\"$Z_1$\",\"scene\":\"scene\",\"showlegend\":true,\"x\":[1.0,1.0],\"y\":[1.0,1.0],\"z\":[1.0,2.0],\"type\":\"scatter3d\"}],                        {\"template\":{\"data\":{\"histogram2dcontour\":[{\"type\":\"histogram2dcontour\",\"colorbar\":{\"outlinewidth\":0,\"ticks\":\"\"},\"colorscale\":[[0.0,\"#0d0887\"],[0.1111111111111111,\"#46039f\"],[0.2222222222222222,\"#7201a8\"],[0.3333333333333333,\"#9c179e\"],[0.4444444444444444,\"#bd3786\"],[0.5555555555555556,\"#d8576b\"],[0.6666666666666666,\"#ed7953\"],[0.7777777777777778,\"#fb9f3a\"],[0.8888888888888888,\"#fdca26\"],[1.0,\"#f0f921\"]]}],\"choropleth\":[{\"type\":\"choropleth\",\"colorbar\":{\"outlinewidth\":0,\"ticks\":\"\"}}],\"histogram2d\":[{\"type\":\"histogram2d\",\"colorbar\":{\"outlinewidth\":0,\"ticks\":\"\"},\"colorscale\":[[0.0,\"#0d0887\"],[0.1111111111111111,\"#46039f\"],[0.2222222222222222,\"#7201a8\"],[0.3333333333333333,\"#9c179e\"],[0.4444444444444444,\"#bd3786\"],[0.5555555555555556,\"#d8576b\"],[0.6666666666666666,\"#ed7953\"],[0.7777777777777778,\"#fb9f3a\"],[0.8888888888888888,\"#fdca26\"],[1.0,\"#f0f921\"]]}],\"heatmap\":[{\"type\":\"heatmap\",\"colorbar\":{\"outlinewidth\":0,\"ticks\":\"\"},\"colorscale\":[[0.0,\"#0d0887\"],[0.1111111111111111,\"#46039f\"],[0.2222222222222222,\"#7201a8\"],[0.3333333333333333,\"#9c179e\"],[0.4444444444444444,\"#bd3786\"],[0.5555555555555556,\"#d8576b\"],[0.6666666666666666,\"#ed7953\"],[0.7777777777777778,\"#fb9f3a\"],[0.8888888888888888,\"#fdca26\"],[1.0,\"#f0f921\"]]}],\"heatmapgl\":[{\"type\":\"heatmapgl\",\"colorbar\":{\"outlinewidth\":0,\"ticks\":\"\"},\"colorscale\":[[0.0,\"#0d0887\"],[0.1111111111111111,\"#46039f\"],[0.2222222222222222,\"#7201a8\"],[0.3333333333333333,\"#9c179e\"],[0.4444444444444444,\"#bd3786\"],[0.5555555555555556,\"#d8576b\"],[0.6666666666666666,\"#ed7953\"],[0.7777777777777778,\"#fb9f3a\"],[0.8888888888888888,\"#fdca26\"],[1.0,\"#f0f921\"]]}],\"contourcarpet\":[{\"type\":\"contourcarpet\",\"colorbar\":{\"outlinewidth\":0,\"ticks\":\"\"}}],\"contour\":[{\"type\":\"contour\",\"colorbar\":{\"outlinewidth\":0,\"ticks\":\"\"},\"colorscale\":[[0.0,\"#0d0887\"],[0.1111111111111111,\"#46039f\"],[0.2222222222222222,\"#7201a8\"],[0.3333333333333333,\"#9c179e\"],[0.4444444444444444,\"#bd3786\"],[0.5555555555555556,\"#d8576b\"],[0.6666666666666666,\"#ed7953\"],[0.7777777777777778,\"#fb9f3a\"],[0.8888888888888888,\"#fdca26\"],[1.0,\"#f0f921\"]]}],\"surface\":[{\"type\":\"surface\",\"colorbar\":{\"outlinewidth\":0,\"ticks\":\"\"},\"colorscale\":[[0.0,\"#0d0887\"],[0.1111111111111111,\"#46039f\"],[0.2222222222222222,\"#7201a8\"],[0.3333333333333333,\"#9c179e\"],[0.4444444444444444,\"#bd3786\"],[0.5555555555555556,\"#d8576b\"],[0.6666666666666666,\"#ed7953\"],[0.7777777777777778,\"#fb9f3a\"],[0.8888888888888888,\"#fdca26\"],[1.0,\"#f0f921\"]]}],\"mesh3d\":[{\"type\":\"mesh3d\",\"colorbar\":{\"outlinewidth\":0,\"ticks\":\"\"}}],\"scatter\":[{\"fillpattern\":{\"fillmode\":\"overlay\",\"size\":10,\"solidity\":0.2},\"type\":\"scatter\"}],\"parcoords\":[{\"type\":\"parcoords\",\"line\":{\"colorbar\":{\"outlinewidth\":0,\"ticks\":\"\"}}}],\"scatterpolargl\":[{\"type\":\"scatterpolargl\",\"marker\":{\"colorbar\":{\"outlinewidth\":0,\"ticks\":\"\"}}}],\"bar\":[{\"error_x\":{\"color\":\"#2a3f5f\"},\"error_y\":{\"color\":\"#2a3f5f\"},\"marker\":{\"line\":{\"color\":\"#E5ECF6\",\"width\":0.5},\"pattern\":{\"fillmode\":\"overlay\",\"size\":10,\"solidity\":0.2}},\"type\":\"bar\"}],\"scattergeo\":[{\"type\":\"scattergeo\",\"marker\":{\"colorbar\":{\"outlinewidth\":0,\"ticks\":\"\"}}}],\"scatterpolar\":[{\"type\":\"scatterpolar\",\"marker\":{\"colorbar\":{\"outlinewidth\":0,\"ticks\":\"\"}}}],\"histogram\":[{\"marker\":{\"pattern\":{\"fillmode\":\"overlay\",\"size\":10,\"solidity\":0.2}},\"type\":\"histogram\"}],\"scattergl\":[{\"type\":\"scattergl\",\"marker\":{\"colorbar\":{\"outlinewidth\":0,\"ticks\":\"\"}}}],\"scatter3d\":[{\"type\":\"scatter3d\",\"line\":{\"colorbar\":{\"outlinewidth\":0,\"ticks\":\"\"}},\"marker\":{\"colorbar\":{\"outlinewidth\":0,\"ticks\":\"\"}}}],\"scattermapbox\":[{\"type\":\"scattermapbox\",\"marker\":{\"colorbar\":{\"outlinewidth\":0,\"ticks\":\"\"}}}],\"scatterternary\":[{\"type\":\"scatterternary\",\"marker\":{\"colorbar\":{\"outlinewidth\":0,\"ticks\":\"\"}}}],\"scattercarpet\":[{\"type\":\"scattercarpet\",\"marker\":{\"colorbar\":{\"outlinewidth\":0,\"ticks\":\"\"}}}],\"carpet\":[{\"aaxis\":{\"endlinecolor\":\"#2a3f5f\",\"gridcolor\":\"white\",\"linecolor\":\"white\",\"minorgridcolor\":\"white\",\"startlinecolor\":\"#2a3f5f\"},\"baxis\":{\"endlinecolor\":\"#2a3f5f\",\"gridcolor\":\"white\",\"linecolor\":\"white\",\"minorgridcolor\":\"white\",\"startlinecolor\":\"#2a3f5f\"},\"type\":\"carpet\"}],\"table\":[{\"cells\":{\"fill\":{\"color\":\"#EBF0F8\"},\"line\":{\"color\":\"white\"}},\"header\":{\"fill\":{\"color\":\"#C8D4E3\"},\"line\":{\"color\":\"white\"}},\"type\":\"table\"}],\"barpolar\":[{\"marker\":{\"line\":{\"color\":\"#E5ECF6\",\"width\":0.5},\"pattern\":{\"fillmode\":\"overlay\",\"size\":10,\"solidity\":0.2}},\"type\":\"barpolar\"}],\"pie\":[{\"automargin\":true,\"type\":\"pie\"}]},\"layout\":{\"autotypenumbers\":\"strict\",\"colorway\":[\"#636efa\",\"#EF553B\",\"#00cc96\",\"#ab63fa\",\"#FFA15A\",\"#19d3f3\",\"#FF6692\",\"#B6E880\",\"#FF97FF\",\"#FECB52\"],\"font\":{\"color\":\"#2a3f5f\"},\"hovermode\":\"closest\",\"hoverlabel\":{\"align\":\"left\"},\"paper_bgcolor\":\"white\",\"plot_bgcolor\":\"#E5ECF6\",\"polar\":{\"bgcolor\":\"#E5ECF6\",\"angularaxis\":{\"gridcolor\":\"white\",\"linecolor\":\"white\",\"ticks\":\"\"},\"radialaxis\":{\"gridcolor\":\"white\",\"linecolor\":\"white\",\"ticks\":\"\"}},\"ternary\":{\"bgcolor\":\"#E5ECF6\",\"aaxis\":{\"gridcolor\":\"white\",\"linecolor\":\"white\",\"ticks\":\"\"},\"baxis\":{\"gridcolor\":\"white\",\"linecolor\":\"white\",\"ticks\":\"\"},\"caxis\":{\"gridcolor\":\"white\",\"linecolor\":\"white\",\"ticks\":\"\"}},\"coloraxis\":{\"colorbar\":{\"outlinewidth\":0,\"ticks\":\"\"}},\"colorscale\":{\"sequential\":[[0.0,\"#0d0887\"],[0.1111111111111111,\"#46039f\"],[0.2222222222222222,\"#7201a8\"],[0.3333333333333333,\"#9c179e\"],[0.4444444444444444,\"#bd3786\"],[0.5555555555555556,\"#d8576b\"],[0.6666666666666666,\"#ed7953\"],[0.7777777777777778,\"#fb9f3a\"],[0.8888888888888888,\"#fdca26\"],[1.0,\"#f0f921\"]],\"sequentialminus\":[[0.0,\"#0d0887\"],[0.1111111111111111,\"#46039f\"],[0.2222222222222222,\"#7201a8\"],[0.3333333333333333,\"#9c179e\"],[0.4444444444444444,\"#bd3786\"],[0.5555555555555556,\"#d8576b\"],[0.6666666666666666,\"#ed7953\"],[0.7777777777777778,\"#fb9f3a\"],[0.8888888888888888,\"#fdca26\"],[1.0,\"#f0f921\"]],\"diverging\":[[0,\"#8e0152\"],[0.1,\"#c51b7d\"],[0.2,\"#de77ae\"],[0.3,\"#f1b6da\"],[0.4,\"#fde0ef\"],[0.5,\"#f7f7f7\"],[0.6,\"#e6f5d0\"],[0.7,\"#b8e186\"],[0.8,\"#7fbc41\"],[0.9,\"#4d9221\"],[1,\"#276419\"]]},\"xaxis\":{\"gridcolor\":\"white\",\"linecolor\":\"white\",\"ticks\":\"\",\"title\":{\"standoff\":15},\"zerolinecolor\":\"white\",\"automargin\":true,\"zerolinewidth\":2},\"yaxis\":{\"gridcolor\":\"white\",\"linecolor\":\"white\",\"ticks\":\"\",\"title\":{\"standoff\":15},\"zerolinecolor\":\"white\",\"automargin\":true,\"zerolinewidth\":2},\"scene\":{\"xaxis\":{\"backgroundcolor\":\"#E5ECF6\",\"gridcolor\":\"white\",\"linecolor\":\"white\",\"showbackground\":true,\"ticks\":\"\",\"zerolinecolor\":\"white\",\"gridwidth\":2},\"yaxis\":{\"backgroundcolor\":\"#E5ECF6\",\"gridcolor\":\"white\",\"linecolor\":\"white\",\"showbackground\":true,\"ticks\":\"\",\"zerolinecolor\":\"white\",\"gridwidth\":2},\"zaxis\":{\"backgroundcolor\":\"#E5ECF6\",\"gridcolor\":\"white\",\"linecolor\":\"white\",\"showbackground\":true,\"ticks\":\"\",\"zerolinecolor\":\"white\",\"gridwidth\":2}},\"shapedefaults\":{\"line\":{\"color\":\"#2a3f5f\"}},\"annotationdefaults\":{\"arrowcolor\":\"#2a3f5f\",\"arrowhead\":0,\"arrowwidth\":1},\"geo\":{\"bgcolor\":\"white\",\"landcolor\":\"#E5ECF6\",\"subunitcolor\":\"white\",\"showland\":true,\"showlakes\":true,\"lakecolor\":\"white\"},\"title\":{\"x\":0.05},\"mapbox\":{\"style\":\"light\"}}},\"scene\":{\"domain\":{\"x\":[0.0,1.0],\"y\":[0.0,1.0]},\"xaxis\":{\"title\":{\"text\":\"x\"}},\"yaxis\":{\"title\":{\"text\":\"y\"}},\"zaxis\":{\"title\":{\"text\":\"z\"}}},\"legend\":{\"title\":{\"text\":\"Line\"},\"tracegroupgap\":0},\"margin\":{\"t\":60}},                        {\"responsive\": true}                    ).then(function(){\n",
       "                            \n",
       "var gd = document.getElementById('9af85388-cbe4-43fb-ac0f-ff721e0381bd');\n",
       "var x = new MutationObserver(function (mutations, observer) {{\n",
       "        var display = window.getComputedStyle(gd).display;\n",
       "        if (!display || display === 'none') {{\n",
       "            console.log([gd, 'removed!']);\n",
       "            Plotly.purge(gd);\n",
       "            observer.disconnect();\n",
       "        }}\n",
       "}});\n",
       "\n",
       "// Listen for the removal of the full notebook cells\n",
       "var notebookContainer = gd.closest('#notebook-container');\n",
       "if (notebookContainer) {{\n",
       "    x.observe(notebookContainer, {childList: true});\n",
       "}}\n",
       "\n",
       "// Listen for the clearing of the current output cell\n",
       "var outputEl = gd.closest('.output');\n",
       "if (outputEl) {{\n",
       "    x.observe(outputEl, {childList: true});\n",
       "}}\n",
       "\n",
       "                        })                };                });            </script>        </div>"
      ]
     },
     "metadata": {},
     "output_type": "display_data"
    }
   ],
   "source": [
    "import plotly.express as px\n",
    "import numpy as np \n",
    "import pandas as pd\n",
    "\n",
    "order='TXYZ'\n",
    "Tra=[-1,-1,-1]\n",
    "a_x=0\n",
    "a_y=0\n",
    "a_z=0\n",
    "\n",
    "Xa=[0,0,0]\n",
    "Xb=[1,0,0]\n",
    "Ya=[0,0,0]\n",
    "Yb=[0,1,0]\n",
    "Za=[0,0,0]\n",
    "Zb=[0,0,1]\n",
    "\n",
    "Xat=coordinateTransform(order, Tra, a_x, a_y, a_z, Xa)\n",
    "Xbt=coordinateTransform(order, Tra, a_x, a_y, a_z, Xb)\n",
    "Yat=coordinateTransform(order, Tra, a_x, a_y, a_z, Ya)\n",
    "Ybt=coordinateTransform(order, Tra, a_x, a_y, a_z, Yb)\n",
    "Zat=coordinateTransform(order, Tra, a_x, a_y, a_z, Za)\n",
    "Zbt=coordinateTransform(order, Tra, a_x, a_y, a_z, Zb)\n",
    "\n",
    "Line=[\"$X_0$\",\"$X_0$\",\"$Y_0$\",\"$Y_0$\",\"$Z_0$\",\"$Z_0$\",\"$X_1$\",\"$X_1$\",\"$Y_1$\",\"$Y_1$\",\"$Z_1$\",\"$Z_1$\"]\n",
    "x = np.array([Xa[0],Xb[0],Ya[0],Yb[0],Za[0],Zb[0],Xat[0],Xbt[0],Yat[0],Ybt[0],Zat[0],Zbt[0]])\n",
    "y = np.array([Xa[1],Xb[1],Ya[1],Yb[1],Za[1],Zb[1],Xat[1],Xbt[1],Yat[1],Ybt[1],Zat[1],Zbt[1]])\n",
    "z = np.array([Xa[2],Xb[2],Ya[2],Yb[2],Za[2],Zb[2],Xat[2],Xbt[2],Yat[2],Ybt[2],Zat[2],Zbt[2]])\n",
    "df1 = pd.DataFrame({\"Line\":Line,\"x\": x, \"y\":y, \"z\":z})\n",
    "display(df1)\n",
    "fig = px.line_3d(df1, x=\"x\", y=\"y\", z=\"z\",color='Line',markers=True)\n",
    "\n",
    "\n",
    "fig.update_traces(\n",
    "    marker=dict(size=5),\n",
    "    line=dict(width=6)\n",
    "            )\n",
    "\n",
    "fig.show()"
   ]
  },
  {
   "cell_type": "code",
   "execution_count": 109,
   "id": "c0209dcc",
   "metadata": {
    "ExecuteTime": {
     "end_time": "2023-04-15T19:48:59.192516Z",
     "start_time": "2023-04-15T19:48:59.085513Z"
    }
   },
   "outputs": [
    {
     "data": {
      "text/html": [
       "<div>\n",
       "<style scoped>\n",
       "    .dataframe tbody tr th:only-of-type {\n",
       "        vertical-align: middle;\n",
       "    }\n",
       "\n",
       "    .dataframe tbody tr th {\n",
       "        vertical-align: top;\n",
       "    }\n",
       "\n",
       "    .dataframe thead th {\n",
       "        text-align: right;\n",
       "    }\n",
       "</style>\n",
       "<table border=\"1\" class=\"dataframe\">\n",
       "  <thead>\n",
       "    <tr style=\"text-align: right;\">\n",
       "      <th></th>\n",
       "      <th>Line</th>\n",
       "      <th>x</th>\n",
       "      <th>y</th>\n",
       "      <th>z</th>\n",
       "    </tr>\n",
       "  </thead>\n",
       "  <tbody>\n",
       "    <tr>\n",
       "      <th>0</th>\n",
       "      <td>$X_0$</td>\n",
       "      <td>0</td>\n",
       "      <td>0</td>\n",
       "      <td>0</td>\n",
       "    </tr>\n",
       "    <tr>\n",
       "      <th>1</th>\n",
       "      <td>$X_0$</td>\n",
       "      <td>1</td>\n",
       "      <td>0</td>\n",
       "      <td>0</td>\n",
       "    </tr>\n",
       "    <tr>\n",
       "      <th>2</th>\n",
       "      <td>$Y_0$</td>\n",
       "      <td>0</td>\n",
       "      <td>0</td>\n",
       "      <td>0</td>\n",
       "    </tr>\n",
       "    <tr>\n",
       "      <th>3</th>\n",
       "      <td>$Y_0$</td>\n",
       "      <td>0</td>\n",
       "      <td>1</td>\n",
       "      <td>0</td>\n",
       "    </tr>\n",
       "    <tr>\n",
       "      <th>4</th>\n",
       "      <td>$Z_0$</td>\n",
       "      <td>0</td>\n",
       "      <td>0</td>\n",
       "      <td>0</td>\n",
       "    </tr>\n",
       "    <tr>\n",
       "      <th>5</th>\n",
       "      <td>$Z_0$</td>\n",
       "      <td>0</td>\n",
       "      <td>0</td>\n",
       "      <td>1</td>\n",
       "    </tr>\n",
       "  </tbody>\n",
       "</table>\n",
       "</div>"
      ],
      "text/plain": [
       "    Line  x  y  z\n",
       "0  $X_0$  0  0  0\n",
       "1  $X_0$  1  0  0\n",
       "2  $Y_0$  0  0  0\n",
       "3  $Y_0$  0  1  0\n",
       "4  $Z_0$  0  0  0\n",
       "5  $Z_0$  0  0  1"
      ]
     },
     "metadata": {},
     "output_type": "display_data"
    },
    {
     "data": {
      "text/html": [
       "<div>\n",
       "<style scoped>\n",
       "    .dataframe tbody tr th:only-of-type {\n",
       "        vertical-align: middle;\n",
       "    }\n",
       "\n",
       "    .dataframe tbody tr th {\n",
       "        vertical-align: top;\n",
       "    }\n",
       "\n",
       "    .dataframe thead th {\n",
       "        text-align: right;\n",
       "    }\n",
       "</style>\n",
       "<table border=\"1\" class=\"dataframe\">\n",
       "  <thead>\n",
       "    <tr style=\"text-align: right;\">\n",
       "      <th></th>\n",
       "      <th>x</th>\n",
       "      <th>y</th>\n",
       "      <th>z</th>\n",
       "    </tr>\n",
       "  </thead>\n",
       "  <tbody>\n",
       "    <tr>\n",
       "      <th>0</th>\n",
       "      <td>1</td>\n",
       "      <td>2</td>\n",
       "      <td>3</td>\n",
       "    </tr>\n",
       "  </tbody>\n",
       "</table>\n",
       "</div>"
      ],
      "text/plain": [
       "   x  y  z\n",
       "0  1  2  3"
      ]
     },
     "metadata": {},
     "output_type": "display_data"
    },
    {
     "data": {
      "application/vnd.plotly.v1+json": {
       "config": {
        "plotlyServerURL": "https://plot.ly"
       },
       "data": [
        {
         "hovertemplate": "Line=$X_0$<br>x=%{x}<br>y=%{y}<br>z=%{z}<extra></extra>",
         "legendgroup": "$X_0$",
         "line": {
          "color": "#636efa",
          "dash": "solid"
         },
         "marker": {
          "symbol": "circle"
         },
         "mode": "lines",
         "name": "$X_0$",
         "scene": "scene",
         "showlegend": true,
         "type": "scatter3d",
         "x": [
          0,
          1
         ],
         "y": [
          0,
          0
         ],
         "z": [
          0,
          0
         ]
        },
        {
         "hovertemplate": "Line=$Y_0$<br>x=%{x}<br>y=%{y}<br>z=%{z}<extra></extra>",
         "legendgroup": "$Y_0$",
         "line": {
          "color": "#EF553B",
          "dash": "solid"
         },
         "marker": {
          "symbol": "circle"
         },
         "mode": "lines",
         "name": "$Y_0$",
         "scene": "scene",
         "showlegend": true,
         "type": "scatter3d",
         "x": [
          0,
          0
         ],
         "y": [
          0,
          1
         ],
         "z": [
          0,
          0
         ]
        },
        {
         "hovertemplate": "Line=$Z_0$<br>x=%{x}<br>y=%{y}<br>z=%{z}<extra></extra>",
         "legendgroup": "$Z_0$",
         "line": {
          "color": "#00cc96",
          "dash": "solid"
         },
         "marker": {
          "symbol": "circle"
         },
         "mode": "lines",
         "name": "$Z_0$",
         "scene": "scene",
         "showlegend": true,
         "type": "scatter3d",
         "x": [
          0,
          0
         ],
         "y": [
          0,
          0
         ],
         "z": [
          0,
          1
         ]
        },
        {
         "hovertemplate": "x=%{x}<br>y=%{y}<br>z=%{z}<extra></extra>",
         "legendgroup": "",
         "marker": {
          "color": "#636efa",
          "symbol": "circle"
         },
         "mode": "markers",
         "name": "",
         "scene": "scene",
         "showlegend": false,
         "type": "scatter3d",
         "x": [
          1
         ],
         "y": [
          2
         ],
         "z": [
          3
         ]
        }
       ],
       "layout": {
        "paper_bgcolor": "rgba(0, 0, 0, 0)",
        "plot_bgcolor": "rgba(0, 0, 0, 0.5)",
        "template": {
         "data": {
          "bar": [
           {
            "error_x": {
             "color": "#2a3f5f"
            },
            "error_y": {
             "color": "#2a3f5f"
            },
            "marker": {
             "line": {
              "color": "#E5ECF6",
              "width": 0.5
             },
             "pattern": {
              "fillmode": "overlay",
              "size": 10,
              "solidity": 0.2
             }
            },
            "type": "bar"
           }
          ],
          "barpolar": [
           {
            "marker": {
             "line": {
              "color": "#E5ECF6",
              "width": 0.5
             },
             "pattern": {
              "fillmode": "overlay",
              "size": 10,
              "solidity": 0.2
             }
            },
            "type": "barpolar"
           }
          ],
          "carpet": [
           {
            "aaxis": {
             "endlinecolor": "#2a3f5f",
             "gridcolor": "white",
             "linecolor": "white",
             "minorgridcolor": "white",
             "startlinecolor": "#2a3f5f"
            },
            "baxis": {
             "endlinecolor": "#2a3f5f",
             "gridcolor": "white",
             "linecolor": "white",
             "minorgridcolor": "white",
             "startlinecolor": "#2a3f5f"
            },
            "type": "carpet"
           }
          ],
          "choropleth": [
           {
            "colorbar": {
             "outlinewidth": 0,
             "ticks": ""
            },
            "type": "choropleth"
           }
          ],
          "contour": [
           {
            "colorbar": {
             "outlinewidth": 0,
             "ticks": ""
            },
            "colorscale": [
             [
              0,
              "#0d0887"
             ],
             [
              0.1111111111111111,
              "#46039f"
             ],
             [
              0.2222222222222222,
              "#7201a8"
             ],
             [
              0.3333333333333333,
              "#9c179e"
             ],
             [
              0.4444444444444444,
              "#bd3786"
             ],
             [
              0.5555555555555556,
              "#d8576b"
             ],
             [
              0.6666666666666666,
              "#ed7953"
             ],
             [
              0.7777777777777778,
              "#fb9f3a"
             ],
             [
              0.8888888888888888,
              "#fdca26"
             ],
             [
              1,
              "#f0f921"
             ]
            ],
            "type": "contour"
           }
          ],
          "contourcarpet": [
           {
            "colorbar": {
             "outlinewidth": 0,
             "ticks": ""
            },
            "type": "contourcarpet"
           }
          ],
          "heatmap": [
           {
            "colorbar": {
             "outlinewidth": 0,
             "ticks": ""
            },
            "colorscale": [
             [
              0,
              "#0d0887"
             ],
             [
              0.1111111111111111,
              "#46039f"
             ],
             [
              0.2222222222222222,
              "#7201a8"
             ],
             [
              0.3333333333333333,
              "#9c179e"
             ],
             [
              0.4444444444444444,
              "#bd3786"
             ],
             [
              0.5555555555555556,
              "#d8576b"
             ],
             [
              0.6666666666666666,
              "#ed7953"
             ],
             [
              0.7777777777777778,
              "#fb9f3a"
             ],
             [
              0.8888888888888888,
              "#fdca26"
             ],
             [
              1,
              "#f0f921"
             ]
            ],
            "type": "heatmap"
           }
          ],
          "heatmapgl": [
           {
            "colorbar": {
             "outlinewidth": 0,
             "ticks": ""
            },
            "colorscale": [
             [
              0,
              "#0d0887"
             ],
             [
              0.1111111111111111,
              "#46039f"
             ],
             [
              0.2222222222222222,
              "#7201a8"
             ],
             [
              0.3333333333333333,
              "#9c179e"
             ],
             [
              0.4444444444444444,
              "#bd3786"
             ],
             [
              0.5555555555555556,
              "#d8576b"
             ],
             [
              0.6666666666666666,
              "#ed7953"
             ],
             [
              0.7777777777777778,
              "#fb9f3a"
             ],
             [
              0.8888888888888888,
              "#fdca26"
             ],
             [
              1,
              "#f0f921"
             ]
            ],
            "type": "heatmapgl"
           }
          ],
          "histogram": [
           {
            "marker": {
             "pattern": {
              "fillmode": "overlay",
              "size": 10,
              "solidity": 0.2
             }
            },
            "type": "histogram"
           }
          ],
          "histogram2d": [
           {
            "colorbar": {
             "outlinewidth": 0,
             "ticks": ""
            },
            "colorscale": [
             [
              0,
              "#0d0887"
             ],
             [
              0.1111111111111111,
              "#46039f"
             ],
             [
              0.2222222222222222,
              "#7201a8"
             ],
             [
              0.3333333333333333,
              "#9c179e"
             ],
             [
              0.4444444444444444,
              "#bd3786"
             ],
             [
              0.5555555555555556,
              "#d8576b"
             ],
             [
              0.6666666666666666,
              "#ed7953"
             ],
             [
              0.7777777777777778,
              "#fb9f3a"
             ],
             [
              0.8888888888888888,
              "#fdca26"
             ],
             [
              1,
              "#f0f921"
             ]
            ],
            "type": "histogram2d"
           }
          ],
          "histogram2dcontour": [
           {
            "colorbar": {
             "outlinewidth": 0,
             "ticks": ""
            },
            "colorscale": [
             [
              0,
              "#0d0887"
             ],
             [
              0.1111111111111111,
              "#46039f"
             ],
             [
              0.2222222222222222,
              "#7201a8"
             ],
             [
              0.3333333333333333,
              "#9c179e"
             ],
             [
              0.4444444444444444,
              "#bd3786"
             ],
             [
              0.5555555555555556,
              "#d8576b"
             ],
             [
              0.6666666666666666,
              "#ed7953"
             ],
             [
              0.7777777777777778,
              "#fb9f3a"
             ],
             [
              0.8888888888888888,
              "#fdca26"
             ],
             [
              1,
              "#f0f921"
             ]
            ],
            "type": "histogram2dcontour"
           }
          ],
          "mesh3d": [
           {
            "colorbar": {
             "outlinewidth": 0,
             "ticks": ""
            },
            "type": "mesh3d"
           }
          ],
          "parcoords": [
           {
            "line": {
             "colorbar": {
              "outlinewidth": 0,
              "ticks": ""
             }
            },
            "type": "parcoords"
           }
          ],
          "pie": [
           {
            "automargin": true,
            "type": "pie"
           }
          ],
          "scatter": [
           {
            "fillpattern": {
             "fillmode": "overlay",
             "size": 10,
             "solidity": 0.2
            },
            "type": "scatter"
           }
          ],
          "scatter3d": [
           {
            "line": {
             "colorbar": {
              "outlinewidth": 0,
              "ticks": ""
             }
            },
            "marker": {
             "colorbar": {
              "outlinewidth": 0,
              "ticks": ""
             }
            },
            "type": "scatter3d"
           }
          ],
          "scattercarpet": [
           {
            "marker": {
             "colorbar": {
              "outlinewidth": 0,
              "ticks": ""
             }
            },
            "type": "scattercarpet"
           }
          ],
          "scattergeo": [
           {
            "marker": {
             "colorbar": {
              "outlinewidth": 0,
              "ticks": ""
             }
            },
            "type": "scattergeo"
           }
          ],
          "scattergl": [
           {
            "marker": {
             "colorbar": {
              "outlinewidth": 0,
              "ticks": ""
             }
            },
            "type": "scattergl"
           }
          ],
          "scattermapbox": [
           {
            "marker": {
             "colorbar": {
              "outlinewidth": 0,
              "ticks": ""
             }
            },
            "type": "scattermapbox"
           }
          ],
          "scatterpolar": [
           {
            "marker": {
             "colorbar": {
              "outlinewidth": 0,
              "ticks": ""
             }
            },
            "type": "scatterpolar"
           }
          ],
          "scatterpolargl": [
           {
            "marker": {
             "colorbar": {
              "outlinewidth": 0,
              "ticks": ""
             }
            },
            "type": "scatterpolargl"
           }
          ],
          "scatterternary": [
           {
            "marker": {
             "colorbar": {
              "outlinewidth": 0,
              "ticks": ""
             }
            },
            "type": "scatterternary"
           }
          ],
          "surface": [
           {
            "colorbar": {
             "outlinewidth": 0,
             "ticks": ""
            },
            "colorscale": [
             [
              0,
              "#0d0887"
             ],
             [
              0.1111111111111111,
              "#46039f"
             ],
             [
              0.2222222222222222,
              "#7201a8"
             ],
             [
              0.3333333333333333,
              "#9c179e"
             ],
             [
              0.4444444444444444,
              "#bd3786"
             ],
             [
              0.5555555555555556,
              "#d8576b"
             ],
             [
              0.6666666666666666,
              "#ed7953"
             ],
             [
              0.7777777777777778,
              "#fb9f3a"
             ],
             [
              0.8888888888888888,
              "#fdca26"
             ],
             [
              1,
              "#f0f921"
             ]
            ],
            "type": "surface"
           }
          ],
          "table": [
           {
            "cells": {
             "fill": {
              "color": "#EBF0F8"
             },
             "line": {
              "color": "white"
             }
            },
            "header": {
             "fill": {
              "color": "#C8D4E3"
             },
             "line": {
              "color": "white"
             }
            },
            "type": "table"
           }
          ]
         },
         "layout": {
          "annotationdefaults": {
           "arrowcolor": "#2a3f5f",
           "arrowhead": 0,
           "arrowwidth": 1
          },
          "autotypenumbers": "strict",
          "coloraxis": {
           "colorbar": {
            "outlinewidth": 0,
            "ticks": ""
           }
          },
          "colorscale": {
           "diverging": [
            [
             0,
             "#8e0152"
            ],
            [
             0.1,
             "#c51b7d"
            ],
            [
             0.2,
             "#de77ae"
            ],
            [
             0.3,
             "#f1b6da"
            ],
            [
             0.4,
             "#fde0ef"
            ],
            [
             0.5,
             "#f7f7f7"
            ],
            [
             0.6,
             "#e6f5d0"
            ],
            [
             0.7,
             "#b8e186"
            ],
            [
             0.8,
             "#7fbc41"
            ],
            [
             0.9,
             "#4d9221"
            ],
            [
             1,
             "#276419"
            ]
           ],
           "sequential": [
            [
             0,
             "#0d0887"
            ],
            [
             0.1111111111111111,
             "#46039f"
            ],
            [
             0.2222222222222222,
             "#7201a8"
            ],
            [
             0.3333333333333333,
             "#9c179e"
            ],
            [
             0.4444444444444444,
             "#bd3786"
            ],
            [
             0.5555555555555556,
             "#d8576b"
            ],
            [
             0.6666666666666666,
             "#ed7953"
            ],
            [
             0.7777777777777778,
             "#fb9f3a"
            ],
            [
             0.8888888888888888,
             "#fdca26"
            ],
            [
             1,
             "#f0f921"
            ]
           ],
           "sequentialminus": [
            [
             0,
             "#0d0887"
            ],
            [
             0.1111111111111111,
             "#46039f"
            ],
            [
             0.2222222222222222,
             "#7201a8"
            ],
            [
             0.3333333333333333,
             "#9c179e"
            ],
            [
             0.4444444444444444,
             "#bd3786"
            ],
            [
             0.5555555555555556,
             "#d8576b"
            ],
            [
             0.6666666666666666,
             "#ed7953"
            ],
            [
             0.7777777777777778,
             "#fb9f3a"
            ],
            [
             0.8888888888888888,
             "#fdca26"
            ],
            [
             1,
             "#f0f921"
            ]
           ]
          },
          "colorway": [
           "#636efa",
           "#EF553B",
           "#00cc96",
           "#ab63fa",
           "#FFA15A",
           "#19d3f3",
           "#FF6692",
           "#B6E880",
           "#FF97FF",
           "#FECB52"
          ],
          "font": {
           "color": "#2a3f5f"
          },
          "geo": {
           "bgcolor": "white",
           "lakecolor": "white",
           "landcolor": "#E5ECF6",
           "showlakes": true,
           "showland": true,
           "subunitcolor": "white"
          },
          "hoverlabel": {
           "align": "left"
          },
          "hovermode": "closest",
          "mapbox": {
           "style": "light"
          },
          "paper_bgcolor": "white",
          "plot_bgcolor": "#E5ECF6",
          "polar": {
           "angularaxis": {
            "gridcolor": "white",
            "linecolor": "white",
            "ticks": ""
           },
           "bgcolor": "#E5ECF6",
           "radialaxis": {
            "gridcolor": "white",
            "linecolor": "white",
            "ticks": ""
           }
          },
          "scene": {
           "xaxis": {
            "backgroundcolor": "#E5ECF6",
            "gridcolor": "white",
            "gridwidth": 2,
            "linecolor": "white",
            "showbackground": true,
            "ticks": "",
            "zerolinecolor": "white"
           },
           "yaxis": {
            "backgroundcolor": "#E5ECF6",
            "gridcolor": "white",
            "gridwidth": 2,
            "linecolor": "white",
            "showbackground": true,
            "ticks": "",
            "zerolinecolor": "white"
           },
           "zaxis": {
            "backgroundcolor": "#E5ECF6",
            "gridcolor": "white",
            "gridwidth": 2,
            "linecolor": "white",
            "showbackground": true,
            "ticks": "",
            "zerolinecolor": "white"
           }
          },
          "shapedefaults": {
           "line": {
            "color": "#2a3f5f"
           }
          },
          "ternary": {
           "aaxis": {
            "gridcolor": "white",
            "linecolor": "white",
            "ticks": ""
           },
           "baxis": {
            "gridcolor": "white",
            "linecolor": "white",
            "ticks": ""
           },
           "bgcolor": "#E5ECF6",
           "caxis": {
            "gridcolor": "white",
            "linecolor": "white",
            "ticks": ""
           }
          },
          "title": {
           "x": 0.05
          },
          "xaxis": {
           "automargin": true,
           "gridcolor": "white",
           "linecolor": "white",
           "ticks": "",
           "title": {
            "standoff": 15
           },
           "zerolinecolor": "white",
           "zerolinewidth": 2
          },
          "yaxis": {
           "automargin": true,
           "gridcolor": "white",
           "linecolor": "white",
           "ticks": "",
           "title": {
            "standoff": 15
           },
           "zerolinecolor": "white",
           "zerolinewidth": 2
          }
         }
        }
       }
      },
      "text/html": [
       "<div>                            <div id=\"e8efc6e9-1792-42e8-bc1a-6143b3dd5e1f\" class=\"plotly-graph-div\" style=\"height:525px; width:100%;\"></div>            <script type=\"text/javascript\">                require([\"plotly\"], function(Plotly) {                    window.PLOTLYENV=window.PLOTLYENV || {};                                    if (document.getElementById(\"e8efc6e9-1792-42e8-bc1a-6143b3dd5e1f\")) {                    Plotly.newPlot(                        \"e8efc6e9-1792-42e8-bc1a-6143b3dd5e1f\",                        [{\"hovertemplate\":\"Line=$X_0$<br>x=%{x}<br>y=%{y}<br>z=%{z}<extra></extra>\",\"legendgroup\":\"$X_0$\",\"line\":{\"color\":\"#636efa\",\"dash\":\"solid\"},\"marker\":{\"symbol\":\"circle\"},\"mode\":\"lines\",\"name\":\"$X_0$\",\"scene\":\"scene\",\"showlegend\":true,\"x\":[0,1],\"y\":[0,0],\"z\":[0,0],\"type\":\"scatter3d\"},{\"hovertemplate\":\"Line=$Y_0$<br>x=%{x}<br>y=%{y}<br>z=%{z}<extra></extra>\",\"legendgroup\":\"$Y_0$\",\"line\":{\"color\":\"#EF553B\",\"dash\":\"solid\"},\"marker\":{\"symbol\":\"circle\"},\"mode\":\"lines\",\"name\":\"$Y_0$\",\"scene\":\"scene\",\"showlegend\":true,\"x\":[0,0],\"y\":[0,1],\"z\":[0,0],\"type\":\"scatter3d\"},{\"hovertemplate\":\"Line=$Z_0$<br>x=%{x}<br>y=%{y}<br>z=%{z}<extra></extra>\",\"legendgroup\":\"$Z_0$\",\"line\":{\"color\":\"#00cc96\",\"dash\":\"solid\"},\"marker\":{\"symbol\":\"circle\"},\"mode\":\"lines\",\"name\":\"$Z_0$\",\"scene\":\"scene\",\"showlegend\":true,\"x\":[0,0],\"y\":[0,0],\"z\":[0,1],\"type\":\"scatter3d\"},{\"hovertemplate\":\"x=%{x}<br>y=%{y}<br>z=%{z}<extra></extra>\",\"legendgroup\":\"\",\"marker\":{\"color\":\"#636efa\",\"symbol\":\"circle\"},\"mode\":\"markers\",\"name\":\"\",\"scene\":\"scene\",\"showlegend\":false,\"x\":[1],\"y\":[2],\"z\":[3],\"type\":\"scatter3d\"}],                        {\"template\":{\"data\":{\"histogram2dcontour\":[{\"type\":\"histogram2dcontour\",\"colorbar\":{\"outlinewidth\":0,\"ticks\":\"\"},\"colorscale\":[[0.0,\"#0d0887\"],[0.1111111111111111,\"#46039f\"],[0.2222222222222222,\"#7201a8\"],[0.3333333333333333,\"#9c179e\"],[0.4444444444444444,\"#bd3786\"],[0.5555555555555556,\"#d8576b\"],[0.6666666666666666,\"#ed7953\"],[0.7777777777777778,\"#fb9f3a\"],[0.8888888888888888,\"#fdca26\"],[1.0,\"#f0f921\"]]}],\"choropleth\":[{\"type\":\"choropleth\",\"colorbar\":{\"outlinewidth\":0,\"ticks\":\"\"}}],\"histogram2d\":[{\"type\":\"histogram2d\",\"colorbar\":{\"outlinewidth\":0,\"ticks\":\"\"},\"colorscale\":[[0.0,\"#0d0887\"],[0.1111111111111111,\"#46039f\"],[0.2222222222222222,\"#7201a8\"],[0.3333333333333333,\"#9c179e\"],[0.4444444444444444,\"#bd3786\"],[0.5555555555555556,\"#d8576b\"],[0.6666666666666666,\"#ed7953\"],[0.7777777777777778,\"#fb9f3a\"],[0.8888888888888888,\"#fdca26\"],[1.0,\"#f0f921\"]]}],\"heatmap\":[{\"type\":\"heatmap\",\"colorbar\":{\"outlinewidth\":0,\"ticks\":\"\"},\"colorscale\":[[0.0,\"#0d0887\"],[0.1111111111111111,\"#46039f\"],[0.2222222222222222,\"#7201a8\"],[0.3333333333333333,\"#9c179e\"],[0.4444444444444444,\"#bd3786\"],[0.5555555555555556,\"#d8576b\"],[0.6666666666666666,\"#ed7953\"],[0.7777777777777778,\"#fb9f3a\"],[0.8888888888888888,\"#fdca26\"],[1.0,\"#f0f921\"]]}],\"heatmapgl\":[{\"type\":\"heatmapgl\",\"colorbar\":{\"outlinewidth\":0,\"ticks\":\"\"},\"colorscale\":[[0.0,\"#0d0887\"],[0.1111111111111111,\"#46039f\"],[0.2222222222222222,\"#7201a8\"],[0.3333333333333333,\"#9c179e\"],[0.4444444444444444,\"#bd3786\"],[0.5555555555555556,\"#d8576b\"],[0.6666666666666666,\"#ed7953\"],[0.7777777777777778,\"#fb9f3a\"],[0.8888888888888888,\"#fdca26\"],[1.0,\"#f0f921\"]]}],\"contourcarpet\":[{\"type\":\"contourcarpet\",\"colorbar\":{\"outlinewidth\":0,\"ticks\":\"\"}}],\"contour\":[{\"type\":\"contour\",\"colorbar\":{\"outlinewidth\":0,\"ticks\":\"\"},\"colorscale\":[[0.0,\"#0d0887\"],[0.1111111111111111,\"#46039f\"],[0.2222222222222222,\"#7201a8\"],[0.3333333333333333,\"#9c179e\"],[0.4444444444444444,\"#bd3786\"],[0.5555555555555556,\"#d8576b\"],[0.6666666666666666,\"#ed7953\"],[0.7777777777777778,\"#fb9f3a\"],[0.8888888888888888,\"#fdca26\"],[1.0,\"#f0f921\"]]}],\"surface\":[{\"type\":\"surface\",\"colorbar\":{\"outlinewidth\":0,\"ticks\":\"\"},\"colorscale\":[[0.0,\"#0d0887\"],[0.1111111111111111,\"#46039f\"],[0.2222222222222222,\"#7201a8\"],[0.3333333333333333,\"#9c179e\"],[0.4444444444444444,\"#bd3786\"],[0.5555555555555556,\"#d8576b\"],[0.6666666666666666,\"#ed7953\"],[0.7777777777777778,\"#fb9f3a\"],[0.8888888888888888,\"#fdca26\"],[1.0,\"#f0f921\"]]}],\"mesh3d\":[{\"type\":\"mesh3d\",\"colorbar\":{\"outlinewidth\":0,\"ticks\":\"\"}}],\"scatter\":[{\"fillpattern\":{\"fillmode\":\"overlay\",\"size\":10,\"solidity\":0.2},\"type\":\"scatter\"}],\"parcoords\":[{\"type\":\"parcoords\",\"line\":{\"colorbar\":{\"outlinewidth\":0,\"ticks\":\"\"}}}],\"scatterpolargl\":[{\"type\":\"scatterpolargl\",\"marker\":{\"colorbar\":{\"outlinewidth\":0,\"ticks\":\"\"}}}],\"bar\":[{\"error_x\":{\"color\":\"#2a3f5f\"},\"error_y\":{\"color\":\"#2a3f5f\"},\"marker\":{\"line\":{\"color\":\"#E5ECF6\",\"width\":0.5},\"pattern\":{\"fillmode\":\"overlay\",\"size\":10,\"solidity\":0.2}},\"type\":\"bar\"}],\"scattergeo\":[{\"type\":\"scattergeo\",\"marker\":{\"colorbar\":{\"outlinewidth\":0,\"ticks\":\"\"}}}],\"scatterpolar\":[{\"type\":\"scatterpolar\",\"marker\":{\"colorbar\":{\"outlinewidth\":0,\"ticks\":\"\"}}}],\"histogram\":[{\"marker\":{\"pattern\":{\"fillmode\":\"overlay\",\"size\":10,\"solidity\":0.2}},\"type\":\"histogram\"}],\"scattergl\":[{\"type\":\"scattergl\",\"marker\":{\"colorbar\":{\"outlinewidth\":0,\"ticks\":\"\"}}}],\"scatter3d\":[{\"type\":\"scatter3d\",\"line\":{\"colorbar\":{\"outlinewidth\":0,\"ticks\":\"\"}},\"marker\":{\"colorbar\":{\"outlinewidth\":0,\"ticks\":\"\"}}}],\"scattermapbox\":[{\"type\":\"scattermapbox\",\"marker\":{\"colorbar\":{\"outlinewidth\":0,\"ticks\":\"\"}}}],\"scatterternary\":[{\"type\":\"scatterternary\",\"marker\":{\"colorbar\":{\"outlinewidth\":0,\"ticks\":\"\"}}}],\"scattercarpet\":[{\"type\":\"scattercarpet\",\"marker\":{\"colorbar\":{\"outlinewidth\":0,\"ticks\":\"\"}}}],\"carpet\":[{\"aaxis\":{\"endlinecolor\":\"#2a3f5f\",\"gridcolor\":\"white\",\"linecolor\":\"white\",\"minorgridcolor\":\"white\",\"startlinecolor\":\"#2a3f5f\"},\"baxis\":{\"endlinecolor\":\"#2a3f5f\",\"gridcolor\":\"white\",\"linecolor\":\"white\",\"minorgridcolor\":\"white\",\"startlinecolor\":\"#2a3f5f\"},\"type\":\"carpet\"}],\"table\":[{\"cells\":{\"fill\":{\"color\":\"#EBF0F8\"},\"line\":{\"color\":\"white\"}},\"header\":{\"fill\":{\"color\":\"#C8D4E3\"},\"line\":{\"color\":\"white\"}},\"type\":\"table\"}],\"barpolar\":[{\"marker\":{\"line\":{\"color\":\"#E5ECF6\",\"width\":0.5},\"pattern\":{\"fillmode\":\"overlay\",\"size\":10,\"solidity\":0.2}},\"type\":\"barpolar\"}],\"pie\":[{\"automargin\":true,\"type\":\"pie\"}]},\"layout\":{\"autotypenumbers\":\"strict\",\"colorway\":[\"#636efa\",\"#EF553B\",\"#00cc96\",\"#ab63fa\",\"#FFA15A\",\"#19d3f3\",\"#FF6692\",\"#B6E880\",\"#FF97FF\",\"#FECB52\"],\"font\":{\"color\":\"#2a3f5f\"},\"hovermode\":\"closest\",\"hoverlabel\":{\"align\":\"left\"},\"paper_bgcolor\":\"white\",\"plot_bgcolor\":\"#E5ECF6\",\"polar\":{\"bgcolor\":\"#E5ECF6\",\"angularaxis\":{\"gridcolor\":\"white\",\"linecolor\":\"white\",\"ticks\":\"\"},\"radialaxis\":{\"gridcolor\":\"white\",\"linecolor\":\"white\",\"ticks\":\"\"}},\"ternary\":{\"bgcolor\":\"#E5ECF6\",\"aaxis\":{\"gridcolor\":\"white\",\"linecolor\":\"white\",\"ticks\":\"\"},\"baxis\":{\"gridcolor\":\"white\",\"linecolor\":\"white\",\"ticks\":\"\"},\"caxis\":{\"gridcolor\":\"white\",\"linecolor\":\"white\",\"ticks\":\"\"}},\"coloraxis\":{\"colorbar\":{\"outlinewidth\":0,\"ticks\":\"\"}},\"colorscale\":{\"sequential\":[[0.0,\"#0d0887\"],[0.1111111111111111,\"#46039f\"],[0.2222222222222222,\"#7201a8\"],[0.3333333333333333,\"#9c179e\"],[0.4444444444444444,\"#bd3786\"],[0.5555555555555556,\"#d8576b\"],[0.6666666666666666,\"#ed7953\"],[0.7777777777777778,\"#fb9f3a\"],[0.8888888888888888,\"#fdca26\"],[1.0,\"#f0f921\"]],\"sequentialminus\":[[0.0,\"#0d0887\"],[0.1111111111111111,\"#46039f\"],[0.2222222222222222,\"#7201a8\"],[0.3333333333333333,\"#9c179e\"],[0.4444444444444444,\"#bd3786\"],[0.5555555555555556,\"#d8576b\"],[0.6666666666666666,\"#ed7953\"],[0.7777777777777778,\"#fb9f3a\"],[0.8888888888888888,\"#fdca26\"],[1.0,\"#f0f921\"]],\"diverging\":[[0,\"#8e0152\"],[0.1,\"#c51b7d\"],[0.2,\"#de77ae\"],[0.3,\"#f1b6da\"],[0.4,\"#fde0ef\"],[0.5,\"#f7f7f7\"],[0.6,\"#e6f5d0\"],[0.7,\"#b8e186\"],[0.8,\"#7fbc41\"],[0.9,\"#4d9221\"],[1,\"#276419\"]]},\"xaxis\":{\"gridcolor\":\"white\",\"linecolor\":\"white\",\"ticks\":\"\",\"title\":{\"standoff\":15},\"zerolinecolor\":\"white\",\"automargin\":true,\"zerolinewidth\":2},\"yaxis\":{\"gridcolor\":\"white\",\"linecolor\":\"white\",\"ticks\":\"\",\"title\":{\"standoff\":15},\"zerolinecolor\":\"white\",\"automargin\":true,\"zerolinewidth\":2},\"scene\":{\"xaxis\":{\"backgroundcolor\":\"#E5ECF6\",\"gridcolor\":\"white\",\"linecolor\":\"white\",\"showbackground\":true,\"ticks\":\"\",\"zerolinecolor\":\"white\",\"gridwidth\":2},\"yaxis\":{\"backgroundcolor\":\"#E5ECF6\",\"gridcolor\":\"white\",\"linecolor\":\"white\",\"showbackground\":true,\"ticks\":\"\",\"zerolinecolor\":\"white\",\"gridwidth\":2},\"zaxis\":{\"backgroundcolor\":\"#E5ECF6\",\"gridcolor\":\"white\",\"linecolor\":\"white\",\"showbackground\":true,\"ticks\":\"\",\"zerolinecolor\":\"white\",\"gridwidth\":2}},\"shapedefaults\":{\"line\":{\"color\":\"#2a3f5f\"}},\"annotationdefaults\":{\"arrowcolor\":\"#2a3f5f\",\"arrowhead\":0,\"arrowwidth\":1},\"geo\":{\"bgcolor\":\"white\",\"landcolor\":\"#E5ECF6\",\"subunitcolor\":\"white\",\"showland\":true,\"showlakes\":true,\"lakecolor\":\"white\"},\"title\":{\"x\":0.05},\"mapbox\":{\"style\":\"light\"}}},\"plot_bgcolor\":\"rgba(0, 0, 0, 0.5)\",\"paper_bgcolor\":\"rgba(0, 0, 0, 0)\"},                        {\"responsive\": true}                    ).then(function(){\n",
       "                            \n",
       "var gd = document.getElementById('e8efc6e9-1792-42e8-bc1a-6143b3dd5e1f');\n",
       "var x = new MutationObserver(function (mutations, observer) {{\n",
       "        var display = window.getComputedStyle(gd).display;\n",
       "        if (!display || display === 'none') {{\n",
       "            console.log([gd, 'removed!']);\n",
       "            Plotly.purge(gd);\n",
       "            observer.disconnect();\n",
       "        }}\n",
       "}});\n",
       "\n",
       "// Listen for the removal of the full notebook cells\n",
       "var notebookContainer = gd.closest('#notebook-container');\n",
       "if (notebookContainer) {{\n",
       "    x.observe(notebookContainer, {childList: true});\n",
       "}}\n",
       "\n",
       "// Listen for the clearing of the current output cell\n",
       "var outputEl = gd.closest('.output');\n",
       "if (outputEl) {{\n",
       "    x.observe(outputEl, {childList: true});\n",
       "}}\n",
       "\n",
       "                        })                };                });            </script>        </div>"
      ]
     },
     "metadata": {},
     "output_type": "display_data"
    }
   ],
   "source": [
    "import plotly.express as px\n",
    "import plotly.graph_objects as go\n",
    "import numpy as np \n",
    "import pandas as pd\n",
    "# Line=[\"$X_0$\",\"$X_0$\",\"$Y_0$\",\"$Y_0$\",\"$Z_0$\",\"$Z_0$\",\"$X_1$\",\"$X_1$\",\"$Y_1$\",\"$Y_1$\",\"$Z_1$\",\"$Z_1$\"]\n",
    "Line=[\"$X_0$\",\"$X_0$\",\"$Y_0$\",\"$Y_0$\",\"$Z_0$\",\"$Z_0$\"]\n",
    "x = np.array([0,1,0,0,0,0])\n",
    "y = np.array([0,0,0,1,0,0])\n",
    "z = np.array([0,0,0,0,0,1])\n",
    "df1 = pd.DataFrame({\"Line\":Line,\"x\": x, \"y\":y, \"z\":z})\n",
    "display(df1)\n",
    "fig = px.line_3d(df1, x=\"x\", y=\"y\", z=\"z\",color='Line')\n",
    "\n",
    "df2=pd.DataFrame({\"x\": [1], \"y\":[2], \"z\":[3]})\n",
    "fig2 = px.scatter_3d(df2, x=\"x\", y=\"y\", z=\"z\")\n",
    "\n",
    "fig3 = go.Figure(data=fig.data + fig2.data)\n",
    "\n",
    "fig3.update_layout({\n",
    "    'plot_bgcolor': 'rgba(0, 0, 0, 0.5)',\n",
    "    'paper_bgcolor': 'rgba(0, 0, 0, 0)'\n",
    "    })\n",
    "\n",
    "display(df2)\n",
    "fig3.show()"
   ]
  },
  {
   "cell_type": "markdown",
   "id": "1427889f",
   "metadata": {},
   "source": [
    "## Complete"
   ]
  },
  {
   "cell_type": "code",
   "execution_count": null,
   "id": "c643c01c",
   "metadata": {},
   "outputs": [],
   "source": [
    "import numpy as np \n",
    "def orderMult(order,Tr,Rx,Ry,Rz,type):\n",
    "    \n",
    "    MatDict = {char: ord(char) for char in order}\n",
    "    MatDict = {char: ord(char) for char in order}\n",
    "#     print(MatDict)\n",
    "    MatDict['T'] = Tr\n",
    "    MatDict['X'] = Rx\n",
    "    MatDict['Y'] = Ry\n",
    "    MatDict['Z'] = Rz\n",
    "    keys = list(MatDict.keys())\n",
    "#     print(keys)\n",
    "    val1 = MatDict[keys[0]]\n",
    "#     print(val1)\n",
    "    val2 = MatDict[keys[1]]\n",
    "#     print(val2)\n",
    "    val3 = MatDict[keys[2]]\n",
    "#     print(val3)\n",
    "    val4 = MatDict[keys[3]]\n",
    "#     print(MatDict)\n",
    "\n",
    "    if type==1:\n",
    "        RotMat = val4 @ val3 @ val2 @ val1\n",
    "    elif type==2:\n",
    "        RotMat = val1 @ val2 @ val3 @ val4\n",
    "#         RotMat = val4 @ val3 @ val2 @ val1\n",
    "#     print(RotMat)\n",
    "    return RotMat\n",
    "\n",
    "def coordinateTransform(order='TXYZ', Tra=[0,0,0], a_x=0, a_y=0, a_z=0, point=[0,0,0], type=1):\n",
    "    '''\n",
    "    Order = order of transformation and rotation \"TXYZ\"\n",
    "    Tra = Translation of a coordinate or point\n",
    "    a_x = anti-clockwise rotation along the x-axis\n",
    "    a_y = anti-clockwise rotation along the y-axis\n",
    "    a_z = anti-clockwise rotation along the z-axis\n",
    "    point = point coordinate\n",
    "    type = 1 & 2 (1: for coordinate transformation, 2: for point transformation)\n",
    "\n",
    "    '''\n",
    "    Xc = np.matrix([[point[0]], [point[1]], [point[2]] ,[1]])\n",
    "    theta_x = np.deg2rad(a_x)\n",
    "    theta_y = np.deg2rad(a_y)\n",
    "    theta_z = np.deg2rad(a_z)\n",
    "    \n",
    "    if type==2:\n",
    "        tx = Tra[0]\n",
    "        ty = Tra[1]\n",
    "        tz = Tra[2]\n",
    "    elif type==1:\n",
    "        tx = Tra[0]*-1\n",
    "        ty = Tra[1]*-1\n",
    "        tz = Tra[2]*-1\n",
    "        theta_x = np.deg2rad(a_x)*-1\n",
    "        theta_y = np.deg2rad(a_y)*-1\n",
    "        theta_z = np.deg2rad(a_z)*-1\n",
    "    else:\n",
    "        print(\"Enter type=1: for coordinate tranformation & type=2: for point tranformation\")\n",
    "    \n",
    "    Tr = np.matrix([[1, 0, 0 ,tx], [0, 1,0, ty], [0, 0, 1 ,tz],[0, 0, 0 ,1]])\n",
    "#     print(Tr)  \n",
    "    Rx = np.matrix([[1, 0, 0 ,0], [0, np.cos(theta_x), -np.sin(theta_x), 0], [0, np.sin(theta_x), np.cos(theta_x), 0],[0, 0, 0 ,1]])\n",
    "#     print(Rx)\n",
    "    Ry = np.matrix([[np.cos(theta_y), 0, np.sin(theta_y) ,0], [0, 1,0, 0], [-np.sin(theta_y), 0, np.cos(theta_y), 0],[0, 0, 0 ,1]])\n",
    "#     print(Ry)\n",
    "    Rz = np.matrix([[np.cos(theta_z), -np.sin(theta_z), 0 ,0], [np.sin(theta_z), np.cos(theta_z), 0, 0], [0, 0, 1 ,0],[0, 0, 0 ,1]])\n",
    "#     print(Rz)\n",
    "    RotMat = orderMult(order,Tr,Rx,Ry,Rz,type)\n",
    "    \n",
    "    Xf = RotMat @ Xc\n",
    "    Xf=Xf[0:3].tolist()\n",
    "    return [Xf[0][0],Xf[1][0],Xf[2][0]]"
   ]
  },
  {
   "cell_type": "code",
   "execution_count": null,
   "id": "0304c641",
   "metadata": {},
   "outputs": [],
   "source": []
  },
  {
   "cell_type": "code",
   "execution_count": null,
   "id": "210510f8",
   "metadata": {},
   "outputs": [],
   "source": [
    "import plotly.express as px\n",
    "import plotly.graph_objects as go\n",
    "import numpy as np \n",
    "import pandas as pd\n",
    "\n",
    "order='TXYZ'\n",
    "Tra=[0.5,0.5,0]\n",
    "a_x=0\n",
    "a_y=0\n",
    "a_z=45\n",
    "p=[1,5,1]\n",
    "\n",
    "Xa=[0,0,0]\n",
    "Xb=[1,0,0]\n",
    "Ya=[0,0,0]\n",
    "Yb=[0,1,0]\n",
    "Za=[0,0,0]\n",
    "Zb=[0,0,1]\n",
    "\n",
    "type=2\n",
    "\n",
    "Xat=coordinateTransform(order, Tra, a_x, a_y, a_z, Xa, type)\n",
    "Xbt=coordinateTransform(order, Tra, a_x, a_y, a_z, Xb, type)\n",
    "Yat=coordinateTransform(order, Tra, a_x, a_y, a_z, Ya, type)\n",
    "Ybt=coordinateTransform(order, Tra, a_x, a_y, a_z, Yb, type)\n",
    "Zat=coordinateTransform(order, Tra, a_x, a_y, a_z, Za, type)\n",
    "Zbt=coordinateTransform(order, Tra, a_x, a_y, a_z, Zb, type)\n",
    "\n",
    "Line=[\"$X_0$\",\"$X_0$\",\"$Y_0$\",\"$Y_0$\",\"$Z_0$\",\"$Z_0$\",\"$X_1$\",\"$X_1$\",\"$Y_1$\",\"$Y_1$\",\"$Z_1$\",\"$Z_1$\"]\n",
    "x = np.array([Xa[0],Xb[0],Ya[0],Yb[0],Za[0],Zb[0],Xat[0],Xbt[0],Yat[0],Ybt[0],Zat[0],Zbt[0]])\n",
    "y = np.array([Xa[1],Xb[1],Ya[1],Yb[1],Za[1],Zb[1],Xat[1],Xbt[1],Yat[1],Ybt[1],Zat[1],Zbt[1]])\n",
    "z = np.array([Xa[2],Xb[2],Ya[2],Yb[2],Za[2],Zb[2],Xat[2],Xbt[2],Yat[2],Ybt[2],Zat[2],Zbt[2]])\n",
    "df1 = pd.DataFrame({\"Line\":Line,\"x\": x, \"y\":y, \"z\":z})\n",
    "# display(df1)\n",
    "fig1 = px.line_3d(df1, x=\"x\", y=\"y\", z=\"z\",color='Line',markers=True)\n",
    "fig1.update_traces(marker=dict(size=5),line=dict(width=6))\n",
    "\n",
    "df2=pd.DataFrame({\"Point\":[\"Point1\"],\"x\": [p[0]], \"y\":[p[1]], \"z\":[p[2]]})\n",
    "# display(df2)\n",
    "Xf=coordinateTransform(\"TXYZ\", Tra, a_x, a_y, a_z, p, 1)\n",
    "fig2 = px.scatter_3d(df2, x=\"x\", y=\"y\", z=\"z\",color='Point',text=[Xf])\n",
    "\n",
    "fig3 = go.Figure(data=fig1.data + fig2.data)\n",
    "fig3.update_layout(margin=dict(l=0, r=0, b=0, t=20),scene = dict(aspectmode='data'))\n",
    "fig3.show()\n",
    "\n",
    "Xf"
   ]
  },
  {
   "cell_type": "markdown",
   "id": "7ccb7338",
   "metadata": {},
   "source": [
    "---"
   ]
  },
  {
   "cell_type": "code",
   "execution_count": 2,
   "id": "8fa4a302",
   "metadata": {
    "ExecuteTime": {
     "end_time": "2023-04-16T07:30:14.303053Z",
     "start_time": "2023-04-16T07:30:14.288982Z"
    }
   },
   "outputs": [
    {
     "name": "stdout",
     "output_type": "stream",
     "text": [
      "['TXYZ', 'TXZY', 'TYXZ', 'TYZX', 'TZXY', 'TZYX', 'XTYZ', 'XTZY', 'XYTZ', 'XYZT', 'XZTY', 'XZYT', 'YTXZ', 'YTZX', 'YXTZ', 'YXZT', 'YZTX', 'YZXT', 'ZTXY', 'ZTYX', 'ZXTY', 'ZXYT', 'ZYTX', 'ZYXT']\n"
     ]
    }
   ],
   "source": [
    "from itertools import permutations\n",
    "\n",
    "def generate_permutations(characters):\n",
    "    perms = [''.join(p) for p in permutations(characters)]\n",
    "    return perms\n",
    "\n",
    "# Example usage\n",
    "characters = \"TXYZ\"\n",
    "perms = generate_permutations(characters)\n",
    "print(perms)\n"
   ]
  },
  {
   "cell_type": "code",
   "execution_count": 5,
   "id": "1ce5d73a",
   "metadata": {
    "ExecuteTime": {
     "end_time": "2023-04-16T07:33:32.212858Z",
     "start_time": "2023-04-16T07:33:31.932522Z"
    }
   },
   "outputs": [],
   "source": [
    "import pandas as pd\n",
    "df4=pd.DataFrame({\"Order\":['TXYZ', 'TXZY', 'TYXZ', 'TYZX', 'TZXY', 'TZYX', 'XTYZ', 'XTZY', 'XYTZ', 'XYZT', 'XZTY', 'XZYT', 'YTXZ', 'YTZX', 'YXTZ', 'YXZT', 'YZTX', 'YZXT', 'ZTXY', 'ZTYX', 'ZXTY', 'ZXYT', 'ZYTX', 'ZYXT']})"
   ]
  },
  {
   "cell_type": "code",
   "execution_count": 6,
   "id": "d516b093",
   "metadata": {
    "ExecuteTime": {
     "end_time": "2023-04-16T07:33:37.221572Z",
     "start_time": "2023-04-16T07:33:37.207511Z"
    }
   },
   "outputs": [
    {
     "data": {
      "text/html": [
       "<div>\n",
       "<style scoped>\n",
       "    .dataframe tbody tr th:only-of-type {\n",
       "        vertical-align: middle;\n",
       "    }\n",
       "\n",
       "    .dataframe tbody tr th {\n",
       "        vertical-align: top;\n",
       "    }\n",
       "\n",
       "    .dataframe thead th {\n",
       "        text-align: right;\n",
       "    }\n",
       "</style>\n",
       "<table border=\"1\" class=\"dataframe\">\n",
       "  <thead>\n",
       "    <tr style=\"text-align: right;\">\n",
       "      <th></th>\n",
       "      <th>Order</th>\n",
       "    </tr>\n",
       "  </thead>\n",
       "  <tbody>\n",
       "    <tr>\n",
       "      <th>0</th>\n",
       "      <td>TXYZ</td>\n",
       "    </tr>\n",
       "    <tr>\n",
       "      <th>1</th>\n",
       "      <td>TXZY</td>\n",
       "    </tr>\n",
       "    <tr>\n",
       "      <th>2</th>\n",
       "      <td>TYXZ</td>\n",
       "    </tr>\n",
       "    <tr>\n",
       "      <th>3</th>\n",
       "      <td>TYZX</td>\n",
       "    </tr>\n",
       "    <tr>\n",
       "      <th>4</th>\n",
       "      <td>TZXY</td>\n",
       "    </tr>\n",
       "    <tr>\n",
       "      <th>5</th>\n",
       "      <td>TZYX</td>\n",
       "    </tr>\n",
       "    <tr>\n",
       "      <th>6</th>\n",
       "      <td>XTYZ</td>\n",
       "    </tr>\n",
       "    <tr>\n",
       "      <th>7</th>\n",
       "      <td>XTZY</td>\n",
       "    </tr>\n",
       "    <tr>\n",
       "      <th>8</th>\n",
       "      <td>XYTZ</td>\n",
       "    </tr>\n",
       "    <tr>\n",
       "      <th>9</th>\n",
       "      <td>XYZT</td>\n",
       "    </tr>\n",
       "    <tr>\n",
       "      <th>10</th>\n",
       "      <td>XZTY</td>\n",
       "    </tr>\n",
       "    <tr>\n",
       "      <th>11</th>\n",
       "      <td>XZYT</td>\n",
       "    </tr>\n",
       "    <tr>\n",
       "      <th>12</th>\n",
       "      <td>YTXZ</td>\n",
       "    </tr>\n",
       "    <tr>\n",
       "      <th>13</th>\n",
       "      <td>YTZX</td>\n",
       "    </tr>\n",
       "    <tr>\n",
       "      <th>14</th>\n",
       "      <td>YXTZ</td>\n",
       "    </tr>\n",
       "    <tr>\n",
       "      <th>15</th>\n",
       "      <td>YXZT</td>\n",
       "    </tr>\n",
       "    <tr>\n",
       "      <th>16</th>\n",
       "      <td>YZTX</td>\n",
       "    </tr>\n",
       "    <tr>\n",
       "      <th>17</th>\n",
       "      <td>YZXT</td>\n",
       "    </tr>\n",
       "    <tr>\n",
       "      <th>18</th>\n",
       "      <td>ZTXY</td>\n",
       "    </tr>\n",
       "    <tr>\n",
       "      <th>19</th>\n",
       "      <td>ZTYX</td>\n",
       "    </tr>\n",
       "    <tr>\n",
       "      <th>20</th>\n",
       "      <td>ZXTY</td>\n",
       "    </tr>\n",
       "    <tr>\n",
       "      <th>21</th>\n",
       "      <td>ZXYT</td>\n",
       "    </tr>\n",
       "    <tr>\n",
       "      <th>22</th>\n",
       "      <td>ZYTX</td>\n",
       "    </tr>\n",
       "    <tr>\n",
       "      <th>23</th>\n",
       "      <td>ZYXT</td>\n",
       "    </tr>\n",
       "  </tbody>\n",
       "</table>\n",
       "</div>"
      ],
      "text/plain": [
       "   Order\n",
       "0   TXYZ\n",
       "1   TXZY\n",
       "2   TYXZ\n",
       "3   TYZX\n",
       "4   TZXY\n",
       "5   TZYX\n",
       "6   XTYZ\n",
       "7   XTZY\n",
       "8   XYTZ\n",
       "9   XYZT\n",
       "10  XZTY\n",
       "11  XZYT\n",
       "12  YTXZ\n",
       "13  YTZX\n",
       "14  YXTZ\n",
       "15  YXZT\n",
       "16  YZTX\n",
       "17  YZXT\n",
       "18  ZTXY\n",
       "19  ZTYX\n",
       "20  ZXTY\n",
       "21  ZXYT\n",
       "22  ZYTX\n",
       "23  ZYXT"
      ]
     },
     "execution_count": 6,
     "metadata": {},
     "output_type": "execute_result"
    }
   ],
   "source": [
    "df4"
   ]
  },
  {
   "cell_type": "markdown",
   "id": "295114f2",
   "metadata": {},
   "source": [
    "## complete with dash"
   ]
  },
  {
   "cell_type": "code",
   "execution_count": null,
   "id": "c8689dba",
   "metadata": {},
   "outputs": [],
   "source": [
    "#*********** imporing all the required library***********\n",
    "import numpy as np \n",
    "import pandas as pd\n",
    "import plotly.express as px\n",
    "import plotly.graph_objects as go\n",
    "from dash import Dash, dcc, html, Input, Output\n",
    "#*********** Functiond for coordinate trnsform ***********\n",
    "def orderMult(order,Tr,Rx,Ry,Rz,type):\n",
    "    \"\"\"[summary]\n",
    "\n",
    "    Args:\n",
    "        order ([type]): [description]\n",
    "        Tr ([type]): [description]\n",
    "        Rx ([type]): [description]\n",
    "        Ry ([type]): [description]\n",
    "        Rz ([type]): [description]\n",
    "        type ([type]): [description]\n",
    "\n",
    "    Returns:\n",
    "        [type]: [description]\n",
    "    \"\"\"\n",
    "    MatDict = {char: ord(char) for char in order}\n",
    "    MatDict['T'] = Tr\n",
    "    MatDict['X'] = Rx\n",
    "    MatDict['Y'] = Ry\n",
    "    MatDict['Z'] = Rz\n",
    "    keys = list(MatDict.keys())\n",
    "    val1 = MatDict[keys[0]]\n",
    "    val2 = MatDict[keys[1]]\n",
    "    val3 = MatDict[keys[2]]\n",
    "    val4 = MatDict[keys[3]]\n",
    "\n",
    "    if type==1:\n",
    "        RotMat = val4 @ val3 @ val2 @ val1\n",
    "        # RotMat=np.matmul(np.matmul(val4, val3), np.matmul(val2, val1))\n",
    "        # RotMat=np.matmul(val2, val3)\n",
    "    elif type==2:\n",
    "        RotMat = val1 @ val2 @ val3 @ val4\n",
    "        # RotMat=np.matmul(np.matmul(val1, val2), np.matmul(val3, val4))\n",
    "    return RotMat\n",
    "\n",
    "def coordinateTransform(order='TXYZ', Tra=[0,0,0], a_x=0, a_y=0, a_z=0, point=[0,0,0], type=1):\n",
    "    \"\"\"[summary]\n",
    "\n",
    "    Args:\n",
    "        order (str, optional): [order of transformation and rotation]. Defaults to 'TXYZ'.\n",
    "        Tra (list, optional): [Translation of a coordinate or point]. Defaults to [0,0,0].\n",
    "        a_x (int, optional): [anti-clockwise rotation along the x-axis]. Defaults to 0.\n",
    "        a_y (int, optional): [anti-clockwise rotation along the y-axis]. Defaults to 0.\n",
    "        a_z (int, optional): [anti-clockwise rotation along the z-axis]. Defaults to 0.\n",
    "        point (list, optional): [point to be transformed]. Defaults to [0,0,0].\n",
    "        type (int, optional): [1 & 2 (1: for coordinate transformation, 2: for point transformation with fix coordinate)]. Defaults to 1.\n",
    "\n",
    "    Returns:\n",
    "        [List]: [point coordinate after transformation]\n",
    "    \"\"\"\n",
    "\n",
    "    Xc = np.matrix([[point[0]], [point[1]], [point[2]] ,[1]])\n",
    "    theta_x = np.deg2rad(a_x)\n",
    "    theta_y = np.deg2rad(a_y)\n",
    "    theta_z = np.deg2rad(a_z)\n",
    "    \n",
    "    if type==2:\n",
    "        tx = Tra[0]\n",
    "        ty = Tra[1]\n",
    "        tz = Tra[2]\n",
    "    elif type==1:\n",
    "        tx = Tra[0]*-1\n",
    "        ty = Tra[1]*-1\n",
    "        tz = Tra[2]*-1\n",
    "        theta_x = np.deg2rad(a_x)*-1\n",
    "        theta_y = np.deg2rad(a_y)*-1\n",
    "        theta_z = np.deg2rad(a_z)*-1\n",
    "    else:\n",
    "        print(\"Enter type=1: for coordinate tranformation & type=2: for point tranformation\")\n",
    "    \n",
    "    Tr = np.matrix([[1, 0, 0 ,tx], [0, 1,0, ty], [0, 0, 1 ,tz],[0, 0, 0 ,1]])\n",
    "    Rx = np.matrix([[1, 0, 0 ,0], [0, np.cos(theta_x), -np.sin(theta_x), 0], [0, np.sin(theta_x), np.cos(theta_x), 0],[0, 0, 0 ,1]])\n",
    "    Ry = np.matrix([[np.cos(theta_y), 0, np.sin(theta_y) ,0], [0, 1,0, 0], [-np.sin(theta_y), 0, np.cos(theta_y), 0],[0, 0, 0 ,1]])\n",
    "    Rz = np.matrix([[np.cos(theta_z), -np.sin(theta_z), 0 ,0], [np.sin(theta_z), np.cos(theta_z), 0, 0], [0, 0, 1 ,0],[0, 0, 0 ,1]])\n",
    "\n",
    "    RotMat = orderMult(order,Tr,Rx,Ry,Rz,type)\n",
    "    Xf = RotMat @ Xc\n",
    "\n",
    "    Xf=Xf[0:3].tolist()\n",
    "    return [Xf[0][0],Xf[1][0],Xf[2][0]]\n",
    "\n",
    "def coordinatePlot(order='TXYZ', Tra=[0,0,0], a_x=0, a_y=0, a_z=0, point=[1,1,1], type=1,l=5):\n",
    "    \"\"\"[summary]\n",
    "\n",
    "    Args:\n",
    "        order (str, optional): [description]. Defaults to 'TXYZ'.\n",
    "        Tra (list, optional): [description]. Defaults to [0,0,0].\n",
    "        a_x (int, optional): [description]. Defaults to 0.\n",
    "        a_y (int, optional): [description]. Defaults to 0.\n",
    "        a_z (int, optional): [description]. Defaults to 0.\n",
    "        point (list, optional): [description]. Defaults to [0,0,0].\n",
    "        type (int, optional): [description]. Defaults to 1.\n",
    "        l (int, optional): [description]. Defaults to 5.\n",
    "    \"\"\"\n",
    "    Xf=coordinateTransform(order, Tra, a_x, a_y, a_z, point, type)\n",
    "    \n",
    "    Xa=[0,0,0]\n",
    "    Xb=[l,0,0]\n",
    "    Ya=[0,0,0]\n",
    "    Yb=[0,l,0]\n",
    "    Za=[0,0,0]\n",
    "    Zb=[0,0,l]\n",
    "    Xat=coordinateTransform(order, Tra, a_x, a_y, a_z, Xa, 2)\n",
    "    Xbt=coordinateTransform(order, Tra, a_x, a_y, a_z, Xb, 2)\n",
    "    Yat=coordinateTransform(order, Tra, a_x, a_y, a_z, Ya, 2)\n",
    "    Ybt=coordinateTransform(order, Tra, a_x, a_y, a_z, Yb, 2)\n",
    "    Zat=coordinateTransform(order, Tra, a_x, a_y, a_z, Za, 2)\n",
    "    Zbt=coordinateTransform(order, Tra, a_x, a_y, a_z, Zb, 2)\n",
    "    p=point\n",
    "    if type==1:\n",
    "        \n",
    "        Line=[\"$X_0$\",\"$X_0$\",\"$Y_0$\",\"$Y_0$\",\"$Z_0$\",\"$Z_0$\",\"$X_1$\",\"$X_1$\",\"$Y_1$\",\"$Y_1$\",\"$Z_1$\",\"$Z_1$\"]\n",
    "        x = np.array([Xa[0],Xb[0],Ya[0],Yb[0],Za[0],Zb[0],Xat[0],Xbt[0],Yat[0],Ybt[0],Zat[0],Zbt[0]])\n",
    "        y = np.array([Xa[1],Xb[1],Ya[1],Yb[1],Za[1],Zb[1],Xat[1],Xbt[1],Yat[1],Ybt[1],Zat[1],Zbt[1]])\n",
    "        z = np.array([Xa[2],Xb[2],Ya[2],Yb[2],Za[2],Zb[2],Xat[2],Xbt[2],Yat[2],Ybt[2],Zat[2],Zbt[2]])\n",
    "        df1 = pd.DataFrame({\"Line\":Line,\"x\": x, \"y\":y, \"z\":z})\n",
    "        # display(df1)\n",
    "        fig1 = px.line_3d(df1, x=\"x\", y=\"y\", z=\"z\",color='Line',markers=True)\n",
    "        fig1.update_traces(marker=dict(size=5),line=dict(width=6))\n",
    "        \n",
    "        df2=pd.DataFrame({\"Point\":[\"$p_0$\"],\"x\": [p[0]], \"y\":[p[1]], \"z\":[p[2]]})\n",
    "        # display(df2)\n",
    "        fig2 = px.scatter_3d(df2, x=\"x\", y=\"y\", z=\"z\",color='Point',text=[Xf])\n",
    "        fig3 = go.Figure(data=fig1.data + fig2.data)\n",
    "        fig3.update_layout(height=550,plot_bgcolor='rgba(0, 0, 0, 1)',paper_bgcolor='rgba(135, 206, 235, 1)',margin=dict(l=0, r=0, b=0, t=20),scene = dict(aspectmode='data'))\n",
    "        \n",
    "        return fig3\n",
    "\n",
    "    elif type==2:  \n",
    "        Line=[\"$X_0$\",\"$X_0$\",\"$Y_0$\",\"$Y_0$\",\"$Z_0$\",\"$Z_0$\"]\n",
    "        x = np.array([Xa[0],Xb[0],Ya[0],Yb[0],Za[0],Zb[0]])\n",
    "        y = np.array([Xa[1],Xb[1],Ya[1],Yb[1],Za[1],Zb[1]])\n",
    "        z = np.array([Xa[2],Xb[2],Ya[2],Yb[2],Za[2],Zb[2]])\n",
    "        df1 = pd.DataFrame({\"Line\":Line,\"x\": x, \"y\":y, \"z\":z})\n",
    "        # display(df1)\n",
    "        fig1 = px.line_3d(df1, x=\"x\", y=\"y\", z=\"z\",color='Line',markers=True)\n",
    "        fig1.update_traces(marker=dict(size=5),line=dict(width=6))\n",
    "        df2=pd.DataFrame({\"Point\":[\"$p_0$\",\"$p_1$\"],\"x\": [p[0], Xf[0]], \"y\":[p[1],Xf[1]], \"z\":[p[2],Xf[2]]})\n",
    "        # display(df2)\n",
    "        fig2 = px.scatter_3d(df2, x=\"x\", y=\"y\", z=\"z\",color='Point',text=[p,Xf])\n",
    "        fig3 = go.Figure(data=fig1.data + fig2.data)\n",
    "        fig3.update_layout(height=550,plot_bgcolor='rgba(0, 0, 2, 0)',paper_bgcolor='rgba(200, 200, 250, 1)',margin=dict(l=0, r=0, b=0, t=20),scene = dict(aspectmode='data'))\n",
    "        \n",
    "        return fig3\n",
    "\n",
    "    else:\n",
    "        print(\"Enter type=1: for coordinate tranformation & type=2: for point tranformation\")    \n",
    "\n",
    "  \n",
    "\n",
    "#**************** Bulding Dash-board ****************\n",
    "\n",
    "df4=pd.DataFrame({\"Order\":['TXYZ', 'TXZY', 'TYXZ', 'TYZX', \n",
    "                           'TZXY', 'TZYX', 'XTYZ', 'XTZY', 'XYTZ', \n",
    "                           'XYZT', 'XZTY', 'XZYT', 'YTXZ', 'YTZX', \n",
    "                           'YXTZ', 'YXZT', 'YZTX', 'YZXT', 'ZTXY', \n",
    "                           'ZTYX', 'ZXTY', 'ZXYT', 'ZYTX', 'ZYXT']})\n",
    "\n",
    "app = Dash(__name__)\n",
    "\n",
    "app.layout = html.Div([\n",
    "    html.Div([\n",
    "        html.Footer('@pramod.kumar'),\n",
    "        html.H2(children='Co-ordinate Trsnformation',style={'textAlign': 'center','color': 'rgba(0, 0, 235, 1)'}),\n",
    "        html.Div([\n",
    "            html.Br(),\n",
    "            html.B('Translation & Rotation Order'),\n",
    "            # dcc.Markdown('''***Translation & Rotation Order***'''),\n",
    "            dcc.Dropdown(\n",
    "                df4['Order'].unique(),\n",
    "                'TXYZ', id='ord'\n",
    "            ),\n",
    "            html.Br(),\n",
    "            html.B('Translation in x, y z direction'),  \n",
    "            # dcc.Markdown('''**Translation in x, y, z Direction**'''),          \n",
    "            html.Div([\n",
    "                html.Br(),\n",
    "                html.Label('dx: '),\n",
    "                dcc.Input(id='t1',type='number',value=1),\n",
    "                html.Br(),\n",
    "                html.Label('dy: '),\n",
    "                dcc.Input(id='t2',type='number',value=1), \n",
    "                html.Br(),\n",
    "                html.Label('dz: '),\n",
    "                dcc.Input(id='t3',type='number',value=1),                              \n",
    "            \n",
    "            ],style={'padding': 5, 'flex': 1}  ),\n",
    "            \n",
    "            html.Br(),\n",
    "            html.B('Rotation about x, y, z (deg)'),\n",
    "            # dcc.Markdown('''**Rotation about x, y, z (deg)**'''),             \n",
    "            html.Div([\n",
    "                html.Br(),\n",
    "                html.Label('Rx: '),\n",
    "                dcc.Input(id='rx',type='number',value=0),\n",
    "                html.Br(),\n",
    "                html.Label('Ry:  '),\n",
    "                dcc.Input(id='ry',type='number',value=0), \n",
    "                html.Br(),\n",
    "                html.Label('Rz:  '),\n",
    "                dcc.Input(id='rz',type='number',value=45),                              \n",
    "            \n",
    "            ],style={'padding': 5, 'flex': 1}  ),           \n",
    "            \n",
    "            html.Br(),\n",
    "            html.I('1:Coordinate Tranformation'),\n",
    "            html.Br(),\n",
    "            html.I('2:Point Tranformation'),\n",
    "            # dcc.Markdown('''*1:Coordinate Tranformation 2:Point Tranformation*'''),\n",
    "            dcc.RadioItems([1, 2], 1,id='typ', inline=False),\n",
    "            \n",
    "            html.Br(),\n",
    "            html.I('Triad Zoom'),\n",
    "            dcc.Slider(min=1,max=100,id='l',\n",
    "            marks={i: f'Zoom {i}' if i == 1 else str(i) for i in range(0, 101,10)},\n",
    "            value=5,\n",
    "            ),\n",
    "   \n",
    "        ], style={'width': '15%','padding': 5, 'display': 'inline-block'}),\n",
    "        \n",
    "        html.Div([\n",
    "            html.Br(),\n",
    "            # html.Label('Coordinate and point plot'),   \n",
    "            dcc.Graph(id='indicator-graphic'),\n",
    "            html.Br(),\n",
    "            html.I([html.B('Coordinate after Transformation')]),           \n",
    "            html.Table([\n",
    "            html.Tr([html.Td(['X', html.Sub(1), ': ']), html.Td(id='Xout')]),\n",
    "            html.Tr([html.Td(['Y', html.Sub(1), ': ']), html.Td(id='Yout')]),\n",
    "            html.Tr([html.Td(['Z', html.Sub(1), ': ']), html.Td(id='Zout')]),\n",
    "            ]),\n",
    "              \n",
    "        ],style={'width': '80%','height': '100%', 'float': 'right', 'display': 'inline-block'})\n",
    "                 \n",
    "    ]),\n",
    "    html.Br(),\n",
    "    html.B('Enter Initial Coordinate of Point'),             \n",
    "    html.Div([\n",
    "        html.Br(),\n",
    "        html.Label(['X', html.Sub(0), ': ']),\n",
    "        dcc.Input(id='p_x',type='number',value=1),\n",
    "        html.Br(),\n",
    "        html.Label(['Y', html.Sub(0), ': ']),\n",
    "        dcc.Input(id='p_y',type='number',value=2), \n",
    "        html.Br(),\n",
    "        # html.Label('Z0: '),\n",
    "        html.Label(['Z', html.Sub(0), ': ']),\n",
    "        dcc.Input(id='p_z',type='number',value=3),                              \n",
    "            \n",
    "    ],style={'width': '15%','padding': 5, 'display': 'inline-block'}  ),\n",
    "  \n",
    "])\n",
    "\n",
    "@app.callback(\n",
    "    Output('indicator-graphic','figure'),\n",
    "    Output('Xout','children'),\n",
    "    Output('Yout','children'),\n",
    "    Output('Zout','children'),\n",
    "    Input('ord', 'value'),\n",
    "    Input('typ', 'value'),\n",
    "    Input('t1', 'value'),\n",
    "    Input('t2', 'value'),\n",
    "    Input('t3', 'value'),\n",
    "    Input('rx', 'value'),\n",
    "    Input('ry', 'value'),\n",
    "    Input('rz', 'value'),\n",
    "    Input('l', 'value'),\n",
    "    Input('p_x', 'value'),\n",
    "    Input('p_y', 'value'),\n",
    "    Input('p_z', 'value')\n",
    "    )\n",
    "\n",
    "def update_graph(ord,typ,t1,t2,t3,rx,ry,rz,l,p_x,p_y,p_z):\n",
    "    Tr=[t1,t2,t3]\n",
    "    pnt=[p_x,p_y,p_z]\n",
    "    # fig= coordinatePlot(ord, Tr, rx, ry, rz, pnt,typ,l)\n",
    "    fig=coordinatePlot(order=ord, Tra=Tr, a_x=rx, a_y=ry, a_z=rz, point=pnt, type=typ,l=l)\n",
    "    Pout=coordinateTransform(order=ord, Tra=Tr, a_x=rx, a_y=ry, a_z=rz, point=pnt, type=typ)\n",
    "    return fig, Pout[0],Pout[1],Pout[2]\n",
    "\n",
    "if __name__ == '__main__':\n",
    "    app.run_server(debug=True)"
   ]
  }
 ],
 "metadata": {
  "kernelspec": {
   "display_name": "Python 3 (ipykernel)",
   "language": "python",
   "name": "python3"
  },
  "language_info": {
   "codemirror_mode": {
    "name": "ipython",
    "version": 3
   },
   "file_extension": ".py",
   "mimetype": "text/x-python",
   "name": "python",
   "nbconvert_exporter": "python",
   "pygments_lexer": "ipython3",
   "version": "3.9.1"
  },
  "toc": {
   "base_numbering": 1,
   "nav_menu": {},
   "number_sections": true,
   "sideBar": true,
   "skip_h1_title": false,
   "title_cell": "Table of Contents",
   "title_sidebar": "Contents",
   "toc_cell": false,
   "toc_position": {
    "height": "calc(100% - 180px)",
    "left": "10px",
    "top": "150px",
    "width": "286.225px"
   },
   "toc_section_display": true,
   "toc_window_display": true
  },
  "varInspector": {
   "cols": {
    "lenName": 16,
    "lenType": 16,
    "lenVar": 40
   },
   "kernels_config": {
    "python": {
     "delete_cmd_postfix": "",
     "delete_cmd_prefix": "del ",
     "library": "var_list.py",
     "varRefreshCmd": "print(var_dic_list())"
    },
    "r": {
     "delete_cmd_postfix": ") ",
     "delete_cmd_prefix": "rm(",
     "library": "var_list.r",
     "varRefreshCmd": "cat(var_dic_list()) "
    }
   },
   "types_to_exclude": [
    "module",
    "function",
    "builtin_function_or_method",
    "instance",
    "_Feature"
   ],
   "window_display": false
  }
 },
 "nbformat": 4,
 "nbformat_minor": 5
}
