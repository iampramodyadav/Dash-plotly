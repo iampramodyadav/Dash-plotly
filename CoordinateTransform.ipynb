{
 "cells": [
  {
   "cell_type": "markdown",
   "id": "4d4b4f29",
   "metadata": {},
   "source": [
    "# Coordinate Transformation"
   ]
  },
  {
   "cell_type": "markdown",
   "id": "e71b5d95",
   "metadata": {},
   "source": [
    "## Mathmatical Model\n",
    "\n",
    "[Coordinates and Transformations](http://motion.cs.illinois.edu/RoboticSystems/CoordinateTransformations.html)\n",
    "\n",
    "[Rotation matrix- Wiki](https://en.wikipedia.org/wiki/Rotation_matrix)"
   ]
  },
  {
   "cell_type": "markdown",
   "id": "b5abadbc",
   "metadata": {},
   "source": [
    "## Co-ordinate and point transformation"
   ]
  },
  {
   "cell_type": "code",
   "execution_count": 39,
   "id": "d2f5455b",
   "metadata": {
    "ExecuteTime": {
     "end_time": "2023-04-16T08:31:53.577643Z",
     "start_time": "2023-04-16T08:31:53.558917Z"
    }
   },
   "outputs": [],
   "source": [
    "import numpy as np \n",
    "def orderMult(order,Tr,Rx,Ry,Rz,type):\n",
    "    \n",
    "    MatDict = {char: ord(char) for char in order}\n",
    "#     print(MatDict)\n",
    "    MatDict['T'] = Tr\n",
    "    MatDict['X'] = Rx\n",
    "    MatDict['Y'] = Ry\n",
    "    MatDict['Z'] = Rz\n",
    "    keys = list(MatDict.keys())\n",
    "#     print(keys)\n",
    "    val1 = MatDict[keys[0]]\n",
    "#     print(val1)\n",
    "    val2 = MatDict[keys[1]]\n",
    "#     print(val2)\n",
    "    val3 = MatDict[keys[2]]\n",
    "#     print(val3)\n",
    "    val4 = MatDict[keys[3]]\n",
    "#     print(MatDict)\n",
    "\n",
    "    if type==1:\n",
    "        RotMat = val4 @ val3 @ val2 @ val1\n",
    "    elif type==2:\n",
    "        RotMat = val1 @ val2 @ val3 @ val4\n",
    "#         RotMat = val4 @ val3 @ val2 @ val1\n",
    "#     print(RotMat)\n",
    "    return RotMat\n",
    "\n",
    "def coordinateTransform(order='TXYZ', Tra=[0,0,0], a_x=0, a_y=0, a_z=0, point=[0,0,0], type=1):\n",
    "    '''\n",
    "    Order = order of transformation and rotation \"TXYZ\"\n",
    "    Tra = Translation of a coordinate or point\n",
    "    a_x = anti-clockwise rotation along the x-axis\n",
    "    a_y = anti-clockwise rotation along the y-axis\n",
    "    a_z = anti-clockwise rotation along the z-axis\n",
    "    point = point coordinate\n",
    "    type = 1 & 2 (1: for coordinate transformation, 2: for point transformation)\n",
    "\n",
    "    '''\n",
    "    Xc = np.matrix([[point[0]], [point[1]], [point[2]] ,[1]])\n",
    "    theta_x = np.deg2rad(a_x)\n",
    "    theta_y = np.deg2rad(a_y)\n",
    "    theta_z = np.deg2rad(a_z)\n",
    "    \n",
    "    if type==2:\n",
    "        tx = Tra[0]\n",
    "        ty = Tra[1]\n",
    "        tz = Tra[2]\n",
    "    elif type==1:\n",
    "        tx = Tra[0]*-1\n",
    "        ty = Tra[1]*-1\n",
    "        tz = Tra[2]*-1\n",
    "        theta_x = np.deg2rad(a_x)*-1\n",
    "        theta_y = np.deg2rad(a_y)*-1\n",
    "        theta_z = np.deg2rad(a_z)*-1\n",
    "    else:\n",
    "        print(\"Enter type=1: for coordinate tranformation & type=2: for point tranformation\")\n",
    "    \n",
    "    Tr = np.matrix([[1, 0, 0 ,tx], [0, 1,0, ty], [0, 0, 1 ,tz],[0, 0, 0 ,1]])\n",
    "#     print(Tr)  \n",
    "    Rx = np.matrix([[1, 0, 0 ,0], [0, np.cos(theta_x), -np.sin(theta_x), 0], [0, np.sin(theta_x), np.cos(theta_x), 0],[0, 0, 0 ,1]])\n",
    "#     print(Rx)\n",
    "    Ry = np.matrix([[np.cos(theta_y), 0, np.sin(theta_y) ,0], [0, 1,0, 0], [-np.sin(theta_y), 0, np.cos(theta_y), 0],[0, 0, 0 ,1]])\n",
    "#     print(Ry)\n",
    "    Rz = np.matrix([[np.cos(theta_z), -np.sin(theta_z), 0 ,0], [np.sin(theta_z), np.cos(theta_z), 0, 0], [0, 0, 1 ,0],[0, 0, 0 ,1]])\n",
    "#     print(Rz)\n",
    "    RotMat = orderMult(order,Tr,Rx,Ry,Rz,type)\n",
    "    \n",
    "    Xf = RotMat @ Xc\n",
    "    Xf=Xf[0:3].tolist()\n",
    "    return [Xf[0][0],Xf[1][0],Xf[2][0]]"
   ]
  },
  {
   "cell_type": "code",
   "execution_count": 40,
   "id": "025ec8cf",
   "metadata": {
    "ExecuteTime": {
     "end_time": "2023-04-16T08:31:54.661454Z",
     "start_time": "2023-04-16T08:31:54.656320Z"
    }
   },
   "outputs": [
    {
     "data": {
      "text/plain": [
       "[-5.0, -6.0, -2.0]"
      ]
     },
     "execution_count": 40,
     "metadata": {},
     "output_type": "execute_result"
    }
   ],
   "source": [
    "Xf=coordinateTransform(order=\"TYZX\",Tra=[5,6,2],a_x=0,a_y=0,a_z=0,point=[0,0,0],type=1)\n",
    "Xf"
   ]
  },
  {
   "cell_type": "code",
   "execution_count": 36,
   "id": "0b22d7e9",
   "metadata": {
    "ExecuteTime": {
     "end_time": "2023-04-16T08:28:25.031467Z",
     "start_time": "2023-04-16T08:28:25.019452Z"
    }
   },
   "outputs": [
    {
     "data": {
      "text/plain": [
       "[5.0, 6.0, 2.0]"
      ]
     },
     "execution_count": 36,
     "metadata": {},
     "output_type": "execute_result"
    }
   ],
   "source": [
    "Xf=coordinateTransform(order='TYZX', Tra=[5,6,2], a_x=0, a_y=0, a_z=0, point=[0,0,0],type=2)\n",
    "Xf"
   ]
  },
  {
   "cell_type": "code",
   "execution_count": 37,
   "id": "130f2731",
   "metadata": {
    "ExecuteTime": {
     "end_time": "2023-04-16T08:28:26.014189Z",
     "start_time": "2023-04-16T08:28:26.001058Z"
    }
   },
   "outputs": [
    {
     "data": {
      "text/plain": [
       "[1.4142135623730951, 0.0, 1.0]"
      ]
     },
     "execution_count": 37,
     "metadata": {},
     "output_type": "execute_result"
    }
   ],
   "source": [
    "Xf=coordinateTransform(order='TYZX', Tra=[0,0,0], a_x=0, a_y=0, a_z=45, point=[1,1,1],type=1)\n",
    "Xf"
   ]
  },
  {
   "cell_type": "code",
   "execution_count": 38,
   "id": "cddcdcf5",
   "metadata": {
    "ExecuteTime": {
     "end_time": "2023-04-16T08:28:27.076524Z",
     "start_time": "2023-04-16T08:28:27.065453Z"
    }
   },
   "outputs": [
    {
     "data": {
      "text/plain": [
       "[-0.9999999999999999, 1.0, 1.0]"
      ]
     },
     "execution_count": 38,
     "metadata": {},
     "output_type": "execute_result"
    }
   ],
   "source": [
    "Xf=coordinateTransform(order='TYZX', Tra=[0,0,0], a_x=0, a_y=0, a_z=90, point=[1,1,1],type=2)\n",
    "Xf"
   ]
  },
  {
   "cell_type": "code",
   "execution_count": 6,
   "id": "48bd16b7",
   "metadata": {
    "ExecuteTime": {
     "end_time": "2023-04-16T07:50:25.181116Z",
     "start_time": "2023-04-16T07:50:25.176582Z"
    }
   },
   "outputs": [],
   "source": []
  },
  {
   "cell_type": "code",
   "execution_count": 82,
   "id": "8a4427f7",
   "metadata": {
    "ExecuteTime": {
     "end_time": "2023-04-15T19:38:02.981412Z",
     "start_time": "2023-04-15T19:38:02.964394Z"
    }
   },
   "outputs": [
    {
     "data": {
      "text/plain": [
       "[1.0, 2.414213562373095, 2.0]"
      ]
     },
     "execution_count": 82,
     "metadata": {},
     "output_type": "execute_result"
    }
   ],
   "source": [
    "Xf=coordinateTransform(order, [1,1,1], a_x, a_y, a_z, [1,1,1],2)\n",
    "Xf"
   ]
  },
  {
   "cell_type": "markdown",
   "id": "d8d723b9",
   "metadata": {},
   "source": [
    "## Plot of triad"
   ]
  },
  {
   "cell_type": "code",
   "execution_count": null,
   "id": "0b16e95d",
   "metadata": {},
   "outputs": [],
   "source": []
  },
  {
   "cell_type": "code",
   "execution_count": 48,
   "id": "d567ddbe",
   "metadata": {
    "ExecuteTime": {
     "end_time": "2023-04-16T10:38:17.168973Z",
     "start_time": "2023-04-16T10:38:17.125576Z"
    }
   },
   "outputs": [],
   "source": [
    "def coordinatePlot(order='TXYZ', Tra=[0,0,0], a_x=0, a_y=0, a_z=0, point=[0,0,0], type=1,l=5):\n",
    "    \n",
    "    Xf=coordinateTransform(order, Tra, a_x, a_y, a_z, point, type)\n",
    "    \n",
    "    Xa=[0,0,0]\n",
    "    Xb=[l,0,0]\n",
    "    Ya=[0,0,0]\n",
    "    Yb=[0,l,0]\n",
    "    Za=[0,0,0]\n",
    "    Zb=[0,0,l]\n",
    "    Xat=coordinateTransform(order, Tra, a_x, a_y, a_z, Xa, 2)\n",
    "    Xbt=coordinateTransform(order, Tra, a_x, a_y, a_z, Xb, 2)\n",
    "    Yat=coordinateTransform(order, Tra, a_x, a_y, a_z, Ya, 2)\n",
    "    Ybt=coordinateTransform(order, Tra, a_x, a_y, a_z, Yb, 2)\n",
    "    Zat=coordinateTransform(order, Tra, a_x, a_y, a_z, Za, 2)\n",
    "    Zbt=coordinateTransform(order, Tra, a_x, a_y, a_z, Zb, 2)\n",
    "    \n",
    "    if type==1:\n",
    "        \n",
    "        Line=[\"$X_0$\",\"$X_0$\",\"$Y_0$\",\"$Y_0$\",\"$Z_0$\",\"$Z_0$\",\"$X_1$\",\"$X_1$\",\"$Y_1$\",\"$Y_1$\",\"$Z_1$\",\"$Z_1$\"]\n",
    "        x = np.array([Xa[0],Xb[0],Ya[0],Yb[0],Za[0],Zb[0],Xat[0],Xbt[0],Yat[0],Ybt[0],Zat[0],Zbt[0]])\n",
    "        y = np.array([Xa[1],Xb[1],Ya[1],Yb[1],Za[1],Zb[1],Xat[1],Xbt[1],Yat[1],Ybt[1],Zat[1],Zbt[1]])\n",
    "        z = np.array([Xa[2],Xb[2],Ya[2],Yb[2],Za[2],Zb[2],Xat[2],Xbt[2],Yat[2],Ybt[2],Zat[2],Zbt[2]])\n",
    "        df1 = pd.DataFrame({\"Line\":Line,\"x\": x, \"y\":y, \"z\":z})\n",
    "        # display(df1)\n",
    "        fig1 = px.line_3d(df1, x=\"x\", y=\"y\", z=\"z\",color='Line',markers=True)\n",
    "        fig1.update_traces(marker=dict(size=5),line=dict(width=6))\n",
    "        \n",
    "        df2=pd.DataFrame({\"Point\":[\"$p_0$\"],\"x\": [p[0]], \"y\":[p[1]], \"z\":[p[2]]})\n",
    "        # display(df2)\n",
    "\n",
    "        fig2 = px.scatter_3d(df2, x=\"x\", y=\"y\", z=\"z\",color='Point',text=[Xf])\n",
    "\n",
    "        fig3 = go.Figure(data=fig1.data + fig2.data)\n",
    "        fig3.update_layout(margin=dict(l=0, r=0, b=0, t=20),scene = dict(aspectmode='data'))\n",
    "        return fig3\n",
    "        \n",
    "    elif type==2:\n",
    "        \n",
    "        Line=[\"$X_0$\",\"$X_0$\",\"$Y_0$\",\"$Y_0$\",\"$Z_0$\",\"$Z_0$\"]\n",
    "        x = np.array([Xa[0],Xb[0],Ya[0],Yb[0],Za[0],Zb[0]])\n",
    "        y = np.array([Xa[1],Xb[1],Ya[1],Yb[1],Za[1],Zb[1]])\n",
    "        z = np.array([Xa[2],Xb[2],Ya[2],Yb[2],Za[2],Zb[2]])\n",
    "        df1 = pd.DataFrame({\"Line\":Line,\"x\": x, \"y\":y, \"z\":z})\n",
    "        # display(df1)\n",
    "        fig1 = px.line_3d(df1, x=\"x\", y=\"y\", z=\"z\",color='Line',markers=True)\n",
    "        fig1.update_traces(marker=dict(size=5),line=dict(width=6))\n",
    "        \n",
    "        df2=pd.DataFrame({\"Point\":[\"$p_0$\",\"$p_1$\"],\"x\": [p[0], Xf[0]], \"y\":[p[1],Xf[1]], \"z\":[p[2],Xf[2]]})\n",
    "        fig2 = px.scatter_3d(df2, x=\"x\", y=\"y\", z=\"z\",color='Point',text=[p,Xf])\n",
    "        \n",
    "        fig3 = go.Figure(data=fig1.data + fig2.data)\n",
    "        fig3.update_layout(margin=dict(l=0, r=0, b=0, t=20),scene = dict(aspectmode='data'))\n",
    "#         fig3.show()\n",
    "        return fig3"
   ]
  },
  {
   "cell_type": "code",
   "execution_count": null,
   "id": "d6bbd1bb",
   "metadata": {},
   "outputs": [],
   "source": []
  },
  {
   "cell_type": "code",
   "execution_count": 53,
   "id": "82e7afd2",
   "metadata": {
    "ExecuteTime": {
     "end_time": "2023-04-16T10:40:12.086416Z",
     "start_time": "2023-04-16T10:40:12.070199Z"
    }
   },
   "outputs": [],
   "source": [
    "#**************** input ****************#\n",
    "order='TXYZ'\n",
    "Tra=[0.5,0.5,0]\n",
    "a_x=0\n",
    "a_y=0\n",
    "a_z=45\n",
    "\n",
    "\n",
    "p=[2.55,6.5,10.0]\n",
    "\n",
    "typ=1\n",
    "l=5           #AxisZoom\n",
    "#*************************************#"
   ]
  },
  {
   "cell_type": "code",
   "execution_count": 54,
   "id": "48ef0744",
   "metadata": {
    "ExecuteTime": {
     "end_time": "2023-04-16T10:40:12.956011Z",
     "start_time": "2023-04-16T10:40:12.849857Z"
    }
   },
   "outputs": [
    {
     "data": {
      "application/vnd.plotly.v1+json": {
       "config": {
        "plotlyServerURL": "https://plot.ly"
       },
       "data": [
        {
         "hovertemplate": "Line=$X_0$<br>x=%{x}<br>y=%{y}<br>z=%{z}<extra></extra>",
         "legendgroup": "$X_0$",
         "line": {
          "color": "#636efa",
          "dash": "solid",
          "width": 6
         },
         "marker": {
          "size": 5,
          "symbol": "circle"
         },
         "mode": "markers+lines",
         "name": "$X_0$",
         "scene": "scene",
         "showlegend": true,
         "type": "scatter3d",
         "x": [
          0,
          5
         ],
         "y": [
          0,
          0
         ],
         "z": [
          0,
          0
         ]
        },
        {
         "hovertemplate": "Line=$Y_0$<br>x=%{x}<br>y=%{y}<br>z=%{z}<extra></extra>",
         "legendgroup": "$Y_0$",
         "line": {
          "color": "#EF553B",
          "dash": "solid",
          "width": 6
         },
         "marker": {
          "size": 5,
          "symbol": "circle"
         },
         "mode": "markers+lines",
         "name": "$Y_0$",
         "scene": "scene",
         "showlegend": true,
         "type": "scatter3d",
         "x": [
          0,
          0
         ],
         "y": [
          0,
          5
         ],
         "z": [
          0,
          0
         ]
        },
        {
         "hovertemplate": "Line=$Z_0$<br>x=%{x}<br>y=%{y}<br>z=%{z}<extra></extra>",
         "legendgroup": "$Z_0$",
         "line": {
          "color": "#00cc96",
          "dash": "solid",
          "width": 6
         },
         "marker": {
          "size": 5,
          "symbol": "circle"
         },
         "mode": "markers+lines",
         "name": "$Z_0$",
         "scene": "scene",
         "showlegend": true,
         "type": "scatter3d",
         "x": [
          0,
          0
         ],
         "y": [
          0,
          0
         ],
         "z": [
          0,
          5
         ]
        },
        {
         "hovertemplate": "Line=$X_1$<br>x=%{x}<br>y=%{y}<br>z=%{z}<extra></extra>",
         "legendgroup": "$X_1$",
         "line": {
          "color": "#ab63fa",
          "dash": "solid",
          "width": 6
         },
         "marker": {
          "size": 5,
          "symbol": "circle"
         },
         "mode": "markers+lines",
         "name": "$X_1$",
         "scene": "scene",
         "showlegend": true,
         "type": "scatter3d",
         "x": [
          0.5,
          4.035533905932738
         ],
         "y": [
          0.5,
          4.035533905932738
         ],
         "z": [
          0,
          0
         ]
        },
        {
         "hovertemplate": "Line=$Y_1$<br>x=%{x}<br>y=%{y}<br>z=%{z}<extra></extra>",
         "legendgroup": "$Y_1$",
         "line": {
          "color": "#FFA15A",
          "dash": "solid",
          "width": 6
         },
         "marker": {
          "size": 5,
          "symbol": "circle"
         },
         "mode": "markers+lines",
         "name": "$Y_1$",
         "scene": "scene",
         "showlegend": true,
         "type": "scatter3d",
         "x": [
          0.5,
          -3.0355339059327378
         ],
         "y": [
          0.5,
          4.035533905932738
         ],
         "z": [
          0,
          0
         ]
        },
        {
         "hovertemplate": "Line=$Z_1$<br>x=%{x}<br>y=%{y}<br>z=%{z}<extra></extra>",
         "legendgroup": "$Z_1$",
         "line": {
          "color": "#19d3f3",
          "dash": "solid",
          "width": 6
         },
         "marker": {
          "size": 5,
          "symbol": "circle"
         },
         "mode": "markers+lines",
         "name": "$Z_1$",
         "scene": "scene",
         "showlegend": true,
         "type": "scatter3d",
         "x": [
          0.5,
          0.5
         ],
         "y": [
          0.5,
          0.5
         ],
         "z": [
          0,
          5
         ]
        },
        {
         "hovertemplate": "Point=$p_0$<br>x=%{x}<br>y=%{y}<br>z=%{z}<br>text=%{text}<extra></extra>",
         "legendgroup": "$p_0$",
         "marker": {
          "color": "#636efa",
          "symbol": "circle"
         },
         "mode": "markers+text",
         "name": "$p_0$",
         "scene": "scene",
         "showlegend": true,
         "text": [
          [
           5.692209588551709,
           2.7930717856868634,
           10
          ]
         ],
         "type": "scatter3d",
         "x": [
          2.55
         ],
         "y": [
          6.5
         ],
         "z": [
          10
         ]
        }
       ],
       "layout": {
        "margin": {
         "b": 0,
         "l": 0,
         "r": 0,
         "t": 20
        },
        "scene": {
         "aspectmode": "data"
        },
        "template": {
         "data": {
          "bar": [
           {
            "error_x": {
             "color": "#2a3f5f"
            },
            "error_y": {
             "color": "#2a3f5f"
            },
            "marker": {
             "line": {
              "color": "#E5ECF6",
              "width": 0.5
             },
             "pattern": {
              "fillmode": "overlay",
              "size": 10,
              "solidity": 0.2
             }
            },
            "type": "bar"
           }
          ],
          "barpolar": [
           {
            "marker": {
             "line": {
              "color": "#E5ECF6",
              "width": 0.5
             },
             "pattern": {
              "fillmode": "overlay",
              "size": 10,
              "solidity": 0.2
             }
            },
            "type": "barpolar"
           }
          ],
          "carpet": [
           {
            "aaxis": {
             "endlinecolor": "#2a3f5f",
             "gridcolor": "white",
             "linecolor": "white",
             "minorgridcolor": "white",
             "startlinecolor": "#2a3f5f"
            },
            "baxis": {
             "endlinecolor": "#2a3f5f",
             "gridcolor": "white",
             "linecolor": "white",
             "minorgridcolor": "white",
             "startlinecolor": "#2a3f5f"
            },
            "type": "carpet"
           }
          ],
          "choropleth": [
           {
            "colorbar": {
             "outlinewidth": 0,
             "ticks": ""
            },
            "type": "choropleth"
           }
          ],
          "contour": [
           {
            "colorbar": {
             "outlinewidth": 0,
             "ticks": ""
            },
            "colorscale": [
             [
              0,
              "#0d0887"
             ],
             [
              0.1111111111111111,
              "#46039f"
             ],
             [
              0.2222222222222222,
              "#7201a8"
             ],
             [
              0.3333333333333333,
              "#9c179e"
             ],
             [
              0.4444444444444444,
              "#bd3786"
             ],
             [
              0.5555555555555556,
              "#d8576b"
             ],
             [
              0.6666666666666666,
              "#ed7953"
             ],
             [
              0.7777777777777778,
              "#fb9f3a"
             ],
             [
              0.8888888888888888,
              "#fdca26"
             ],
             [
              1,
              "#f0f921"
             ]
            ],
            "type": "contour"
           }
          ],
          "contourcarpet": [
           {
            "colorbar": {
             "outlinewidth": 0,
             "ticks": ""
            },
            "type": "contourcarpet"
           }
          ],
          "heatmap": [
           {
            "colorbar": {
             "outlinewidth": 0,
             "ticks": ""
            },
            "colorscale": [
             [
              0,
              "#0d0887"
             ],
             [
              0.1111111111111111,
              "#46039f"
             ],
             [
              0.2222222222222222,
              "#7201a8"
             ],
             [
              0.3333333333333333,
              "#9c179e"
             ],
             [
              0.4444444444444444,
              "#bd3786"
             ],
             [
              0.5555555555555556,
              "#d8576b"
             ],
             [
              0.6666666666666666,
              "#ed7953"
             ],
             [
              0.7777777777777778,
              "#fb9f3a"
             ],
             [
              0.8888888888888888,
              "#fdca26"
             ],
             [
              1,
              "#f0f921"
             ]
            ],
            "type": "heatmap"
           }
          ],
          "heatmapgl": [
           {
            "colorbar": {
             "outlinewidth": 0,
             "ticks": ""
            },
            "colorscale": [
             [
              0,
              "#0d0887"
             ],
             [
              0.1111111111111111,
              "#46039f"
             ],
             [
              0.2222222222222222,
              "#7201a8"
             ],
             [
              0.3333333333333333,
              "#9c179e"
             ],
             [
              0.4444444444444444,
              "#bd3786"
             ],
             [
              0.5555555555555556,
              "#d8576b"
             ],
             [
              0.6666666666666666,
              "#ed7953"
             ],
             [
              0.7777777777777778,
              "#fb9f3a"
             ],
             [
              0.8888888888888888,
              "#fdca26"
             ],
             [
              1,
              "#f0f921"
             ]
            ],
            "type": "heatmapgl"
           }
          ],
          "histogram": [
           {
            "marker": {
             "pattern": {
              "fillmode": "overlay",
              "size": 10,
              "solidity": 0.2
             }
            },
            "type": "histogram"
           }
          ],
          "histogram2d": [
           {
            "colorbar": {
             "outlinewidth": 0,
             "ticks": ""
            },
            "colorscale": [
             [
              0,
              "#0d0887"
             ],
             [
              0.1111111111111111,
              "#46039f"
             ],
             [
              0.2222222222222222,
              "#7201a8"
             ],
             [
              0.3333333333333333,
              "#9c179e"
             ],
             [
              0.4444444444444444,
              "#bd3786"
             ],
             [
              0.5555555555555556,
              "#d8576b"
             ],
             [
              0.6666666666666666,
              "#ed7953"
             ],
             [
              0.7777777777777778,
              "#fb9f3a"
             ],
             [
              0.8888888888888888,
              "#fdca26"
             ],
             [
              1,
              "#f0f921"
             ]
            ],
            "type": "histogram2d"
           }
          ],
          "histogram2dcontour": [
           {
            "colorbar": {
             "outlinewidth": 0,
             "ticks": ""
            },
            "colorscale": [
             [
              0,
              "#0d0887"
             ],
             [
              0.1111111111111111,
              "#46039f"
             ],
             [
              0.2222222222222222,
              "#7201a8"
             ],
             [
              0.3333333333333333,
              "#9c179e"
             ],
             [
              0.4444444444444444,
              "#bd3786"
             ],
             [
              0.5555555555555556,
              "#d8576b"
             ],
             [
              0.6666666666666666,
              "#ed7953"
             ],
             [
              0.7777777777777778,
              "#fb9f3a"
             ],
             [
              0.8888888888888888,
              "#fdca26"
             ],
             [
              1,
              "#f0f921"
             ]
            ],
            "type": "histogram2dcontour"
           }
          ],
          "mesh3d": [
           {
            "colorbar": {
             "outlinewidth": 0,
             "ticks": ""
            },
            "type": "mesh3d"
           }
          ],
          "parcoords": [
           {
            "line": {
             "colorbar": {
              "outlinewidth": 0,
              "ticks": ""
             }
            },
            "type": "parcoords"
           }
          ],
          "pie": [
           {
            "automargin": true,
            "type": "pie"
           }
          ],
          "scatter": [
           {
            "fillpattern": {
             "fillmode": "overlay",
             "size": 10,
             "solidity": 0.2
            },
            "type": "scatter"
           }
          ],
          "scatter3d": [
           {
            "line": {
             "colorbar": {
              "outlinewidth": 0,
              "ticks": ""
             }
            },
            "marker": {
             "colorbar": {
              "outlinewidth": 0,
              "ticks": ""
             }
            },
            "type": "scatter3d"
           }
          ],
          "scattercarpet": [
           {
            "marker": {
             "colorbar": {
              "outlinewidth": 0,
              "ticks": ""
             }
            },
            "type": "scattercarpet"
           }
          ],
          "scattergeo": [
           {
            "marker": {
             "colorbar": {
              "outlinewidth": 0,
              "ticks": ""
             }
            },
            "type": "scattergeo"
           }
          ],
          "scattergl": [
           {
            "marker": {
             "colorbar": {
              "outlinewidth": 0,
              "ticks": ""
             }
            },
            "type": "scattergl"
           }
          ],
          "scattermapbox": [
           {
            "marker": {
             "colorbar": {
              "outlinewidth": 0,
              "ticks": ""
             }
            },
            "type": "scattermapbox"
           }
          ],
          "scatterpolar": [
           {
            "marker": {
             "colorbar": {
              "outlinewidth": 0,
              "ticks": ""
             }
            },
            "type": "scatterpolar"
           }
          ],
          "scatterpolargl": [
           {
            "marker": {
             "colorbar": {
              "outlinewidth": 0,
              "ticks": ""
             }
            },
            "type": "scatterpolargl"
           }
          ],
          "scatterternary": [
           {
            "marker": {
             "colorbar": {
              "outlinewidth": 0,
              "ticks": ""
             }
            },
            "type": "scatterternary"
           }
          ],
          "surface": [
           {
            "colorbar": {
             "outlinewidth": 0,
             "ticks": ""
            },
            "colorscale": [
             [
              0,
              "#0d0887"
             ],
             [
              0.1111111111111111,
              "#46039f"
             ],
             [
              0.2222222222222222,
              "#7201a8"
             ],
             [
              0.3333333333333333,
              "#9c179e"
             ],
             [
              0.4444444444444444,
              "#bd3786"
             ],
             [
              0.5555555555555556,
              "#d8576b"
             ],
             [
              0.6666666666666666,
              "#ed7953"
             ],
             [
              0.7777777777777778,
              "#fb9f3a"
             ],
             [
              0.8888888888888888,
              "#fdca26"
             ],
             [
              1,
              "#f0f921"
             ]
            ],
            "type": "surface"
           }
          ],
          "table": [
           {
            "cells": {
             "fill": {
              "color": "#EBF0F8"
             },
             "line": {
              "color": "white"
             }
            },
            "header": {
             "fill": {
              "color": "#C8D4E3"
             },
             "line": {
              "color": "white"
             }
            },
            "type": "table"
           }
          ]
         },
         "layout": {
          "annotationdefaults": {
           "arrowcolor": "#2a3f5f",
           "arrowhead": 0,
           "arrowwidth": 1
          },
          "autotypenumbers": "strict",
          "coloraxis": {
           "colorbar": {
            "outlinewidth": 0,
            "ticks": ""
           }
          },
          "colorscale": {
           "diverging": [
            [
             0,
             "#8e0152"
            ],
            [
             0.1,
             "#c51b7d"
            ],
            [
             0.2,
             "#de77ae"
            ],
            [
             0.3,
             "#f1b6da"
            ],
            [
             0.4,
             "#fde0ef"
            ],
            [
             0.5,
             "#f7f7f7"
            ],
            [
             0.6,
             "#e6f5d0"
            ],
            [
             0.7,
             "#b8e186"
            ],
            [
             0.8,
             "#7fbc41"
            ],
            [
             0.9,
             "#4d9221"
            ],
            [
             1,
             "#276419"
            ]
           ],
           "sequential": [
            [
             0,
             "#0d0887"
            ],
            [
             0.1111111111111111,
             "#46039f"
            ],
            [
             0.2222222222222222,
             "#7201a8"
            ],
            [
             0.3333333333333333,
             "#9c179e"
            ],
            [
             0.4444444444444444,
             "#bd3786"
            ],
            [
             0.5555555555555556,
             "#d8576b"
            ],
            [
             0.6666666666666666,
             "#ed7953"
            ],
            [
             0.7777777777777778,
             "#fb9f3a"
            ],
            [
             0.8888888888888888,
             "#fdca26"
            ],
            [
             1,
             "#f0f921"
            ]
           ],
           "sequentialminus": [
            [
             0,
             "#0d0887"
            ],
            [
             0.1111111111111111,
             "#46039f"
            ],
            [
             0.2222222222222222,
             "#7201a8"
            ],
            [
             0.3333333333333333,
             "#9c179e"
            ],
            [
             0.4444444444444444,
             "#bd3786"
            ],
            [
             0.5555555555555556,
             "#d8576b"
            ],
            [
             0.6666666666666666,
             "#ed7953"
            ],
            [
             0.7777777777777778,
             "#fb9f3a"
            ],
            [
             0.8888888888888888,
             "#fdca26"
            ],
            [
             1,
             "#f0f921"
            ]
           ]
          },
          "colorway": [
           "#636efa",
           "#EF553B",
           "#00cc96",
           "#ab63fa",
           "#FFA15A",
           "#19d3f3",
           "#FF6692",
           "#B6E880",
           "#FF97FF",
           "#FECB52"
          ],
          "font": {
           "color": "#2a3f5f"
          },
          "geo": {
           "bgcolor": "white",
           "lakecolor": "white",
           "landcolor": "#E5ECF6",
           "showlakes": true,
           "showland": true,
           "subunitcolor": "white"
          },
          "hoverlabel": {
           "align": "left"
          },
          "hovermode": "closest",
          "mapbox": {
           "style": "light"
          },
          "paper_bgcolor": "white",
          "plot_bgcolor": "#E5ECF6",
          "polar": {
           "angularaxis": {
            "gridcolor": "white",
            "linecolor": "white",
            "ticks": ""
           },
           "bgcolor": "#E5ECF6",
           "radialaxis": {
            "gridcolor": "white",
            "linecolor": "white",
            "ticks": ""
           }
          },
          "scene": {
           "xaxis": {
            "backgroundcolor": "#E5ECF6",
            "gridcolor": "white",
            "gridwidth": 2,
            "linecolor": "white",
            "showbackground": true,
            "ticks": "",
            "zerolinecolor": "white"
           },
           "yaxis": {
            "backgroundcolor": "#E5ECF6",
            "gridcolor": "white",
            "gridwidth": 2,
            "linecolor": "white",
            "showbackground": true,
            "ticks": "",
            "zerolinecolor": "white"
           },
           "zaxis": {
            "backgroundcolor": "#E5ECF6",
            "gridcolor": "white",
            "gridwidth": 2,
            "linecolor": "white",
            "showbackground": true,
            "ticks": "",
            "zerolinecolor": "white"
           }
          },
          "shapedefaults": {
           "line": {
            "color": "#2a3f5f"
           }
          },
          "ternary": {
           "aaxis": {
            "gridcolor": "white",
            "linecolor": "white",
            "ticks": ""
           },
           "baxis": {
            "gridcolor": "white",
            "linecolor": "white",
            "ticks": ""
           },
           "bgcolor": "#E5ECF6",
           "caxis": {
            "gridcolor": "white",
            "linecolor": "white",
            "ticks": ""
           }
          },
          "title": {
           "x": 0.05
          },
          "xaxis": {
           "automargin": true,
           "gridcolor": "white",
           "linecolor": "white",
           "ticks": "",
           "title": {
            "standoff": 15
           },
           "zerolinecolor": "white",
           "zerolinewidth": 2
          },
          "yaxis": {
           "automargin": true,
           "gridcolor": "white",
           "linecolor": "white",
           "ticks": "",
           "title": {
            "standoff": 15
           },
           "zerolinecolor": "white",
           "zerolinewidth": 2
          }
         }
        }
       }
      },
      "text/html": [
       "<div>                            <div id=\"39f71064-000b-4eab-a26d-fb439c32922a\" class=\"plotly-graph-div\" style=\"height:525px; width:100%;\"></div>            <script type=\"text/javascript\">                require([\"plotly\"], function(Plotly) {                    window.PLOTLYENV=window.PLOTLYENV || {};                                    if (document.getElementById(\"39f71064-000b-4eab-a26d-fb439c32922a\")) {                    Plotly.newPlot(                        \"39f71064-000b-4eab-a26d-fb439c32922a\",                        [{\"hovertemplate\":\"Line=$X_0$<br>x=%{x}<br>y=%{y}<br>z=%{z}<extra></extra>\",\"legendgroup\":\"$X_0$\",\"line\":{\"color\":\"#636efa\",\"dash\":\"solid\",\"width\":6},\"marker\":{\"size\":5,\"symbol\":\"circle\"},\"mode\":\"markers+lines\",\"name\":\"$X_0$\",\"scene\":\"scene\",\"showlegend\":true,\"x\":[0.0,5.0],\"y\":[0.0,0.0],\"z\":[0.0,0.0],\"type\":\"scatter3d\"},{\"hovertemplate\":\"Line=$Y_0$<br>x=%{x}<br>y=%{y}<br>z=%{z}<extra></extra>\",\"legendgroup\":\"$Y_0$\",\"line\":{\"color\":\"#EF553B\",\"dash\":\"solid\",\"width\":6},\"marker\":{\"size\":5,\"symbol\":\"circle\"},\"mode\":\"markers+lines\",\"name\":\"$Y_0$\",\"scene\":\"scene\",\"showlegend\":true,\"x\":[0.0,0.0],\"y\":[0.0,5.0],\"z\":[0.0,0.0],\"type\":\"scatter3d\"},{\"hovertemplate\":\"Line=$Z_0$<br>x=%{x}<br>y=%{y}<br>z=%{z}<extra></extra>\",\"legendgroup\":\"$Z_0$\",\"line\":{\"color\":\"#00cc96\",\"dash\":\"solid\",\"width\":6},\"marker\":{\"size\":5,\"symbol\":\"circle\"},\"mode\":\"markers+lines\",\"name\":\"$Z_0$\",\"scene\":\"scene\",\"showlegend\":true,\"x\":[0.0,0.0],\"y\":[0.0,0.0],\"z\":[0.0,5.0],\"type\":\"scatter3d\"},{\"hovertemplate\":\"Line=$X_1$<br>x=%{x}<br>y=%{y}<br>z=%{z}<extra></extra>\",\"legendgroup\":\"$X_1$\",\"line\":{\"color\":\"#ab63fa\",\"dash\":\"solid\",\"width\":6},\"marker\":{\"size\":5,\"symbol\":\"circle\"},\"mode\":\"markers+lines\",\"name\":\"$X_1$\",\"scene\":\"scene\",\"showlegend\":true,\"x\":[0.5,4.035533905932738],\"y\":[0.5,4.035533905932738],\"z\":[0.0,0.0],\"type\":\"scatter3d\"},{\"hovertemplate\":\"Line=$Y_1$<br>x=%{x}<br>y=%{y}<br>z=%{z}<extra></extra>\",\"legendgroup\":\"$Y_1$\",\"line\":{\"color\":\"#FFA15A\",\"dash\":\"solid\",\"width\":6},\"marker\":{\"size\":5,\"symbol\":\"circle\"},\"mode\":\"markers+lines\",\"name\":\"$Y_1$\",\"scene\":\"scene\",\"showlegend\":true,\"x\":[0.5,-3.0355339059327378],\"y\":[0.5,4.035533905932738],\"z\":[0.0,0.0],\"type\":\"scatter3d\"},{\"hovertemplate\":\"Line=$Z_1$<br>x=%{x}<br>y=%{y}<br>z=%{z}<extra></extra>\",\"legendgroup\":\"$Z_1$\",\"line\":{\"color\":\"#19d3f3\",\"dash\":\"solid\",\"width\":6},\"marker\":{\"size\":5,\"symbol\":\"circle\"},\"mode\":\"markers+lines\",\"name\":\"$Z_1$\",\"scene\":\"scene\",\"showlegend\":true,\"x\":[0.5,0.5],\"y\":[0.5,0.5],\"z\":[0.0,5.0],\"type\":\"scatter3d\"},{\"hovertemplate\":\"Point=$p_0$<br>x=%{x}<br>y=%{y}<br>z=%{z}<br>text=%{text}<extra></extra>\",\"legendgroup\":\"$p_0$\",\"marker\":{\"color\":\"#636efa\",\"symbol\":\"circle\"},\"mode\":\"markers+text\",\"name\":\"$p_0$\",\"scene\":\"scene\",\"showlegend\":true,\"text\":[[5.692209588551709,2.7930717856868634,10.0]],\"x\":[2.55],\"y\":[6.5],\"z\":[10.0],\"type\":\"scatter3d\"}],                        {\"template\":{\"data\":{\"histogram2dcontour\":[{\"type\":\"histogram2dcontour\",\"colorbar\":{\"outlinewidth\":0,\"ticks\":\"\"},\"colorscale\":[[0.0,\"#0d0887\"],[0.1111111111111111,\"#46039f\"],[0.2222222222222222,\"#7201a8\"],[0.3333333333333333,\"#9c179e\"],[0.4444444444444444,\"#bd3786\"],[0.5555555555555556,\"#d8576b\"],[0.6666666666666666,\"#ed7953\"],[0.7777777777777778,\"#fb9f3a\"],[0.8888888888888888,\"#fdca26\"],[1.0,\"#f0f921\"]]}],\"choropleth\":[{\"type\":\"choropleth\",\"colorbar\":{\"outlinewidth\":0,\"ticks\":\"\"}}],\"histogram2d\":[{\"type\":\"histogram2d\",\"colorbar\":{\"outlinewidth\":0,\"ticks\":\"\"},\"colorscale\":[[0.0,\"#0d0887\"],[0.1111111111111111,\"#46039f\"],[0.2222222222222222,\"#7201a8\"],[0.3333333333333333,\"#9c179e\"],[0.4444444444444444,\"#bd3786\"],[0.5555555555555556,\"#d8576b\"],[0.6666666666666666,\"#ed7953\"],[0.7777777777777778,\"#fb9f3a\"],[0.8888888888888888,\"#fdca26\"],[1.0,\"#f0f921\"]]}],\"heatmap\":[{\"type\":\"heatmap\",\"colorbar\":{\"outlinewidth\":0,\"ticks\":\"\"},\"colorscale\":[[0.0,\"#0d0887\"],[0.1111111111111111,\"#46039f\"],[0.2222222222222222,\"#7201a8\"],[0.3333333333333333,\"#9c179e\"],[0.4444444444444444,\"#bd3786\"],[0.5555555555555556,\"#d8576b\"],[0.6666666666666666,\"#ed7953\"],[0.7777777777777778,\"#fb9f3a\"],[0.8888888888888888,\"#fdca26\"],[1.0,\"#f0f921\"]]}],\"heatmapgl\":[{\"type\":\"heatmapgl\",\"colorbar\":{\"outlinewidth\":0,\"ticks\":\"\"},\"colorscale\":[[0.0,\"#0d0887\"],[0.1111111111111111,\"#46039f\"],[0.2222222222222222,\"#7201a8\"],[0.3333333333333333,\"#9c179e\"],[0.4444444444444444,\"#bd3786\"],[0.5555555555555556,\"#d8576b\"],[0.6666666666666666,\"#ed7953\"],[0.7777777777777778,\"#fb9f3a\"],[0.8888888888888888,\"#fdca26\"],[1.0,\"#f0f921\"]]}],\"contourcarpet\":[{\"type\":\"contourcarpet\",\"colorbar\":{\"outlinewidth\":0,\"ticks\":\"\"}}],\"contour\":[{\"type\":\"contour\",\"colorbar\":{\"outlinewidth\":0,\"ticks\":\"\"},\"colorscale\":[[0.0,\"#0d0887\"],[0.1111111111111111,\"#46039f\"],[0.2222222222222222,\"#7201a8\"],[0.3333333333333333,\"#9c179e\"],[0.4444444444444444,\"#bd3786\"],[0.5555555555555556,\"#d8576b\"],[0.6666666666666666,\"#ed7953\"],[0.7777777777777778,\"#fb9f3a\"],[0.8888888888888888,\"#fdca26\"],[1.0,\"#f0f921\"]]}],\"surface\":[{\"type\":\"surface\",\"colorbar\":{\"outlinewidth\":0,\"ticks\":\"\"},\"colorscale\":[[0.0,\"#0d0887\"],[0.1111111111111111,\"#46039f\"],[0.2222222222222222,\"#7201a8\"],[0.3333333333333333,\"#9c179e\"],[0.4444444444444444,\"#bd3786\"],[0.5555555555555556,\"#d8576b\"],[0.6666666666666666,\"#ed7953\"],[0.7777777777777778,\"#fb9f3a\"],[0.8888888888888888,\"#fdca26\"],[1.0,\"#f0f921\"]]}],\"mesh3d\":[{\"type\":\"mesh3d\",\"colorbar\":{\"outlinewidth\":0,\"ticks\":\"\"}}],\"scatter\":[{\"fillpattern\":{\"fillmode\":\"overlay\",\"size\":10,\"solidity\":0.2},\"type\":\"scatter\"}],\"parcoords\":[{\"type\":\"parcoords\",\"line\":{\"colorbar\":{\"outlinewidth\":0,\"ticks\":\"\"}}}],\"scatterpolargl\":[{\"type\":\"scatterpolargl\",\"marker\":{\"colorbar\":{\"outlinewidth\":0,\"ticks\":\"\"}}}],\"bar\":[{\"error_x\":{\"color\":\"#2a3f5f\"},\"error_y\":{\"color\":\"#2a3f5f\"},\"marker\":{\"line\":{\"color\":\"#E5ECF6\",\"width\":0.5},\"pattern\":{\"fillmode\":\"overlay\",\"size\":10,\"solidity\":0.2}},\"type\":\"bar\"}],\"scattergeo\":[{\"type\":\"scattergeo\",\"marker\":{\"colorbar\":{\"outlinewidth\":0,\"ticks\":\"\"}}}],\"scatterpolar\":[{\"type\":\"scatterpolar\",\"marker\":{\"colorbar\":{\"outlinewidth\":0,\"ticks\":\"\"}}}],\"histogram\":[{\"marker\":{\"pattern\":{\"fillmode\":\"overlay\",\"size\":10,\"solidity\":0.2}},\"type\":\"histogram\"}],\"scattergl\":[{\"type\":\"scattergl\",\"marker\":{\"colorbar\":{\"outlinewidth\":0,\"ticks\":\"\"}}}],\"scatter3d\":[{\"type\":\"scatter3d\",\"line\":{\"colorbar\":{\"outlinewidth\":0,\"ticks\":\"\"}},\"marker\":{\"colorbar\":{\"outlinewidth\":0,\"ticks\":\"\"}}}],\"scattermapbox\":[{\"type\":\"scattermapbox\",\"marker\":{\"colorbar\":{\"outlinewidth\":0,\"ticks\":\"\"}}}],\"scatterternary\":[{\"type\":\"scatterternary\",\"marker\":{\"colorbar\":{\"outlinewidth\":0,\"ticks\":\"\"}}}],\"scattercarpet\":[{\"type\":\"scattercarpet\",\"marker\":{\"colorbar\":{\"outlinewidth\":0,\"ticks\":\"\"}}}],\"carpet\":[{\"aaxis\":{\"endlinecolor\":\"#2a3f5f\",\"gridcolor\":\"white\",\"linecolor\":\"white\",\"minorgridcolor\":\"white\",\"startlinecolor\":\"#2a3f5f\"},\"baxis\":{\"endlinecolor\":\"#2a3f5f\",\"gridcolor\":\"white\",\"linecolor\":\"white\",\"minorgridcolor\":\"white\",\"startlinecolor\":\"#2a3f5f\"},\"type\":\"carpet\"}],\"table\":[{\"cells\":{\"fill\":{\"color\":\"#EBF0F8\"},\"line\":{\"color\":\"white\"}},\"header\":{\"fill\":{\"color\":\"#C8D4E3\"},\"line\":{\"color\":\"white\"}},\"type\":\"table\"}],\"barpolar\":[{\"marker\":{\"line\":{\"color\":\"#E5ECF6\",\"width\":0.5},\"pattern\":{\"fillmode\":\"overlay\",\"size\":10,\"solidity\":0.2}},\"type\":\"barpolar\"}],\"pie\":[{\"automargin\":true,\"type\":\"pie\"}]},\"layout\":{\"autotypenumbers\":\"strict\",\"colorway\":[\"#636efa\",\"#EF553B\",\"#00cc96\",\"#ab63fa\",\"#FFA15A\",\"#19d3f3\",\"#FF6692\",\"#B6E880\",\"#FF97FF\",\"#FECB52\"],\"font\":{\"color\":\"#2a3f5f\"},\"hovermode\":\"closest\",\"hoverlabel\":{\"align\":\"left\"},\"paper_bgcolor\":\"white\",\"plot_bgcolor\":\"#E5ECF6\",\"polar\":{\"bgcolor\":\"#E5ECF6\",\"angularaxis\":{\"gridcolor\":\"white\",\"linecolor\":\"white\",\"ticks\":\"\"},\"radialaxis\":{\"gridcolor\":\"white\",\"linecolor\":\"white\",\"ticks\":\"\"}},\"ternary\":{\"bgcolor\":\"#E5ECF6\",\"aaxis\":{\"gridcolor\":\"white\",\"linecolor\":\"white\",\"ticks\":\"\"},\"baxis\":{\"gridcolor\":\"white\",\"linecolor\":\"white\",\"ticks\":\"\"},\"caxis\":{\"gridcolor\":\"white\",\"linecolor\":\"white\",\"ticks\":\"\"}},\"coloraxis\":{\"colorbar\":{\"outlinewidth\":0,\"ticks\":\"\"}},\"colorscale\":{\"sequential\":[[0.0,\"#0d0887\"],[0.1111111111111111,\"#46039f\"],[0.2222222222222222,\"#7201a8\"],[0.3333333333333333,\"#9c179e\"],[0.4444444444444444,\"#bd3786\"],[0.5555555555555556,\"#d8576b\"],[0.6666666666666666,\"#ed7953\"],[0.7777777777777778,\"#fb9f3a\"],[0.8888888888888888,\"#fdca26\"],[1.0,\"#f0f921\"]],\"sequentialminus\":[[0.0,\"#0d0887\"],[0.1111111111111111,\"#46039f\"],[0.2222222222222222,\"#7201a8\"],[0.3333333333333333,\"#9c179e\"],[0.4444444444444444,\"#bd3786\"],[0.5555555555555556,\"#d8576b\"],[0.6666666666666666,\"#ed7953\"],[0.7777777777777778,\"#fb9f3a\"],[0.8888888888888888,\"#fdca26\"],[1.0,\"#f0f921\"]],\"diverging\":[[0,\"#8e0152\"],[0.1,\"#c51b7d\"],[0.2,\"#de77ae\"],[0.3,\"#f1b6da\"],[0.4,\"#fde0ef\"],[0.5,\"#f7f7f7\"],[0.6,\"#e6f5d0\"],[0.7,\"#b8e186\"],[0.8,\"#7fbc41\"],[0.9,\"#4d9221\"],[1,\"#276419\"]]},\"xaxis\":{\"gridcolor\":\"white\",\"linecolor\":\"white\",\"ticks\":\"\",\"title\":{\"standoff\":15},\"zerolinecolor\":\"white\",\"automargin\":true,\"zerolinewidth\":2},\"yaxis\":{\"gridcolor\":\"white\",\"linecolor\":\"white\",\"ticks\":\"\",\"title\":{\"standoff\":15},\"zerolinecolor\":\"white\",\"automargin\":true,\"zerolinewidth\":2},\"scene\":{\"xaxis\":{\"backgroundcolor\":\"#E5ECF6\",\"gridcolor\":\"white\",\"linecolor\":\"white\",\"showbackground\":true,\"ticks\":\"\",\"zerolinecolor\":\"white\",\"gridwidth\":2},\"yaxis\":{\"backgroundcolor\":\"#E5ECF6\",\"gridcolor\":\"white\",\"linecolor\":\"white\",\"showbackground\":true,\"ticks\":\"\",\"zerolinecolor\":\"white\",\"gridwidth\":2},\"zaxis\":{\"backgroundcolor\":\"#E5ECF6\",\"gridcolor\":\"white\",\"linecolor\":\"white\",\"showbackground\":true,\"ticks\":\"\",\"zerolinecolor\":\"white\",\"gridwidth\":2}},\"shapedefaults\":{\"line\":{\"color\":\"#2a3f5f\"}},\"annotationdefaults\":{\"arrowcolor\":\"#2a3f5f\",\"arrowhead\":0,\"arrowwidth\":1},\"geo\":{\"bgcolor\":\"white\",\"landcolor\":\"#E5ECF6\",\"subunitcolor\":\"white\",\"showland\":true,\"showlakes\":true,\"lakecolor\":\"white\"},\"title\":{\"x\":0.05},\"mapbox\":{\"style\":\"light\"}}},\"margin\":{\"l\":0,\"r\":0,\"b\":0,\"t\":20},\"scene\":{\"aspectmode\":\"data\"}},                        {\"responsive\": true}                    ).then(function(){\n",
       "                            \n",
       "var gd = document.getElementById('39f71064-000b-4eab-a26d-fb439c32922a');\n",
       "var x = new MutationObserver(function (mutations, observer) {{\n",
       "        var display = window.getComputedStyle(gd).display;\n",
       "        if (!display || display === 'none') {{\n",
       "            console.log([gd, 'removed!']);\n",
       "            Plotly.purge(gd);\n",
       "            observer.disconnect();\n",
       "        }}\n",
       "}});\n",
       "\n",
       "// Listen for the removal of the full notebook cells\n",
       "var notebookContainer = gd.closest('#notebook-container');\n",
       "if (notebookContainer) {{\n",
       "    x.observe(notebookContainer, {childList: true});\n",
       "}}\n",
       "\n",
       "// Listen for the clearing of the current output cell\n",
       "var outputEl = gd.closest('.output');\n",
       "if (outputEl) {{\n",
       "    x.observe(outputEl, {childList: true});\n",
       "}}\n",
       "\n",
       "                        })                };                });            </script>        </div>"
      ]
     },
     "metadata": {},
     "output_type": "display_data"
    },
    {
     "ename": "AttributeError",
     "evalue": "'NoneType' object has no attribute 'show'",
     "output_type": "error",
     "traceback": [
      "\u001b[1;31m---------------------------------------------------------------------------\u001b[0m",
      "\u001b[1;31mAttributeError\u001b[0m                            Traceback (most recent call last)",
      "Cell \u001b[1;32mIn[54], line 2\u001b[0m\n\u001b[0;32m      1\u001b[0m fig\u001b[38;5;241m=\u001b[39mcoordinatePlot(order, Tra, a_x, a_y, a_z, p, typ,l)\n\u001b[1;32m----> 2\u001b[0m \u001b[43mfig\u001b[49m\u001b[38;5;241;43m.\u001b[39;49m\u001b[43mshow\u001b[49m()\n",
      "\u001b[1;31mAttributeError\u001b[0m: 'NoneType' object has no attribute 'show'"
     ]
    }
   ],
   "source": [
    "fig=coordinatePlot(order, Tra, a_x, a_y, a_z, p, typ,l)\n",
    "fig.show()"
   ]
  },
  {
   "cell_type": "code",
   "execution_count": 46,
   "id": "c056aaf1",
   "metadata": {
    "ExecuteTime": {
     "end_time": "2023-04-16T09:21:07.126839Z",
     "start_time": "2023-04-16T09:21:07.119745Z"
    }
   },
   "outputs": [],
   "source": [
    "#**************** input ****************#\n",
    "order='TXYZ'\n",
    "Tra=[0.5,0.5,0]\n",
    "a_x=0\n",
    "a_y=0\n",
    "a_z=45\n",
    "p=[2.55,6.5,10.0]\n",
    "\n",
    "typ=2\n",
    "l=5           #AxisZoom\n",
    "#*************************************#"
   ]
  },
  {
   "cell_type": "code",
   "execution_count": 51,
   "id": "55f10173",
   "metadata": {
    "ExecuteTime": {
     "end_time": "2023-04-16T10:38:58.314049Z",
     "start_time": "2023-04-16T10:38:58.216823Z"
    }
   },
   "outputs": [
    {
     "data": {
      "application/vnd.plotly.v1+json": {
       "config": {
        "plotlyServerURL": "https://plot.ly"
       },
       "data": [
        {
         "hovertemplate": "Line=$X_0$<br>x=%{x}<br>y=%{y}<br>z=%{z}<extra></extra>",
         "legendgroup": "$X_0$",
         "line": {
          "color": "#636efa",
          "dash": "solid",
          "width": 6
         },
         "marker": {
          "size": 5,
          "symbol": "circle"
         },
         "mode": "markers+lines",
         "name": "$X_0$",
         "scene": "scene",
         "showlegend": true,
         "type": "scatter3d",
         "x": [
          0,
          5
         ],
         "y": [
          0,
          0
         ],
         "z": [
          0,
          0
         ]
        },
        {
         "hovertemplate": "Line=$Y_0$<br>x=%{x}<br>y=%{y}<br>z=%{z}<extra></extra>",
         "legendgroup": "$Y_0$",
         "line": {
          "color": "#EF553B",
          "dash": "solid",
          "width": 6
         },
         "marker": {
          "size": 5,
          "symbol": "circle"
         },
         "mode": "markers+lines",
         "name": "$Y_0$",
         "scene": "scene",
         "showlegend": true,
         "type": "scatter3d",
         "x": [
          0,
          0
         ],
         "y": [
          0,
          5
         ],
         "z": [
          0,
          0
         ]
        },
        {
         "hovertemplate": "Line=$Z_0$<br>x=%{x}<br>y=%{y}<br>z=%{z}<extra></extra>",
         "legendgroup": "$Z_0$",
         "line": {
          "color": "#00cc96",
          "dash": "solid",
          "width": 6
         },
         "marker": {
          "size": 5,
          "symbol": "circle"
         },
         "mode": "markers+lines",
         "name": "$Z_0$",
         "scene": "scene",
         "showlegend": true,
         "type": "scatter3d",
         "x": [
          0,
          0
         ],
         "y": [
          0,
          0
         ],
         "z": [
          0,
          5
         ]
        },
        {
         "hovertemplate": "Point=$p_0$<br>x=%{x}<br>y=%{y}<br>z=%{z}<br>text=%{text}<extra></extra>",
         "legendgroup": "$p_0$",
         "marker": {
          "color": "#636efa",
          "symbol": "circle"
         },
         "mode": "markers+text",
         "name": "$p_0$",
         "scene": "scene",
         "showlegend": true,
         "text": [
          [
           2.55,
           6.5,
           10
          ]
         ],
         "type": "scatter3d",
         "x": [
          2.55
         ],
         "y": [
          6.5
         ],
         "z": [
          10
         ]
        },
        {
         "hovertemplate": "Point=$p_1$<br>x=%{x}<br>y=%{y}<br>z=%{z}<br>text=%{text}<extra></extra>",
         "legendgroup": "$p_1$",
         "marker": {
          "color": "#EF553B",
          "symbol": "circle"
         },
         "mode": "markers+text",
         "name": "$p_1$",
         "scene": "scene",
         "showlegend": true,
         "text": [
          [
           -2.2930717856868634,
           6.899316369738256,
           10
          ]
         ],
         "type": "scatter3d",
         "x": [
          -2.2930717856868634
         ],
         "y": [
          6.899316369738256
         ],
         "z": [
          10
         ]
        }
       ],
       "layout": {
        "margin": {
         "b": 0,
         "l": 0,
         "r": 0,
         "t": 20
        },
        "scene": {
         "aspectmode": "data"
        },
        "template": {
         "data": {
          "bar": [
           {
            "error_x": {
             "color": "#2a3f5f"
            },
            "error_y": {
             "color": "#2a3f5f"
            },
            "marker": {
             "line": {
              "color": "#E5ECF6",
              "width": 0.5
             },
             "pattern": {
              "fillmode": "overlay",
              "size": 10,
              "solidity": 0.2
             }
            },
            "type": "bar"
           }
          ],
          "barpolar": [
           {
            "marker": {
             "line": {
              "color": "#E5ECF6",
              "width": 0.5
             },
             "pattern": {
              "fillmode": "overlay",
              "size": 10,
              "solidity": 0.2
             }
            },
            "type": "barpolar"
           }
          ],
          "carpet": [
           {
            "aaxis": {
             "endlinecolor": "#2a3f5f",
             "gridcolor": "white",
             "linecolor": "white",
             "minorgridcolor": "white",
             "startlinecolor": "#2a3f5f"
            },
            "baxis": {
             "endlinecolor": "#2a3f5f",
             "gridcolor": "white",
             "linecolor": "white",
             "minorgridcolor": "white",
             "startlinecolor": "#2a3f5f"
            },
            "type": "carpet"
           }
          ],
          "choropleth": [
           {
            "colorbar": {
             "outlinewidth": 0,
             "ticks": ""
            },
            "type": "choropleth"
           }
          ],
          "contour": [
           {
            "colorbar": {
             "outlinewidth": 0,
             "ticks": ""
            },
            "colorscale": [
             [
              0,
              "#0d0887"
             ],
             [
              0.1111111111111111,
              "#46039f"
             ],
             [
              0.2222222222222222,
              "#7201a8"
             ],
             [
              0.3333333333333333,
              "#9c179e"
             ],
             [
              0.4444444444444444,
              "#bd3786"
             ],
             [
              0.5555555555555556,
              "#d8576b"
             ],
             [
              0.6666666666666666,
              "#ed7953"
             ],
             [
              0.7777777777777778,
              "#fb9f3a"
             ],
             [
              0.8888888888888888,
              "#fdca26"
             ],
             [
              1,
              "#f0f921"
             ]
            ],
            "type": "contour"
           }
          ],
          "contourcarpet": [
           {
            "colorbar": {
             "outlinewidth": 0,
             "ticks": ""
            },
            "type": "contourcarpet"
           }
          ],
          "heatmap": [
           {
            "colorbar": {
             "outlinewidth": 0,
             "ticks": ""
            },
            "colorscale": [
             [
              0,
              "#0d0887"
             ],
             [
              0.1111111111111111,
              "#46039f"
             ],
             [
              0.2222222222222222,
              "#7201a8"
             ],
             [
              0.3333333333333333,
              "#9c179e"
             ],
             [
              0.4444444444444444,
              "#bd3786"
             ],
             [
              0.5555555555555556,
              "#d8576b"
             ],
             [
              0.6666666666666666,
              "#ed7953"
             ],
             [
              0.7777777777777778,
              "#fb9f3a"
             ],
             [
              0.8888888888888888,
              "#fdca26"
             ],
             [
              1,
              "#f0f921"
             ]
            ],
            "type": "heatmap"
           }
          ],
          "heatmapgl": [
           {
            "colorbar": {
             "outlinewidth": 0,
             "ticks": ""
            },
            "colorscale": [
             [
              0,
              "#0d0887"
             ],
             [
              0.1111111111111111,
              "#46039f"
             ],
             [
              0.2222222222222222,
              "#7201a8"
             ],
             [
              0.3333333333333333,
              "#9c179e"
             ],
             [
              0.4444444444444444,
              "#bd3786"
             ],
             [
              0.5555555555555556,
              "#d8576b"
             ],
             [
              0.6666666666666666,
              "#ed7953"
             ],
             [
              0.7777777777777778,
              "#fb9f3a"
             ],
             [
              0.8888888888888888,
              "#fdca26"
             ],
             [
              1,
              "#f0f921"
             ]
            ],
            "type": "heatmapgl"
           }
          ],
          "histogram": [
           {
            "marker": {
             "pattern": {
              "fillmode": "overlay",
              "size": 10,
              "solidity": 0.2
             }
            },
            "type": "histogram"
           }
          ],
          "histogram2d": [
           {
            "colorbar": {
             "outlinewidth": 0,
             "ticks": ""
            },
            "colorscale": [
             [
              0,
              "#0d0887"
             ],
             [
              0.1111111111111111,
              "#46039f"
             ],
             [
              0.2222222222222222,
              "#7201a8"
             ],
             [
              0.3333333333333333,
              "#9c179e"
             ],
             [
              0.4444444444444444,
              "#bd3786"
             ],
             [
              0.5555555555555556,
              "#d8576b"
             ],
             [
              0.6666666666666666,
              "#ed7953"
             ],
             [
              0.7777777777777778,
              "#fb9f3a"
             ],
             [
              0.8888888888888888,
              "#fdca26"
             ],
             [
              1,
              "#f0f921"
             ]
            ],
            "type": "histogram2d"
           }
          ],
          "histogram2dcontour": [
           {
            "colorbar": {
             "outlinewidth": 0,
             "ticks": ""
            },
            "colorscale": [
             [
              0,
              "#0d0887"
             ],
             [
              0.1111111111111111,
              "#46039f"
             ],
             [
              0.2222222222222222,
              "#7201a8"
             ],
             [
              0.3333333333333333,
              "#9c179e"
             ],
             [
              0.4444444444444444,
              "#bd3786"
             ],
             [
              0.5555555555555556,
              "#d8576b"
             ],
             [
              0.6666666666666666,
              "#ed7953"
             ],
             [
              0.7777777777777778,
              "#fb9f3a"
             ],
             [
              0.8888888888888888,
              "#fdca26"
             ],
             [
              1,
              "#f0f921"
             ]
            ],
            "type": "histogram2dcontour"
           }
          ],
          "mesh3d": [
           {
            "colorbar": {
             "outlinewidth": 0,
             "ticks": ""
            },
            "type": "mesh3d"
           }
          ],
          "parcoords": [
           {
            "line": {
             "colorbar": {
              "outlinewidth": 0,
              "ticks": ""
             }
            },
            "type": "parcoords"
           }
          ],
          "pie": [
           {
            "automargin": true,
            "type": "pie"
           }
          ],
          "scatter": [
           {
            "fillpattern": {
             "fillmode": "overlay",
             "size": 10,
             "solidity": 0.2
            },
            "type": "scatter"
           }
          ],
          "scatter3d": [
           {
            "line": {
             "colorbar": {
              "outlinewidth": 0,
              "ticks": ""
             }
            },
            "marker": {
             "colorbar": {
              "outlinewidth": 0,
              "ticks": ""
             }
            },
            "type": "scatter3d"
           }
          ],
          "scattercarpet": [
           {
            "marker": {
             "colorbar": {
              "outlinewidth": 0,
              "ticks": ""
             }
            },
            "type": "scattercarpet"
           }
          ],
          "scattergeo": [
           {
            "marker": {
             "colorbar": {
              "outlinewidth": 0,
              "ticks": ""
             }
            },
            "type": "scattergeo"
           }
          ],
          "scattergl": [
           {
            "marker": {
             "colorbar": {
              "outlinewidth": 0,
              "ticks": ""
             }
            },
            "type": "scattergl"
           }
          ],
          "scattermapbox": [
           {
            "marker": {
             "colorbar": {
              "outlinewidth": 0,
              "ticks": ""
             }
            },
            "type": "scattermapbox"
           }
          ],
          "scatterpolar": [
           {
            "marker": {
             "colorbar": {
              "outlinewidth": 0,
              "ticks": ""
             }
            },
            "type": "scatterpolar"
           }
          ],
          "scatterpolargl": [
           {
            "marker": {
             "colorbar": {
              "outlinewidth": 0,
              "ticks": ""
             }
            },
            "type": "scatterpolargl"
           }
          ],
          "scatterternary": [
           {
            "marker": {
             "colorbar": {
              "outlinewidth": 0,
              "ticks": ""
             }
            },
            "type": "scatterternary"
           }
          ],
          "surface": [
           {
            "colorbar": {
             "outlinewidth": 0,
             "ticks": ""
            },
            "colorscale": [
             [
              0,
              "#0d0887"
             ],
             [
              0.1111111111111111,
              "#46039f"
             ],
             [
              0.2222222222222222,
              "#7201a8"
             ],
             [
              0.3333333333333333,
              "#9c179e"
             ],
             [
              0.4444444444444444,
              "#bd3786"
             ],
             [
              0.5555555555555556,
              "#d8576b"
             ],
             [
              0.6666666666666666,
              "#ed7953"
             ],
             [
              0.7777777777777778,
              "#fb9f3a"
             ],
             [
              0.8888888888888888,
              "#fdca26"
             ],
             [
              1,
              "#f0f921"
             ]
            ],
            "type": "surface"
           }
          ],
          "table": [
           {
            "cells": {
             "fill": {
              "color": "#EBF0F8"
             },
             "line": {
              "color": "white"
             }
            },
            "header": {
             "fill": {
              "color": "#C8D4E3"
             },
             "line": {
              "color": "white"
             }
            },
            "type": "table"
           }
          ]
         },
         "layout": {
          "annotationdefaults": {
           "arrowcolor": "#2a3f5f",
           "arrowhead": 0,
           "arrowwidth": 1
          },
          "autotypenumbers": "strict",
          "coloraxis": {
           "colorbar": {
            "outlinewidth": 0,
            "ticks": ""
           }
          },
          "colorscale": {
           "diverging": [
            [
             0,
             "#8e0152"
            ],
            [
             0.1,
             "#c51b7d"
            ],
            [
             0.2,
             "#de77ae"
            ],
            [
             0.3,
             "#f1b6da"
            ],
            [
             0.4,
             "#fde0ef"
            ],
            [
             0.5,
             "#f7f7f7"
            ],
            [
             0.6,
             "#e6f5d0"
            ],
            [
             0.7,
             "#b8e186"
            ],
            [
             0.8,
             "#7fbc41"
            ],
            [
             0.9,
             "#4d9221"
            ],
            [
             1,
             "#276419"
            ]
           ],
           "sequential": [
            [
             0,
             "#0d0887"
            ],
            [
             0.1111111111111111,
             "#46039f"
            ],
            [
             0.2222222222222222,
             "#7201a8"
            ],
            [
             0.3333333333333333,
             "#9c179e"
            ],
            [
             0.4444444444444444,
             "#bd3786"
            ],
            [
             0.5555555555555556,
             "#d8576b"
            ],
            [
             0.6666666666666666,
             "#ed7953"
            ],
            [
             0.7777777777777778,
             "#fb9f3a"
            ],
            [
             0.8888888888888888,
             "#fdca26"
            ],
            [
             1,
             "#f0f921"
            ]
           ],
           "sequentialminus": [
            [
             0,
             "#0d0887"
            ],
            [
             0.1111111111111111,
             "#46039f"
            ],
            [
             0.2222222222222222,
             "#7201a8"
            ],
            [
             0.3333333333333333,
             "#9c179e"
            ],
            [
             0.4444444444444444,
             "#bd3786"
            ],
            [
             0.5555555555555556,
             "#d8576b"
            ],
            [
             0.6666666666666666,
             "#ed7953"
            ],
            [
             0.7777777777777778,
             "#fb9f3a"
            ],
            [
             0.8888888888888888,
             "#fdca26"
            ],
            [
             1,
             "#f0f921"
            ]
           ]
          },
          "colorway": [
           "#636efa",
           "#EF553B",
           "#00cc96",
           "#ab63fa",
           "#FFA15A",
           "#19d3f3",
           "#FF6692",
           "#B6E880",
           "#FF97FF",
           "#FECB52"
          ],
          "font": {
           "color": "#2a3f5f"
          },
          "geo": {
           "bgcolor": "white",
           "lakecolor": "white",
           "landcolor": "#E5ECF6",
           "showlakes": true,
           "showland": true,
           "subunitcolor": "white"
          },
          "hoverlabel": {
           "align": "left"
          },
          "hovermode": "closest",
          "mapbox": {
           "style": "light"
          },
          "paper_bgcolor": "white",
          "plot_bgcolor": "#E5ECF6",
          "polar": {
           "angularaxis": {
            "gridcolor": "white",
            "linecolor": "white",
            "ticks": ""
           },
           "bgcolor": "#E5ECF6",
           "radialaxis": {
            "gridcolor": "white",
            "linecolor": "white",
            "ticks": ""
           }
          },
          "scene": {
           "xaxis": {
            "backgroundcolor": "#E5ECF6",
            "gridcolor": "white",
            "gridwidth": 2,
            "linecolor": "white",
            "showbackground": true,
            "ticks": "",
            "zerolinecolor": "white"
           },
           "yaxis": {
            "backgroundcolor": "#E5ECF6",
            "gridcolor": "white",
            "gridwidth": 2,
            "linecolor": "white",
            "showbackground": true,
            "ticks": "",
            "zerolinecolor": "white"
           },
           "zaxis": {
            "backgroundcolor": "#E5ECF6",
            "gridcolor": "white",
            "gridwidth": 2,
            "linecolor": "white",
            "showbackground": true,
            "ticks": "",
            "zerolinecolor": "white"
           }
          },
          "shapedefaults": {
           "line": {
            "color": "#2a3f5f"
           }
          },
          "ternary": {
           "aaxis": {
            "gridcolor": "white",
            "linecolor": "white",
            "ticks": ""
           },
           "baxis": {
            "gridcolor": "white",
            "linecolor": "white",
            "ticks": ""
           },
           "bgcolor": "#E5ECF6",
           "caxis": {
            "gridcolor": "white",
            "linecolor": "white",
            "ticks": ""
           }
          },
          "title": {
           "x": 0.05
          },
          "xaxis": {
           "automargin": true,
           "gridcolor": "white",
           "linecolor": "white",
           "ticks": "",
           "title": {
            "standoff": 15
           },
           "zerolinecolor": "white",
           "zerolinewidth": 2
          },
          "yaxis": {
           "automargin": true,
           "gridcolor": "white",
           "linecolor": "white",
           "ticks": "",
           "title": {
            "standoff": 15
           },
           "zerolinecolor": "white",
           "zerolinewidth": 2
          }
         }
        }
       }
      },
      "text/html": [
       "<div>                            <div id=\"83241683-2bc2-4d98-b21b-fcd7c263ead5\" class=\"plotly-graph-div\" style=\"height:525px; width:100%;\"></div>            <script type=\"text/javascript\">                require([\"plotly\"], function(Plotly) {                    window.PLOTLYENV=window.PLOTLYENV || {};                                    if (document.getElementById(\"83241683-2bc2-4d98-b21b-fcd7c263ead5\")) {                    Plotly.newPlot(                        \"83241683-2bc2-4d98-b21b-fcd7c263ead5\",                        [{\"hovertemplate\":\"Line=$X_0$<br>x=%{x}<br>y=%{y}<br>z=%{z}<extra></extra>\",\"legendgroup\":\"$X_0$\",\"line\":{\"color\":\"#636efa\",\"dash\":\"solid\",\"width\":6},\"marker\":{\"size\":5,\"symbol\":\"circle\"},\"mode\":\"markers+lines\",\"name\":\"$X_0$\",\"scene\":\"scene\",\"showlegend\":true,\"x\":[0,5],\"y\":[0,0],\"z\":[0,0],\"type\":\"scatter3d\"},{\"hovertemplate\":\"Line=$Y_0$<br>x=%{x}<br>y=%{y}<br>z=%{z}<extra></extra>\",\"legendgroup\":\"$Y_0$\",\"line\":{\"color\":\"#EF553B\",\"dash\":\"solid\",\"width\":6},\"marker\":{\"size\":5,\"symbol\":\"circle\"},\"mode\":\"markers+lines\",\"name\":\"$Y_0$\",\"scene\":\"scene\",\"showlegend\":true,\"x\":[0,0],\"y\":[0,5],\"z\":[0,0],\"type\":\"scatter3d\"},{\"hovertemplate\":\"Line=$Z_0$<br>x=%{x}<br>y=%{y}<br>z=%{z}<extra></extra>\",\"legendgroup\":\"$Z_0$\",\"line\":{\"color\":\"#00cc96\",\"dash\":\"solid\",\"width\":6},\"marker\":{\"size\":5,\"symbol\":\"circle\"},\"mode\":\"markers+lines\",\"name\":\"$Z_0$\",\"scene\":\"scene\",\"showlegend\":true,\"x\":[0,0],\"y\":[0,0],\"z\":[0,5],\"type\":\"scatter3d\"},{\"hovertemplate\":\"Point=$p_0$<br>x=%{x}<br>y=%{y}<br>z=%{z}<br>text=%{text}<extra></extra>\",\"legendgroup\":\"$p_0$\",\"marker\":{\"color\":\"#636efa\",\"symbol\":\"circle\"},\"mode\":\"markers+text\",\"name\":\"$p_0$\",\"scene\":\"scene\",\"showlegend\":true,\"text\":[[2.55,6.5,10.0]],\"x\":[2.55],\"y\":[6.5],\"z\":[10.0],\"type\":\"scatter3d\"},{\"hovertemplate\":\"Point=$p_1$<br>x=%{x}<br>y=%{y}<br>z=%{z}<br>text=%{text}<extra></extra>\",\"legendgroup\":\"$p_1$\",\"marker\":{\"color\":\"#EF553B\",\"symbol\":\"circle\"},\"mode\":\"markers+text\",\"name\":\"$p_1$\",\"scene\":\"scene\",\"showlegend\":true,\"text\":[[-2.2930717856868634,6.899316369738256,10.0]],\"x\":[-2.2930717856868634],\"y\":[6.899316369738256],\"z\":[10.0],\"type\":\"scatter3d\"}],                        {\"template\":{\"data\":{\"histogram2dcontour\":[{\"type\":\"histogram2dcontour\",\"colorbar\":{\"outlinewidth\":0,\"ticks\":\"\"},\"colorscale\":[[0.0,\"#0d0887\"],[0.1111111111111111,\"#46039f\"],[0.2222222222222222,\"#7201a8\"],[0.3333333333333333,\"#9c179e\"],[0.4444444444444444,\"#bd3786\"],[0.5555555555555556,\"#d8576b\"],[0.6666666666666666,\"#ed7953\"],[0.7777777777777778,\"#fb9f3a\"],[0.8888888888888888,\"#fdca26\"],[1.0,\"#f0f921\"]]}],\"choropleth\":[{\"type\":\"choropleth\",\"colorbar\":{\"outlinewidth\":0,\"ticks\":\"\"}}],\"histogram2d\":[{\"type\":\"histogram2d\",\"colorbar\":{\"outlinewidth\":0,\"ticks\":\"\"},\"colorscale\":[[0.0,\"#0d0887\"],[0.1111111111111111,\"#46039f\"],[0.2222222222222222,\"#7201a8\"],[0.3333333333333333,\"#9c179e\"],[0.4444444444444444,\"#bd3786\"],[0.5555555555555556,\"#d8576b\"],[0.6666666666666666,\"#ed7953\"],[0.7777777777777778,\"#fb9f3a\"],[0.8888888888888888,\"#fdca26\"],[1.0,\"#f0f921\"]]}],\"heatmap\":[{\"type\":\"heatmap\",\"colorbar\":{\"outlinewidth\":0,\"ticks\":\"\"},\"colorscale\":[[0.0,\"#0d0887\"],[0.1111111111111111,\"#46039f\"],[0.2222222222222222,\"#7201a8\"],[0.3333333333333333,\"#9c179e\"],[0.4444444444444444,\"#bd3786\"],[0.5555555555555556,\"#d8576b\"],[0.6666666666666666,\"#ed7953\"],[0.7777777777777778,\"#fb9f3a\"],[0.8888888888888888,\"#fdca26\"],[1.0,\"#f0f921\"]]}],\"heatmapgl\":[{\"type\":\"heatmapgl\",\"colorbar\":{\"outlinewidth\":0,\"ticks\":\"\"},\"colorscale\":[[0.0,\"#0d0887\"],[0.1111111111111111,\"#46039f\"],[0.2222222222222222,\"#7201a8\"],[0.3333333333333333,\"#9c179e\"],[0.4444444444444444,\"#bd3786\"],[0.5555555555555556,\"#d8576b\"],[0.6666666666666666,\"#ed7953\"],[0.7777777777777778,\"#fb9f3a\"],[0.8888888888888888,\"#fdca26\"],[1.0,\"#f0f921\"]]}],\"contourcarpet\":[{\"type\":\"contourcarpet\",\"colorbar\":{\"outlinewidth\":0,\"ticks\":\"\"}}],\"contour\":[{\"type\":\"contour\",\"colorbar\":{\"outlinewidth\":0,\"ticks\":\"\"},\"colorscale\":[[0.0,\"#0d0887\"],[0.1111111111111111,\"#46039f\"],[0.2222222222222222,\"#7201a8\"],[0.3333333333333333,\"#9c179e\"],[0.4444444444444444,\"#bd3786\"],[0.5555555555555556,\"#d8576b\"],[0.6666666666666666,\"#ed7953\"],[0.7777777777777778,\"#fb9f3a\"],[0.8888888888888888,\"#fdca26\"],[1.0,\"#f0f921\"]]}],\"surface\":[{\"type\":\"surface\",\"colorbar\":{\"outlinewidth\":0,\"ticks\":\"\"},\"colorscale\":[[0.0,\"#0d0887\"],[0.1111111111111111,\"#46039f\"],[0.2222222222222222,\"#7201a8\"],[0.3333333333333333,\"#9c179e\"],[0.4444444444444444,\"#bd3786\"],[0.5555555555555556,\"#d8576b\"],[0.6666666666666666,\"#ed7953\"],[0.7777777777777778,\"#fb9f3a\"],[0.8888888888888888,\"#fdca26\"],[1.0,\"#f0f921\"]]}],\"mesh3d\":[{\"type\":\"mesh3d\",\"colorbar\":{\"outlinewidth\":0,\"ticks\":\"\"}}],\"scatter\":[{\"fillpattern\":{\"fillmode\":\"overlay\",\"size\":10,\"solidity\":0.2},\"type\":\"scatter\"}],\"parcoords\":[{\"type\":\"parcoords\",\"line\":{\"colorbar\":{\"outlinewidth\":0,\"ticks\":\"\"}}}],\"scatterpolargl\":[{\"type\":\"scatterpolargl\",\"marker\":{\"colorbar\":{\"outlinewidth\":0,\"ticks\":\"\"}}}],\"bar\":[{\"error_x\":{\"color\":\"#2a3f5f\"},\"error_y\":{\"color\":\"#2a3f5f\"},\"marker\":{\"line\":{\"color\":\"#E5ECF6\",\"width\":0.5},\"pattern\":{\"fillmode\":\"overlay\",\"size\":10,\"solidity\":0.2}},\"type\":\"bar\"}],\"scattergeo\":[{\"type\":\"scattergeo\",\"marker\":{\"colorbar\":{\"outlinewidth\":0,\"ticks\":\"\"}}}],\"scatterpolar\":[{\"type\":\"scatterpolar\",\"marker\":{\"colorbar\":{\"outlinewidth\":0,\"ticks\":\"\"}}}],\"histogram\":[{\"marker\":{\"pattern\":{\"fillmode\":\"overlay\",\"size\":10,\"solidity\":0.2}},\"type\":\"histogram\"}],\"scattergl\":[{\"type\":\"scattergl\",\"marker\":{\"colorbar\":{\"outlinewidth\":0,\"ticks\":\"\"}}}],\"scatter3d\":[{\"type\":\"scatter3d\",\"line\":{\"colorbar\":{\"outlinewidth\":0,\"ticks\":\"\"}},\"marker\":{\"colorbar\":{\"outlinewidth\":0,\"ticks\":\"\"}}}],\"scattermapbox\":[{\"type\":\"scattermapbox\",\"marker\":{\"colorbar\":{\"outlinewidth\":0,\"ticks\":\"\"}}}],\"scatterternary\":[{\"type\":\"scatterternary\",\"marker\":{\"colorbar\":{\"outlinewidth\":0,\"ticks\":\"\"}}}],\"scattercarpet\":[{\"type\":\"scattercarpet\",\"marker\":{\"colorbar\":{\"outlinewidth\":0,\"ticks\":\"\"}}}],\"carpet\":[{\"aaxis\":{\"endlinecolor\":\"#2a3f5f\",\"gridcolor\":\"white\",\"linecolor\":\"white\",\"minorgridcolor\":\"white\",\"startlinecolor\":\"#2a3f5f\"},\"baxis\":{\"endlinecolor\":\"#2a3f5f\",\"gridcolor\":\"white\",\"linecolor\":\"white\",\"minorgridcolor\":\"white\",\"startlinecolor\":\"#2a3f5f\"},\"type\":\"carpet\"}],\"table\":[{\"cells\":{\"fill\":{\"color\":\"#EBF0F8\"},\"line\":{\"color\":\"white\"}},\"header\":{\"fill\":{\"color\":\"#C8D4E3\"},\"line\":{\"color\":\"white\"}},\"type\":\"table\"}],\"barpolar\":[{\"marker\":{\"line\":{\"color\":\"#E5ECF6\",\"width\":0.5},\"pattern\":{\"fillmode\":\"overlay\",\"size\":10,\"solidity\":0.2}},\"type\":\"barpolar\"}],\"pie\":[{\"automargin\":true,\"type\":\"pie\"}]},\"layout\":{\"autotypenumbers\":\"strict\",\"colorway\":[\"#636efa\",\"#EF553B\",\"#00cc96\",\"#ab63fa\",\"#FFA15A\",\"#19d3f3\",\"#FF6692\",\"#B6E880\",\"#FF97FF\",\"#FECB52\"],\"font\":{\"color\":\"#2a3f5f\"},\"hovermode\":\"closest\",\"hoverlabel\":{\"align\":\"left\"},\"paper_bgcolor\":\"white\",\"plot_bgcolor\":\"#E5ECF6\",\"polar\":{\"bgcolor\":\"#E5ECF6\",\"angularaxis\":{\"gridcolor\":\"white\",\"linecolor\":\"white\",\"ticks\":\"\"},\"radialaxis\":{\"gridcolor\":\"white\",\"linecolor\":\"white\",\"ticks\":\"\"}},\"ternary\":{\"bgcolor\":\"#E5ECF6\",\"aaxis\":{\"gridcolor\":\"white\",\"linecolor\":\"white\",\"ticks\":\"\"},\"baxis\":{\"gridcolor\":\"white\",\"linecolor\":\"white\",\"ticks\":\"\"},\"caxis\":{\"gridcolor\":\"white\",\"linecolor\":\"white\",\"ticks\":\"\"}},\"coloraxis\":{\"colorbar\":{\"outlinewidth\":0,\"ticks\":\"\"}},\"colorscale\":{\"sequential\":[[0.0,\"#0d0887\"],[0.1111111111111111,\"#46039f\"],[0.2222222222222222,\"#7201a8\"],[0.3333333333333333,\"#9c179e\"],[0.4444444444444444,\"#bd3786\"],[0.5555555555555556,\"#d8576b\"],[0.6666666666666666,\"#ed7953\"],[0.7777777777777778,\"#fb9f3a\"],[0.8888888888888888,\"#fdca26\"],[1.0,\"#f0f921\"]],\"sequentialminus\":[[0.0,\"#0d0887\"],[0.1111111111111111,\"#46039f\"],[0.2222222222222222,\"#7201a8\"],[0.3333333333333333,\"#9c179e\"],[0.4444444444444444,\"#bd3786\"],[0.5555555555555556,\"#d8576b\"],[0.6666666666666666,\"#ed7953\"],[0.7777777777777778,\"#fb9f3a\"],[0.8888888888888888,\"#fdca26\"],[1.0,\"#f0f921\"]],\"diverging\":[[0,\"#8e0152\"],[0.1,\"#c51b7d\"],[0.2,\"#de77ae\"],[0.3,\"#f1b6da\"],[0.4,\"#fde0ef\"],[0.5,\"#f7f7f7\"],[0.6,\"#e6f5d0\"],[0.7,\"#b8e186\"],[0.8,\"#7fbc41\"],[0.9,\"#4d9221\"],[1,\"#276419\"]]},\"xaxis\":{\"gridcolor\":\"white\",\"linecolor\":\"white\",\"ticks\":\"\",\"title\":{\"standoff\":15},\"zerolinecolor\":\"white\",\"automargin\":true,\"zerolinewidth\":2},\"yaxis\":{\"gridcolor\":\"white\",\"linecolor\":\"white\",\"ticks\":\"\",\"title\":{\"standoff\":15},\"zerolinecolor\":\"white\",\"automargin\":true,\"zerolinewidth\":2},\"scene\":{\"xaxis\":{\"backgroundcolor\":\"#E5ECF6\",\"gridcolor\":\"white\",\"linecolor\":\"white\",\"showbackground\":true,\"ticks\":\"\",\"zerolinecolor\":\"white\",\"gridwidth\":2},\"yaxis\":{\"backgroundcolor\":\"#E5ECF6\",\"gridcolor\":\"white\",\"linecolor\":\"white\",\"showbackground\":true,\"ticks\":\"\",\"zerolinecolor\":\"white\",\"gridwidth\":2},\"zaxis\":{\"backgroundcolor\":\"#E5ECF6\",\"gridcolor\":\"white\",\"linecolor\":\"white\",\"showbackground\":true,\"ticks\":\"\",\"zerolinecolor\":\"white\",\"gridwidth\":2}},\"shapedefaults\":{\"line\":{\"color\":\"#2a3f5f\"}},\"annotationdefaults\":{\"arrowcolor\":\"#2a3f5f\",\"arrowhead\":0,\"arrowwidth\":1},\"geo\":{\"bgcolor\":\"white\",\"landcolor\":\"#E5ECF6\",\"subunitcolor\":\"white\",\"showland\":true,\"showlakes\":true,\"lakecolor\":\"white\"},\"title\":{\"x\":0.05},\"mapbox\":{\"style\":\"light\"}}},\"margin\":{\"l\":0,\"r\":0,\"b\":0,\"t\":20},\"scene\":{\"aspectmode\":\"data\"}},                        {\"responsive\": true}                    ).then(function(){\n",
       "                            \n",
       "var gd = document.getElementById('83241683-2bc2-4d98-b21b-fcd7c263ead5');\n",
       "var x = new MutationObserver(function (mutations, observer) {{\n",
       "        var display = window.getComputedStyle(gd).display;\n",
       "        if (!display || display === 'none') {{\n",
       "            console.log([gd, 'removed!']);\n",
       "            Plotly.purge(gd);\n",
       "            observer.disconnect();\n",
       "        }}\n",
       "}});\n",
       "\n",
       "// Listen for the removal of the full notebook cells\n",
       "var notebookContainer = gd.closest('#notebook-container');\n",
       "if (notebookContainer) {{\n",
       "    x.observe(notebookContainer, {childList: true});\n",
       "}}\n",
       "\n",
       "// Listen for the clearing of the current output cell\n",
       "var outputEl = gd.closest('.output');\n",
       "if (outputEl) {{\n",
       "    x.observe(outputEl, {childList: true});\n",
       "}}\n",
       "\n",
       "                        })                };                });            </script>        </div>"
      ]
     },
     "metadata": {},
     "output_type": "display_data"
    }
   ],
   "source": [
    "fig=coordinatePlot(order, Tra, a_x, a_y, a_z, p, typ,l)\n",
    "\n",
    "fig.show()"
   ]
  },
  {
   "cell_type": "markdown",
   "id": "5775fc8a",
   "metadata": {},
   "source": [
    "## Dashboard using Dash"
   ]
  },
  {
   "cell_type": "code",
   "execution_count": null,
   "id": "f16060dd",
   "metadata": {},
   "outputs": [],
   "source": [
    "#*********** imporing all the required library***********\n",
    "import numpy as np \n",
    "import pandas as pd\n",
    "import plotly.express as px\n",
    "import plotly.graph_objects as go\n",
    "from dash import Dash, dcc, html, Input, Output\n",
    "#*********** Functiond for coordinate trnsform ***********\n",
    "def orderMult(order,Tr,Rx,Ry,Rz,type):\n",
    "    \"\"\"[summary]\n",
    "\n",
    "    Args:\n",
    "        order ([type]): [description]\n",
    "        Tr ([type]): [description]\n",
    "        Rx ([type]): [description]\n",
    "        Ry ([type]): [description]\n",
    "        Rz ([type]): [description]\n",
    "        type ([type]): [description]\n",
    "\n",
    "    Returns:\n",
    "        [type]: [description]\n",
    "    \"\"\"\n",
    "    MatDict = {char: ord(char) for char in order}\n",
    "    MatDict['T'] = Tr\n",
    "    MatDict['X'] = Rx\n",
    "    MatDict['Y'] = Ry\n",
    "    MatDict['Z'] = Rz\n",
    "    keys = list(MatDict.keys())\n",
    "    val1 = MatDict[keys[0]]\n",
    "    val2 = MatDict[keys[1]]\n",
    "    val3 = MatDict[keys[2]]\n",
    "    val4 = MatDict[keys[3]]\n",
    "\n",
    "    if type==1:\n",
    "        RotMat = val4 @ val3 @ val2 @ val1\n",
    "        # RotMat=np.matmul(np.matmul(val4, val3), np.matmul(val2, val1))\n",
    "        # RotMat=np.matmul(val2, val3)\n",
    "    elif type==2:\n",
    "        RotMat = val1 @ val2 @ val3 @ val4\n",
    "        # RotMat=np.matmul(np.matmul(val1, val2), np.matmul(val3, val4))\n",
    "    return RotMat\n",
    "\n",
    "def coordinateTransform(order='TXYZ', Tra=[0,0,0], a_x=0, a_y=0, a_z=0, point=[0,0,0], type=1):\n",
    "    \"\"\"[summary]\n",
    "\n",
    "    Args:\n",
    "        order (str, optional): [order of transformation and rotation]. Defaults to 'TXYZ'.\n",
    "        Tra (list, optional): [Translation of a coordinate or point]. Defaults to [0,0,0].\n",
    "        a_x (int, optional): [anti-clockwise rotation along the x-axis]. Defaults to 0.\n",
    "        a_y (int, optional): [anti-clockwise rotation along the y-axis]. Defaults to 0.\n",
    "        a_z (int, optional): [anti-clockwise rotation along the z-axis]. Defaults to 0.\n",
    "        point (list, optional): [point to be transformed]. Defaults to [0,0,0].\n",
    "        type (int, optional): [1 & 2 (1: for coordinate transformation, 2: for point transformation with fix coordinate)]. Defaults to 1.\n",
    "\n",
    "    Returns:\n",
    "        [List]: [point coordinate after transformation]\n",
    "    \"\"\"\n",
    "\n",
    "    Xc = np.matrix([[point[0]], [point[1]], [point[2]] ,[1]])\n",
    "    theta_x = np.deg2rad(a_x)\n",
    "    theta_y = np.deg2rad(a_y)\n",
    "    theta_z = np.deg2rad(a_z)\n",
    "    \n",
    "    if type==2:\n",
    "        tx = Tra[0]\n",
    "        ty = Tra[1]\n",
    "        tz = Tra[2]\n",
    "    elif type==1:\n",
    "        tx = Tra[0]*-1\n",
    "        ty = Tra[1]*-1\n",
    "        tz = Tra[2]*-1\n",
    "        theta_x = np.deg2rad(a_x)*-1\n",
    "        theta_y = np.deg2rad(a_y)*-1\n",
    "        theta_z = np.deg2rad(a_z)*-1\n",
    "    else:\n",
    "        print(\"Enter type=1: for coordinate tranformation & type=2: for point tranformation\")\n",
    "    \n",
    "    Tr = np.matrix([[1, 0, 0 ,tx], [0, 1,0, ty], [0, 0, 1 ,tz],[0, 0, 0 ,1]])\n",
    "    Rx = np.matrix([[1, 0, 0 ,0], [0, np.cos(theta_x), -np.sin(theta_x), 0], [0, np.sin(theta_x), np.cos(theta_x), 0],[0, 0, 0 ,1]])\n",
    "    Ry = np.matrix([[np.cos(theta_y), 0, np.sin(theta_y) ,0], [0, 1,0, 0], [-np.sin(theta_y), 0, np.cos(theta_y), 0],[0, 0, 0 ,1]])\n",
    "    Rz = np.matrix([[np.cos(theta_z), -np.sin(theta_z), 0 ,0], [np.sin(theta_z), np.cos(theta_z), 0, 0], [0, 0, 1 ,0],[0, 0, 0 ,1]])\n",
    "\n",
    "    RotMat = orderMult(order,Tr,Rx,Ry,Rz,type)\n",
    "    Xf = RotMat @ Xc\n",
    "\n",
    "    Xf=Xf[0:3].tolist()\n",
    "    return [Xf[0][0],Xf[1][0],Xf[2][0]]\n",
    "\n",
    "def coordinatePlot(order='TXYZ', Tra=[0,0,0], a_x=0, a_y=0, a_z=0, point=[1,1,1], type=1,l=5):\n",
    "    \"\"\"[summary]\n",
    "\n",
    "    Args:\n",
    "        order (str, optional): [description]. Defaults to 'TXYZ'.\n",
    "        Tra (list, optional): [description]. Defaults to [0,0,0].\n",
    "        a_x (int, optional): [description]. Defaults to 0.\n",
    "        a_y (int, optional): [description]. Defaults to 0.\n",
    "        a_z (int, optional): [description]. Defaults to 0.\n",
    "        point (list, optional): [description]. Defaults to [0,0,0].\n",
    "        type (int, optional): [description]. Defaults to 1.\n",
    "        l (int, optional): [description]. Defaults to 5.\n",
    "    \"\"\"\n",
    "    Xf=coordinateTransform(order, Tra, a_x, a_y, a_z, point, type)\n",
    "    \n",
    "    Xa=[0,0,0]\n",
    "    Xb=[l,0,0]\n",
    "    Ya=[0,0,0]\n",
    "    Yb=[0,l,0]\n",
    "    Za=[0,0,0]\n",
    "    Zb=[0,0,l]\n",
    "    Xat=coordinateTransform(order, Tra, a_x, a_y, a_z, Xa, 2)\n",
    "    Xbt=coordinateTransform(order, Tra, a_x, a_y, a_z, Xb, 2)\n",
    "    Yat=coordinateTransform(order, Tra, a_x, a_y, a_z, Ya, 2)\n",
    "    Ybt=coordinateTransform(order, Tra, a_x, a_y, a_z, Yb, 2)\n",
    "    Zat=coordinateTransform(order, Tra, a_x, a_y, a_z, Za, 2)\n",
    "    Zbt=coordinateTransform(order, Tra, a_x, a_y, a_z, Zb, 2)\n",
    "    p=point\n",
    "    if type==1:\n",
    "        \n",
    "        Line=[\"$X_0$\",\"$X_0$\",\"$Y_0$\",\"$Y_0$\",\"$Z_0$\",\"$Z_0$\",\"$X_1$\",\"$X_1$\",\"$Y_1$\",\"$Y_1$\",\"$Z_1$\",\"$Z_1$\"]\n",
    "        x = np.array([Xa[0],Xb[0],Ya[0],Yb[0],Za[0],Zb[0],Xat[0],Xbt[0],Yat[0],Ybt[0],Zat[0],Zbt[0]])\n",
    "        y = np.array([Xa[1],Xb[1],Ya[1],Yb[1],Za[1],Zb[1],Xat[1],Xbt[1],Yat[1],Ybt[1],Zat[1],Zbt[1]])\n",
    "        z = np.array([Xa[2],Xb[2],Ya[2],Yb[2],Za[2],Zb[2],Xat[2],Xbt[2],Yat[2],Ybt[2],Zat[2],Zbt[2]])\n",
    "        df1 = pd.DataFrame({\"Line\":Line,\"x\": x, \"y\":y, \"z\":z})\n",
    "        # display(df1)\n",
    "        fig1 = px.line_3d(df1, x=\"x\", y=\"y\", z=\"z\",color='Line',markers=True)\n",
    "        fig1.update_traces(marker=dict(size=5),line=dict(width=6))\n",
    "        \n",
    "        df2=pd.DataFrame({\"Point\":[\"$p_0$\"],\"x\": [p[0]], \"y\":[p[1]], \"z\":[p[2]]})\n",
    "        # display(df2)\n",
    "        fig2 = px.scatter_3d(df2, x=\"x\", y=\"y\", z=\"z\",color='Point',text=[Xf])\n",
    "        fig3 = go.Figure(data=fig1.data + fig2.data)\n",
    "        fig3.update_layout(height=550,plot_bgcolor='rgba(0, 0, 0, 1)',paper_bgcolor='rgba(135, 206, 235, 1)',margin=dict(l=0, r=0, b=0, t=20),scene = dict(aspectmode='data'))\n",
    "        \n",
    "        return fig3\n",
    "\n",
    "    elif type==2:  \n",
    "        Line=[\"$X_0$\",\"$X_0$\",\"$Y_0$\",\"$Y_0$\",\"$Z_0$\",\"$Z_0$\"]\n",
    "        x = np.array([Xa[0],Xb[0],Ya[0],Yb[0],Za[0],Zb[0]])\n",
    "        y = np.array([Xa[1],Xb[1],Ya[1],Yb[1],Za[1],Zb[1]])\n",
    "        z = np.array([Xa[2],Xb[2],Ya[2],Yb[2],Za[2],Zb[2]])\n",
    "        df1 = pd.DataFrame({\"Line\":Line,\"x\": x, \"y\":y, \"z\":z})\n",
    "        # display(df1)\n",
    "        fig1 = px.line_3d(df1, x=\"x\", y=\"y\", z=\"z\",color='Line',markers=True)\n",
    "        fig1.update_traces(marker=dict(size=5),line=dict(width=6))\n",
    "        df2=pd.DataFrame({\"Point\":[\"$p_0$\",\"$p_1$\"],\"x\": [p[0], Xf[0]], \"y\":[p[1],Xf[1]], \"z\":[p[2],Xf[2]]})\n",
    "        # display(df2)\n",
    "        fig2 = px.scatter_3d(df2, x=\"x\", y=\"y\", z=\"z\",color='Point',text=[p,Xf])\n",
    "        fig3 = go.Figure(data=fig1.data + fig2.data)\n",
    "        fig3.update_layout(height=550,plot_bgcolor='rgba(0, 0, 2, 0)',paper_bgcolor='rgba(200, 200, 250, 1)',margin=dict(l=0, r=0, b=0, t=20),scene = dict(aspectmode='data'))\n",
    "        \n",
    "        return fig3\n",
    "\n",
    "    else:\n",
    "        print(\"Enter type=1: for coordinate tranformation & type=2: for point tranformation\")    \n",
    "\n",
    "  \n",
    "\n",
    "#**************** Bulding Dash-board ****************\n",
    "\n",
    "df4=pd.DataFrame({\"Order\":['TXYZ', 'TXZY', 'TYXZ', 'TYZX', \n",
    "                           'TZXY', 'TZYX', 'XTYZ', 'XTZY', 'XYTZ', \n",
    "                           'XYZT', 'XZTY', 'XZYT', 'YTXZ', 'YTZX', \n",
    "                           'YXTZ', 'YXZT', 'YZTX', 'YZXT', 'ZTXY', \n",
    "                           'ZTYX', 'ZXTY', 'ZXYT', 'ZYTX', 'ZYXT']})\n",
    "\n",
    "app = Dash(__name__)\n",
    "\n",
    "app.layout = html.Div([\n",
    "    html.Div([\n",
    "        html.Footer('@pramod.kumar'),\n",
    "        html.H2(children='Co-ordinate Trsnformation',style={'textAlign': 'center','color': 'rgba(0, 0, 235, 1)'}),\n",
    "        html.Div([\n",
    "            html.Br(),\n",
    "            html.B('Translation & Rotation Order'),\n",
    "            # dcc.Markdown('''***Translation & Rotation Order***'''),\n",
    "            dcc.Dropdown(\n",
    "                df4['Order'].unique(),\n",
    "                'TXYZ', id='ord'\n",
    "            ),\n",
    "            html.Br(),\n",
    "            html.B('Translation in x, y z direction'),  \n",
    "            # dcc.Markdown('''**Translation in x, y, z Direction**'''),          \n",
    "            html.Div([\n",
    "                html.Br(),\n",
    "                html.Label('dx: '),\n",
    "                dcc.Input(id='t1',type='number',value=1),\n",
    "                html.Br(),\n",
    "                html.Label('dy: '),\n",
    "                dcc.Input(id='t2',type='number',value=1), \n",
    "                html.Br(),\n",
    "                html.Label('dz: '),\n",
    "                dcc.Input(id='t3',type='number',value=1),                              \n",
    "            \n",
    "            ],style={'padding': 5, 'flex': 1}  ),\n",
    "            \n",
    "            html.Br(),\n",
    "            html.B('Rotation about x, y, z (deg)'),\n",
    "            # dcc.Markdown('''**Rotation about x, y, z (deg)**'''),             \n",
    "            html.Div([\n",
    "                html.Br(),\n",
    "                html.Label('Rx: '),\n",
    "                dcc.Input(id='rx',type='number',value=0),\n",
    "                html.Br(),\n",
    "                html.Label('Ry:  '),\n",
    "                dcc.Input(id='ry',type='number',value=0), \n",
    "                html.Br(),\n",
    "                html.Label('Rz:  '),\n",
    "                dcc.Input(id='rz',type='number',value=45),                              \n",
    "            \n",
    "            ],style={'padding': 5, 'flex': 1}  ),           \n",
    "            \n",
    "            html.Br(),\n",
    "            html.I('1:Coordinate Tranformation'),\n",
    "            html.Br(),\n",
    "            html.I('2:Point Tranformation'),\n",
    "            # dcc.Markdown('''*1:Coordinate Tranformation 2:Point Tranformation*'''),\n",
    "            dcc.RadioItems([1, 2], 1,id='typ', inline=False),\n",
    "            \n",
    "            html.Br(),\n",
    "            html.I('Triad Zoom'),\n",
    "            dcc.Slider(min=1,max=100,id='l',\n",
    "            marks={i: f'Zoom {i}' if i == 1 else str(i) for i in range(0, 101,10)},\n",
    "            value=5,\n",
    "            ),\n",
    "   \n",
    "        ], style={'width': '15%','padding': 5, 'display': 'inline-block'}),\n",
    "        \n",
    "        html.Div([\n",
    "            html.Br(),\n",
    "            # html.Label('Coordinate and point plot'),   \n",
    "            dcc.Graph(id='indicator-graphic'),\n",
    "            html.Br(),\n",
    "            html.I([html.B('Coordinate after Transformation')]),           \n",
    "            html.Table([\n",
    "            html.Tr([html.Td(['X', html.Sub(1), ': ']), html.Td(id='Xout')]),\n",
    "            html.Tr([html.Td(['Y', html.Sub(1), ': ']), html.Td(id='Yout')]),\n",
    "            html.Tr([html.Td(['Z', html.Sub(1), ': ']), html.Td(id='Zout')]),\n",
    "            ]),\n",
    "              \n",
    "        ],style={'width': '80%','height': '100%', 'float': 'right', 'display': 'inline-block'})\n",
    "                 \n",
    "    ]),\n",
    "    html.Br(),\n",
    "    html.B('Enter Initial Coordinate of Point'),             \n",
    "    html.Div([\n",
    "        html.Br(),\n",
    "        html.Label(['X', html.Sub(0), ': ']),\n",
    "        dcc.Input(id='p_x',type='number',value=1),\n",
    "        html.Br(),\n",
    "        html.Label(['Y', html.Sub(0), ': ']),\n",
    "        dcc.Input(id='p_y',type='number',value=2), \n",
    "        html.Br(),\n",
    "        # html.Label('Z0: '),\n",
    "        html.Label(['Z', html.Sub(0), ': ']),\n",
    "        dcc.Input(id='p_z',type='number',value=3),                              \n",
    "            \n",
    "    ],style={'width': '15%','padding': 5, 'display': 'inline-block'}  ),\n",
    "  \n",
    "])\n",
    "\n",
    "@app.callback(\n",
    "    Output('indicator-graphic','figure'),\n",
    "    Output('Xout','children'),\n",
    "    Output('Yout','children'),\n",
    "    Output('Zout','children'),\n",
    "    Input('ord', 'value'),\n",
    "    Input('typ', 'value'),\n",
    "    Input('t1', 'value'),\n",
    "    Input('t2', 'value'),\n",
    "    Input('t3', 'value'),\n",
    "    Input('rx', 'value'),\n",
    "    Input('ry', 'value'),\n",
    "    Input('rz', 'value'),\n",
    "    Input('l', 'value'),\n",
    "    Input('p_x', 'value'),\n",
    "    Input('p_y', 'value'),\n",
    "    Input('p_z', 'value')\n",
    "    )\n",
    "\n",
    "def update_graph(ord,typ,t1,t2,t3,rx,ry,rz,l,p_x,p_y,p_z):\n",
    "    Tr=[t1,t2,t3]\n",
    "    pnt=[p_x,p_y,p_z]\n",
    "    # fig= coordinatePlot(ord, Tr, rx, ry, rz, pnt,typ,l)\n",
    "    fig=coordinatePlot(order=ord, Tra=Tr, a_x=rx, a_y=ry, a_z=rz, point=pnt, type=typ,l=l)\n",
    "    Pout=coordinateTransform(order=ord, Tra=Tr, a_x=rx, a_y=ry, a_z=rz, point=pnt, type=typ)\n",
    "    return fig, Pout[0],Pout[1],Pout[2]\n",
    "\n",
    "if __name__ == '__main__':\n",
    "    app.run_server(debug=True)"
   ]
  }
 ],
 "metadata": {
  "kernelspec": {
   "display_name": "Python 3 (ipykernel)",
   "language": "python",
   "name": "python3"
  },
  "language_info": {
   "codemirror_mode": {
    "name": "ipython",
    "version": 3
   },
   "file_extension": ".py",
   "mimetype": "text/x-python",
   "name": "python",
   "nbconvert_exporter": "python",
   "pygments_lexer": "ipython3",
   "version": "3.9.1"
  },
  "toc": {
   "base_numbering": 1,
   "nav_menu": {},
   "number_sections": true,
   "sideBar": true,
   "skip_h1_title": true,
   "title_cell": "Table of Contents",
   "title_sidebar": "Contents",
   "toc_cell": true,
   "toc_position": {
    "height": "calc(100% - 180px)",
    "left": "10px",
    "top": "150px",
    "width": "286.237px"
   },
   "toc_section_display": true,
   "toc_window_display": false
  },
  "varInspector": {
   "cols": {
    "lenName": 16,
    "lenType": 16,
    "lenVar": 40
   },
   "kernels_config": {
    "python": {
     "delete_cmd_postfix": "",
     "delete_cmd_prefix": "del ",
     "library": "var_list.py",
     "varRefreshCmd": "print(var_dic_list())"
    },
    "r": {
     "delete_cmd_postfix": ") ",
     "delete_cmd_prefix": "rm(",
     "library": "var_list.r",
     "varRefreshCmd": "cat(var_dic_list()) "
    }
   },
   "types_to_exclude": [
    "module",
    "function",
    "builtin_function_or_method",
    "instance",
    "_Feature"
   ],
   "window_display": false
  }
 },
 "nbformat": 4,
 "nbformat_minor": 5
}
